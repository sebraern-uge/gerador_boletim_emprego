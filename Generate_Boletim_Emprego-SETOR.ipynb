{
 "cells": [
  {
   "cell_type": "markdown",
   "id": "10d17677",
   "metadata": {
    "papermill": {
     "duration": 0.017001,
     "end_time": "2025-07-15T19:07:37.339329",
     "exception": false,
     "start_time": "2025-07-15T19:07:37.322328",
     "status": "completed"
    },
    "tags": [
     "parameters"
    ]
   },
   "source": [
    "Para rodar, é necessário:\n",
    "- Criar pastas com os seguintes nomes: dados, img e pdfs\n",
    "- Colocar os dados necessários na pasta 'dados' (caged.csv, caged_nordeste.csv, cagedest_rn_saldo_mensal.csv, porte_mensal_rn_excel.xlsx e cnaes_subclasses.csv)\n",
    "    - Obs.: rodar 'build_caged.R' para obter esses dados.\n",
    "- Instalar as bibliotecas que estão comentadas abaixo"
   ]
  },
  {
   "cell_type": "code",
   "execution_count": 1,
   "id": "4524ab25",
   "metadata": {
    "execution": {
     "iopub.execute_input": "2025-07-15T19:07:37.362803Z",
     "iopub.status.busy": "2025-07-15T19:07:37.362514Z",
     "iopub.status.idle": "2025-07-15T19:07:37.367585Z",
     "shell.execute_reply": "2025-07-15T19:07:37.366623Z"
    },
    "papermill": {
     "duration": 0.026878,
     "end_time": "2025-07-15T19:07:37.378443",
     "exception": false,
     "start_time": "2025-07-15T19:07:37.351565",
     "status": "completed"
    },
    "tags": [
     "injected-parameters"
    ]
   },
   "outputs": [],
   "source": [
    "# Parameters\n",
    "setor = \"Agropecu\\xe1ria\"\n"
   ]
  },
  {
   "cell_type": "code",
   "execution_count": 2,
   "id": "4f93ca9b",
   "metadata": {
    "execution": {
     "iopub.execute_input": "2025-07-15T19:07:37.392090Z",
     "iopub.status.busy": "2025-07-15T19:07:37.391705Z",
     "iopub.status.idle": "2025-07-15T19:07:37.395833Z",
     "shell.execute_reply": "2025-07-15T19:07:37.394933Z"
    },
    "papermill": {
     "duration": 0.01232,
     "end_time": "2025-07-15T19:07:37.396802",
     "exception": false,
     "start_time": "2025-07-15T19:07:37.384482",
     "status": "completed"
    },
    "tags": []
   },
   "outputs": [],
   "source": [
    "# !pip install weasyprint\n",
    "# !pip install geobr\n",
    "# !pip install adjustText"
   ]
  },
  {
   "cell_type": "code",
   "execution_count": 3,
   "id": "8f1626f1",
   "metadata": {
    "execution": {
     "iopub.execute_input": "2025-07-15T19:07:37.411941Z",
     "iopub.status.busy": "2025-07-15T19:07:37.411695Z",
     "iopub.status.idle": "2025-07-15T19:07:41.206848Z",
     "shell.execute_reply": "2025-07-15T19:07:41.205967Z"
    },
    "id": "B-5qqm-im1bf",
    "papermill": {
     "duration": 3.805367,
     "end_time": "2025-07-15T19:07:41.208874",
     "exception": false,
     "start_time": "2025-07-15T19:07:37.403507",
     "status": "completed"
    },
    "tags": []
   },
   "outputs": [],
   "source": [
    "import seaborn as sns\n",
    "import pandas as pd\n",
    "import matplotlib.pyplot as plt\n",
    "import base64\n",
    "from io import BytesIO\n",
    "import weasyprint\n",
    "from pathlib import Path\n",
    "import matplotlib.dates as mdates\n",
    "import geopandas as gpd\n",
    "from shapely.geometry import box\n",
    "import geobr\n",
    "import matplotlib.pyplot as plt\n",
    "from adjustText import adjust_text\n",
    "from datetime import datetime\n",
    "from pathlib import Path"
   ]
  },
  {
   "cell_type": "code",
   "execution_count": 4,
   "id": "46d2470c",
   "metadata": {
    "execution": {
     "iopub.execute_input": "2025-07-15T19:07:41.227165Z",
     "iopub.status.busy": "2025-07-15T19:07:41.226597Z",
     "iopub.status.idle": "2025-07-15T19:07:41.230748Z",
     "shell.execute_reply": "2025-07-15T19:07:41.229999Z"
    },
    "papermill": {
     "duration": 0.015238,
     "end_time": "2025-07-15T19:07:41.232035",
     "exception": false,
     "start_time": "2025-07-15T19:07:41.216797",
     "status": "completed"
    },
    "tags": []
   },
   "outputs": [],
   "source": [
    "setor = setor.encode().decode('utf-8')"
   ]
  },
  {
   "cell_type": "markdown",
   "id": "a54ebcc0",
   "metadata": {
    "id": "UTN3lA_EmOC5",
    "papermill": {
     "duration": 0.007692,
     "end_time": "2025-07-15T19:07:41.247063",
     "exception": false,
     "start_time": "2025-07-15T19:07:41.239371",
     "status": "completed"
    },
    "tags": []
   },
   "source": [
    "# Dados"
   ]
  },
  {
   "cell_type": "code",
   "execution_count": 5,
   "id": "b2e4d291",
   "metadata": {
    "execution": {
     "iopub.execute_input": "2025-07-15T19:07:41.264787Z",
     "iopub.status.busy": "2025-07-15T19:07:41.264120Z",
     "iopub.status.idle": "2025-07-15T19:07:47.877751Z",
     "shell.execute_reply": "2025-07-15T19:07:47.876641Z"
    },
    "id": "5kCkfqIVkJSe",
    "papermill": {
     "duration": 6.624376,
     "end_time": "2025-07-15T19:07:47.879395",
     "exception": false,
     "start_time": "2025-07-15T19:07:41.255019",
     "status": "completed"
    },
    "tags": []
   },
   "outputs": [],
   "source": [
    "data = pd.read_csv(\"dados/caged.csv\")"
   ]
  },
  {
   "cell_type": "code",
   "execution_count": 6,
   "id": "5b7b6af6",
   "metadata": {
    "colab": {
     "base_uri": "https://localhost:8080/",
     "height": 343
    },
    "execution": {
     "iopub.execute_input": "2025-07-15T19:07:47.900891Z",
     "iopub.status.busy": "2025-07-15T19:07:47.900332Z",
     "iopub.status.idle": "2025-07-15T19:07:47.935215Z",
     "shell.execute_reply": "2025-07-15T19:07:47.934377Z"
    },
    "id": "0ZQ9GEPEkKoq",
    "outputId": "052c41b2-c99f-4962-c16c-20d4b6fdf4b6",
    "papermill": {
     "duration": 0.047395,
     "end_time": "2025-07-15T19:07:47.936367",
     "exception": false,
     "start_time": "2025-07-15T19:07:47.888972",
     "status": "completed"
    },
    "tags": []
   },
   "outputs": [
    {
     "data": {
      "text/html": [
       "<div>\n",
       "<style scoped>\n",
       "    .dataframe tbody tr th:only-of-type {\n",
       "        vertical-align: middle;\n",
       "    }\n",
       "\n",
       "    .dataframe tbody tr th {\n",
       "        vertical-align: top;\n",
       "    }\n",
       "\n",
       "    .dataframe thead th {\n",
       "        text-align: right;\n",
       "    }\n",
       "</style>\n",
       "<table border=\"1\" class=\"dataframe\">\n",
       "  <thead>\n",
       "    <tr style=\"text-align: right;\">\n",
       "      <th></th>\n",
       "      <th>competênciamov</th>\n",
       "      <th>região</th>\n",
       "      <th>uf</th>\n",
       "      <th>município</th>\n",
       "      <th>seção</th>\n",
       "      <th>subclasse</th>\n",
       "      <th>saldomovimentação</th>\n",
       "      <th>cbo2002ocupação</th>\n",
       "      <th>categoria</th>\n",
       "      <th>graudeinstrução</th>\n",
       "      <th>...</th>\n",
       "      <th>unidadesaláriocódigo</th>\n",
       "      <th>valorsaláriofixo</th>\n",
       "      <th>competênciaexc</th>\n",
       "      <th>indicadordeexclusão</th>\n",
       "      <th>admitidos</th>\n",
       "      <th>desligados</th>\n",
       "      <th>NI</th>\n",
       "      <th>grande_grupamento</th>\n",
       "      <th>porte</th>\n",
       "      <th>data</th>\n",
       "    </tr>\n",
       "  </thead>\n",
       "  <tbody>\n",
       "    <tr>\n",
       "      <th>0</th>\n",
       "      <td>202001</td>\n",
       "      <td>2</td>\n",
       "      <td>24</td>\n",
       "      <td>240810</td>\n",
       "      <td>G</td>\n",
       "      <td>4511102</td>\n",
       "      <td>-1</td>\n",
       "      <td>521110</td>\n",
       "      <td>101</td>\n",
       "      <td>6</td>\n",
       "      <td>...</td>\n",
       "      <td>5</td>\n",
       "      <td>103900.0</td>\n",
       "      <td>NaN</td>\n",
       "      <td>NaN</td>\n",
       "      <td>0</td>\n",
       "      <td>-1</td>\n",
       "      <td>NaN</td>\n",
       "      <td>Comércio</td>\n",
       "      <td>Micro</td>\n",
       "      <td>2020-01-01</td>\n",
       "    </tr>\n",
       "    <tr>\n",
       "      <th>1</th>\n",
       "      <td>202001</td>\n",
       "      <td>2</td>\n",
       "      <td>24</td>\n",
       "      <td>240810</td>\n",
       "      <td>Q</td>\n",
       "      <td>8630502</td>\n",
       "      <td>1</td>\n",
       "      <td>514320</td>\n",
       "      <td>101</td>\n",
       "      <td>7</td>\n",
       "      <td>...</td>\n",
       "      <td>5</td>\n",
       "      <td>106078.0</td>\n",
       "      <td>NaN</td>\n",
       "      <td>NaN</td>\n",
       "      <td>1</td>\n",
       "      <td>0</td>\n",
       "      <td>NaN</td>\n",
       "      <td>Serviços</td>\n",
       "      <td>Média</td>\n",
       "      <td>2020-01-01</td>\n",
       "    </tr>\n",
       "    <tr>\n",
       "      <th>2</th>\n",
       "      <td>202001</td>\n",
       "      <td>2</td>\n",
       "      <td>24</td>\n",
       "      <td>240810</td>\n",
       "      <td>N</td>\n",
       "      <td>8111700</td>\n",
       "      <td>-1</td>\n",
       "      <td>517410</td>\n",
       "      <td>101</td>\n",
       "      <td>3</td>\n",
       "      <td>...</td>\n",
       "      <td>5</td>\n",
       "      <td>96500.0</td>\n",
       "      <td>NaN</td>\n",
       "      <td>NaN</td>\n",
       "      <td>0</td>\n",
       "      <td>-1</td>\n",
       "      <td>NaN</td>\n",
       "      <td>Serviços</td>\n",
       "      <td>Grande</td>\n",
       "      <td>2020-01-01</td>\n",
       "    </tr>\n",
       "    <tr>\n",
       "      <th>3</th>\n",
       "      <td>202001</td>\n",
       "      <td>2</td>\n",
       "      <td>24</td>\n",
       "      <td>241420</td>\n",
       "      <td>I</td>\n",
       "      <td>5510801</td>\n",
       "      <td>-1</td>\n",
       "      <td>422105</td>\n",
       "      <td>999</td>\n",
       "      <td>7</td>\n",
       "      <td>...</td>\n",
       "      <td>99</td>\n",
       "      <td>NaN</td>\n",
       "      <td>NaN</td>\n",
       "      <td>NaN</td>\n",
       "      <td>0</td>\n",
       "      <td>-1</td>\n",
       "      <td>NaN</td>\n",
       "      <td>Serviços</td>\n",
       "      <td>Micro</td>\n",
       "      <td>2020-01-01</td>\n",
       "    </tr>\n",
       "    <tr>\n",
       "      <th>4</th>\n",
       "      <td>202001</td>\n",
       "      <td>2</td>\n",
       "      <td>24</td>\n",
       "      <td>240800</td>\n",
       "      <td>N</td>\n",
       "      <td>8299799</td>\n",
       "      <td>1</td>\n",
       "      <td>524105</td>\n",
       "      <td>101</td>\n",
       "      <td>7</td>\n",
       "      <td>...</td>\n",
       "      <td>5</td>\n",
       "      <td>103900.0</td>\n",
       "      <td>NaN</td>\n",
       "      <td>NaN</td>\n",
       "      <td>1</td>\n",
       "      <td>0</td>\n",
       "      <td>NaN</td>\n",
       "      <td>Serviços</td>\n",
       "      <td>Pequena</td>\n",
       "      <td>2020-01-01</td>\n",
       "    </tr>\n",
       "  </tbody>\n",
       "</table>\n",
       "<p>5 rows × 36 columns</p>\n",
       "</div>"
      ],
      "text/plain": [
       "   competênciamov  região  uf  município seção  subclasse  saldomovimentação  \\\n",
       "0          202001       2  24     240810     G    4511102                 -1   \n",
       "1          202001       2  24     240810     Q    8630502                  1   \n",
       "2          202001       2  24     240810     N    8111700                 -1   \n",
       "3          202001       2  24     241420     I    5510801                 -1   \n",
       "4          202001       2  24     240800     N    8299799                  1   \n",
       "\n",
       "   cbo2002ocupação  categoria  graudeinstrução  ...  unidadesaláriocódigo  \\\n",
       "0           521110        101                6  ...                     5   \n",
       "1           514320        101                7  ...                     5   \n",
       "2           517410        101                3  ...                     5   \n",
       "3           422105        999                7  ...                    99   \n",
       "4           524105        101                7  ...                     5   \n",
       "\n",
       "   valorsaláriofixo  competênciaexc  indicadordeexclusão  admitidos  \\\n",
       "0          103900.0             NaN                  NaN          0   \n",
       "1          106078.0             NaN                  NaN          1   \n",
       "2           96500.0             NaN                  NaN          0   \n",
       "3               NaN             NaN                  NaN          0   \n",
       "4          103900.0             NaN                  NaN          1   \n",
       "\n",
       "   desligados  NI  grande_grupamento    porte        data  \n",
       "0          -1 NaN           Comércio    Micro  2020-01-01  \n",
       "1           0 NaN           Serviços    Média  2020-01-01  \n",
       "2          -1 NaN           Serviços   Grande  2020-01-01  \n",
       "3          -1 NaN           Serviços    Micro  2020-01-01  \n",
       "4           0 NaN           Serviços  Pequena  2020-01-01  \n",
       "\n",
       "[5 rows x 36 columns]"
      ]
     },
     "execution_count": 6,
     "metadata": {},
     "output_type": "execute_result"
    }
   ],
   "source": [
    "data.head()"
   ]
  },
  {
   "cell_type": "code",
   "execution_count": 7,
   "id": "7000b8b3",
   "metadata": {
    "execution": {
     "iopub.execute_input": "2025-07-15T19:07:47.953180Z",
     "iopub.status.busy": "2025-07-15T19:07:47.952843Z",
     "iopub.status.idle": "2025-07-15T19:07:48.043349Z",
     "shell.execute_reply": "2025-07-15T19:07:48.042478Z"
    },
    "papermill": {
     "duration": 0.098942,
     "end_time": "2025-07-15T19:07:48.044397",
     "exception": false,
     "start_time": "2025-07-15T19:07:47.945455",
     "status": "completed"
    },
    "tags": []
   },
   "outputs": [
    {
     "data": {
      "text/plain": [
       "array(['Comércio', 'Serviços', 'Agropecuária', 'Construção', 'Indústria',\n",
       "       nan], dtype=object)"
      ]
     },
     "execution_count": 7,
     "metadata": {},
     "output_type": "execute_result"
    }
   ],
   "source": [
    "data['grande_grupamento'].unique()"
   ]
  },
  {
   "cell_type": "code",
   "execution_count": 8,
   "id": "4954aea7",
   "metadata": {
    "execution": {
     "iopub.execute_input": "2025-07-15T19:07:48.062986Z",
     "iopub.status.busy": "2025-07-15T19:07:48.062677Z",
     "iopub.status.idle": "2025-07-15T19:07:48.066366Z",
     "shell.execute_reply": "2025-07-15T19:07:48.065442Z"
    },
    "papermill": {
     "duration": 0.015436,
     "end_time": "2025-07-15T19:07:48.067445",
     "exception": false,
     "start_time": "2025-07-15T19:07:48.052009",
     "status": "completed"
    },
    "tags": []
   },
   "outputs": [],
   "source": [
    "# setor = \"Serviços\""
   ]
  },
  {
   "cell_type": "code",
   "execution_count": 9,
   "id": "2dfd3dab",
   "metadata": {
    "execution": {
     "iopub.execute_input": "2025-07-15T19:07:48.083057Z",
     "iopub.status.busy": "2025-07-15T19:07:48.082530Z",
     "iopub.status.idle": "2025-07-15T19:07:48.089262Z",
     "shell.execute_reply": "2025-07-15T19:07:48.088310Z"
    },
    "papermill": {
     "duration": 0.018416,
     "end_time": "2025-07-15T19:07:48.092266",
     "exception": false,
     "start_time": "2025-07-15T19:07:48.073850",
     "status": "completed"
    },
    "tags": []
   },
   "outputs": [
    {
     "name": "stdout",
     "output_type": "stream",
     "text": [
      "Agropecuária\n"
     ]
    }
   ],
   "source": [
    "print(setor)"
   ]
  },
  {
   "cell_type": "code",
   "execution_count": 10,
   "id": "fe4839f5",
   "metadata": {
    "execution": {
     "iopub.execute_input": "2025-07-15T19:07:48.113465Z",
     "iopub.status.busy": "2025-07-15T19:07:48.112920Z",
     "iopub.status.idle": "2025-07-15T19:07:48.287914Z",
     "shell.execute_reply": "2025-07-15T19:07:48.287094Z"
    },
    "papermill": {
     "duration": 0.18748,
     "end_time": "2025-07-15T19:07:48.289183",
     "exception": false,
     "start_time": "2025-07-15T19:07:48.101703",
     "status": "completed"
    },
    "tags": []
   },
   "outputs": [],
   "source": [
    "data = data[data[\"grande_grupamento\"]==setor]"
   ]
  },
  {
   "cell_type": "code",
   "execution_count": 11,
   "id": "357340d0",
   "metadata": {
    "execution": {
     "iopub.execute_input": "2025-07-15T19:07:48.304865Z",
     "iopub.status.busy": "2025-07-15T19:07:48.304579Z",
     "iopub.status.idle": "2025-07-15T19:07:48.317813Z",
     "shell.execute_reply": "2025-07-15T19:07:48.316922Z"
    },
    "papermill": {
     "duration": 0.021593,
     "end_time": "2025-07-15T19:07:48.318935",
     "exception": false,
     "start_time": "2025-07-15T19:07:48.297342",
     "status": "completed"
    },
    "tags": []
   },
   "outputs": [],
   "source": [
    "subclasses = pd.read_csv(\"dados/cnaes_subclasses.csv\",encoding='latin1', sep=';')"
   ]
  },
  {
   "cell_type": "code",
   "execution_count": 12,
   "id": "9a6a0b40",
   "metadata": {
    "execution": {
     "iopub.execute_input": "2025-07-15T19:07:48.334730Z",
     "iopub.status.busy": "2025-07-15T19:07:48.334419Z",
     "iopub.status.idle": "2025-07-15T19:07:48.338894Z",
     "shell.execute_reply": "2025-07-15T19:07:48.338210Z"
    },
    "papermill": {
     "duration": 0.014906,
     "end_time": "2025-07-15T19:07:48.341468",
     "exception": false,
     "start_time": "2025-07-15T19:07:48.326562",
     "status": "completed"
    },
    "tags": []
   },
   "outputs": [],
   "source": [
    "subclasses['num_cnae'] = subclasses['num_cnae'].fillna(0).astype(int)"
   ]
  },
  {
   "cell_type": "code",
   "execution_count": 13,
   "id": "7f0f9fb0",
   "metadata": {
    "execution": {
     "iopub.execute_input": "2025-07-15T19:07:48.360510Z",
     "iopub.status.busy": "2025-07-15T19:07:48.360233Z",
     "iopub.status.idle": "2025-07-15T19:07:48.367046Z",
     "shell.execute_reply": "2025-07-15T19:07:48.366016Z"
    },
    "papermill": {
     "duration": 0.017875,
     "end_time": "2025-07-15T19:07:48.367979",
     "exception": false,
     "start_time": "2025-07-15T19:07:48.350104",
     "status": "completed"
    },
    "tags": []
   },
   "outputs": [
    {
     "data": {
      "text/html": [
       "<div>\n",
       "<style scoped>\n",
       "    .dataframe tbody tr th:only-of-type {\n",
       "        vertical-align: middle;\n",
       "    }\n",
       "\n",
       "    .dataframe tbody tr th {\n",
       "        vertical-align: top;\n",
       "    }\n",
       "\n",
       "    .dataframe thead th {\n",
       "        text-align: right;\n",
       "    }\n",
       "</style>\n",
       "<table border=\"1\" class=\"dataframe\">\n",
       "  <thead>\n",
       "    <tr style=\"text-align: right;\">\n",
       "      <th></th>\n",
       "      <th>CNAE.CNAE_SUBCLASSE</th>\n",
       "      <th>num_cnae</th>\n",
       "      <th>desc_cnae</th>\n",
       "    </tr>\n",
       "  </thead>\n",
       "  <tbody>\n",
       "    <tr>\n",
       "      <th>0</th>\n",
       "      <td>7722500 - Aluguel de fitas de vídeo, DVDs e si...</td>\n",
       "      <td>7722500</td>\n",
       "      <td>Aluguel de fitas de vídeo, DVDs e similares</td>\n",
       "    </tr>\n",
       "    <tr>\n",
       "      <th>1</th>\n",
       "      <td>8630503 - Atividade médica ambulatorial restri...</td>\n",
       "      <td>8630503</td>\n",
       "      <td>Atividade médica ambulatorial restrita a consu...</td>\n",
       "    </tr>\n",
       "    <tr>\n",
       "      <th>2</th>\n",
       "      <td>133402 - Cultivo de banana</td>\n",
       "      <td>133402</td>\n",
       "      <td>Cultivo de banana</td>\n",
       "    </tr>\n",
       "    <tr>\n",
       "      <th>3</th>\n",
       "      <td>1321900 - Tecelagem de fios de algodão</td>\n",
       "      <td>1321900</td>\n",
       "      <td>Tecelagem de fios de algodão</td>\n",
       "    </tr>\n",
       "    <tr>\n",
       "      <th>4</th>\n",
       "      <td>8413200 - Regulação das atividades econômicas</td>\n",
       "      <td>8413200</td>\n",
       "      <td>Regulação das atividades econômicas</td>\n",
       "    </tr>\n",
       "  </tbody>\n",
       "</table>\n",
       "</div>"
      ],
      "text/plain": [
       "                                 CNAE.CNAE_SUBCLASSE  num_cnae  \\\n",
       "0  7722500 - Aluguel de fitas de vídeo, DVDs e si...   7722500   \n",
       "1  8630503 - Atividade médica ambulatorial restri...   8630503   \n",
       "2                         133402 - Cultivo de banana    133402   \n",
       "3             1321900 - Tecelagem de fios de algodão   1321900   \n",
       "4      8413200 - Regulação das atividades econômicas   8413200   \n",
       "\n",
       "                                           desc_cnae  \n",
       "0        Aluguel de fitas de vídeo, DVDs e similares  \n",
       "1  Atividade médica ambulatorial restrita a consu...  \n",
       "2                                  Cultivo de banana  \n",
       "3                       Tecelagem de fios de algodão  \n",
       "4                Regulação das atividades econômicas  "
      ]
     },
     "execution_count": 13,
     "metadata": {},
     "output_type": "execute_result"
    }
   ],
   "source": [
    "subclasses.head()"
   ]
  },
  {
   "cell_type": "code",
   "execution_count": 14,
   "id": "9c945531",
   "metadata": {
    "execution": {
     "iopub.execute_input": "2025-07-15T19:07:48.384180Z",
     "iopub.status.busy": "2025-07-15T19:07:48.383582Z",
     "iopub.status.idle": "2025-07-15T19:07:48.421568Z",
     "shell.execute_reply": "2025-07-15T19:07:48.420602Z"
    },
    "papermill": {
     "duration": 0.04775,
     "end_time": "2025-07-15T19:07:48.422709",
     "exception": false,
     "start_time": "2025-07-15T19:07:48.374959",
     "status": "completed"
    },
    "tags": []
   },
   "outputs": [],
   "source": [
    "# Realizar o merge com base na correspondência entre 'num_cnae' e 'subclasse'\n",
    "data = data.merge(subclasses[['num_cnae', 'desc_cnae']], \n",
    "                  how='left', \n",
    "                  left_on='subclasse', \n",
    "                  right_on='num_cnae')"
   ]
  },
  {
   "cell_type": "code",
   "execution_count": 15,
   "id": "9149533c",
   "metadata": {
    "execution": {
     "iopub.execute_input": "2025-07-15T19:07:48.444223Z",
     "iopub.status.busy": "2025-07-15T19:07:48.443619Z",
     "iopub.status.idle": "2025-07-15T19:07:48.465694Z",
     "shell.execute_reply": "2025-07-15T19:07:48.464808Z"
    },
    "papermill": {
     "duration": 0.034729,
     "end_time": "2025-07-15T19:07:48.466615",
     "exception": false,
     "start_time": "2025-07-15T19:07:48.431886",
     "status": "completed"
    },
    "tags": []
   },
   "outputs": [
    {
     "data": {
      "text/html": [
       "<div>\n",
       "<style scoped>\n",
       "    .dataframe tbody tr th:only-of-type {\n",
       "        vertical-align: middle;\n",
       "    }\n",
       "\n",
       "    .dataframe tbody tr th {\n",
       "        vertical-align: top;\n",
       "    }\n",
       "\n",
       "    .dataframe thead th {\n",
       "        text-align: right;\n",
       "    }\n",
       "</style>\n",
       "<table border=\"1\" class=\"dataframe\">\n",
       "  <thead>\n",
       "    <tr style=\"text-align: right;\">\n",
       "      <th></th>\n",
       "      <th>competênciamov</th>\n",
       "      <th>região</th>\n",
       "      <th>uf</th>\n",
       "      <th>município</th>\n",
       "      <th>seção</th>\n",
       "      <th>subclasse</th>\n",
       "      <th>saldomovimentação</th>\n",
       "      <th>cbo2002ocupação</th>\n",
       "      <th>categoria</th>\n",
       "      <th>graudeinstrução</th>\n",
       "      <th>...</th>\n",
       "      <th>competênciaexc</th>\n",
       "      <th>indicadordeexclusão</th>\n",
       "      <th>admitidos</th>\n",
       "      <th>desligados</th>\n",
       "      <th>NI</th>\n",
       "      <th>grande_grupamento</th>\n",
       "      <th>porte</th>\n",
       "      <th>data</th>\n",
       "      <th>num_cnae</th>\n",
       "      <th>desc_cnae</th>\n",
       "    </tr>\n",
       "  </thead>\n",
       "  <tbody>\n",
       "    <tr>\n",
       "      <th>0</th>\n",
       "      <td>202001</td>\n",
       "      <td>2</td>\n",
       "      <td>24</td>\n",
       "      <td>240990</td>\n",
       "      <td>A</td>\n",
       "      <td>321302</td>\n",
       "      <td>1</td>\n",
       "      <td>517420</td>\n",
       "      <td>101</td>\n",
       "      <td>1</td>\n",
       "      <td>...</td>\n",
       "      <td>NaN</td>\n",
       "      <td>NaN</td>\n",
       "      <td>1</td>\n",
       "      <td>0</td>\n",
       "      <td>NaN</td>\n",
       "      <td>Agropecuária</td>\n",
       "      <td>Micro</td>\n",
       "      <td>2020-01-01</td>\n",
       "      <td>321302.0</td>\n",
       "      <td>Criação de camarões em água salgada e salobra</td>\n",
       "    </tr>\n",
       "    <tr>\n",
       "      <th>1</th>\n",
       "      <td>202001</td>\n",
       "      <td>2</td>\n",
       "      <td>24</td>\n",
       "      <td>240020</td>\n",
       "      <td>A</td>\n",
       "      <td>119907</td>\n",
       "      <td>-1</td>\n",
       "      <td>622510</td>\n",
       "      <td>101</td>\n",
       "      <td>6</td>\n",
       "      <td>...</td>\n",
       "      <td>NaN</td>\n",
       "      <td>NaN</td>\n",
       "      <td>0</td>\n",
       "      <td>-1</td>\n",
       "      <td>NaN</td>\n",
       "      <td>Agropecuária</td>\n",
       "      <td>Média</td>\n",
       "      <td>2020-01-01</td>\n",
       "      <td>119907.0</td>\n",
       "      <td>Cultivo de melão</td>\n",
       "    </tr>\n",
       "    <tr>\n",
       "      <th>2</th>\n",
       "      <td>202001</td>\n",
       "      <td>2</td>\n",
       "      <td>24</td>\n",
       "      <td>240800</td>\n",
       "      <td>A</td>\n",
       "      <td>119908</td>\n",
       "      <td>-1</td>\n",
       "      <td>622510</td>\n",
       "      <td>101</td>\n",
       "      <td>2</td>\n",
       "      <td>...</td>\n",
       "      <td>NaN</td>\n",
       "      <td>NaN</td>\n",
       "      <td>0</td>\n",
       "      <td>-1</td>\n",
       "      <td>NaN</td>\n",
       "      <td>Agropecuária</td>\n",
       "      <td>Média</td>\n",
       "      <td>2020-01-01</td>\n",
       "      <td>119908.0</td>\n",
       "      <td>Cultivo de melancia</td>\n",
       "    </tr>\n",
       "    <tr>\n",
       "      <th>3</th>\n",
       "      <td>202001</td>\n",
       "      <td>2</td>\n",
       "      <td>24</td>\n",
       "      <td>240710</td>\n",
       "      <td>A</td>\n",
       "      <td>152102</td>\n",
       "      <td>-1</td>\n",
       "      <td>782510</td>\n",
       "      <td>101</td>\n",
       "      <td>7</td>\n",
       "      <td>...</td>\n",
       "      <td>NaN</td>\n",
       "      <td>NaN</td>\n",
       "      <td>0</td>\n",
       "      <td>-1</td>\n",
       "      <td>NaN</td>\n",
       "      <td>Agropecuária</td>\n",
       "      <td>Micro</td>\n",
       "      <td>2020-01-01</td>\n",
       "      <td>152102.0</td>\n",
       "      <td>Criação de equinos</td>\n",
       "    </tr>\n",
       "    <tr>\n",
       "      <th>4</th>\n",
       "      <td>202001</td>\n",
       "      <td>2</td>\n",
       "      <td>24</td>\n",
       "      <td>240230</td>\n",
       "      <td>A</td>\n",
       "      <td>119907</td>\n",
       "      <td>1</td>\n",
       "      <td>622505</td>\n",
       "      <td>101</td>\n",
       "      <td>2</td>\n",
       "      <td>...</td>\n",
       "      <td>NaN</td>\n",
       "      <td>NaN</td>\n",
       "      <td>1</td>\n",
       "      <td>0</td>\n",
       "      <td>NaN</td>\n",
       "      <td>Agropecuária</td>\n",
       "      <td>Média</td>\n",
       "      <td>2020-01-01</td>\n",
       "      <td>119907.0</td>\n",
       "      <td>Cultivo de melão</td>\n",
       "    </tr>\n",
       "  </tbody>\n",
       "</table>\n",
       "<p>5 rows × 38 columns</p>\n",
       "</div>"
      ],
      "text/plain": [
       "   competênciamov  região  uf  município seção  subclasse  saldomovimentação  \\\n",
       "0          202001       2  24     240990     A     321302                  1   \n",
       "1          202001       2  24     240020     A     119907                 -1   \n",
       "2          202001       2  24     240800     A     119908                 -1   \n",
       "3          202001       2  24     240710     A     152102                 -1   \n",
       "4          202001       2  24     240230     A     119907                  1   \n",
       "\n",
       "   cbo2002ocupação  categoria  graudeinstrução  ...  competênciaexc  \\\n",
       "0           517420        101                1  ...             NaN   \n",
       "1           622510        101                6  ...             NaN   \n",
       "2           622510        101                2  ...             NaN   \n",
       "3           782510        101                7  ...             NaN   \n",
       "4           622505        101                2  ...             NaN   \n",
       "\n",
       "   indicadordeexclusão  admitidos  desligados  NI  grande_grupamento  porte  \\\n",
       "0                  NaN          1           0 NaN       Agropecuária  Micro   \n",
       "1                  NaN          0          -1 NaN       Agropecuária  Média   \n",
       "2                  NaN          0          -1 NaN       Agropecuária  Média   \n",
       "3                  NaN          0          -1 NaN       Agropecuária  Micro   \n",
       "4                  NaN          1           0 NaN       Agropecuária  Média   \n",
       "\n",
       "         data  num_cnae                                      desc_cnae  \n",
       "0  2020-01-01  321302.0  Criação de camarões em água salgada e salobra  \n",
       "1  2020-01-01  119907.0                               Cultivo de melão  \n",
       "2  2020-01-01  119908.0                            Cultivo de melancia  \n",
       "3  2020-01-01  152102.0                             Criação de equinos  \n",
       "4  2020-01-01  119907.0                               Cultivo de melão  \n",
       "\n",
       "[5 rows x 38 columns]"
      ]
     },
     "execution_count": 15,
     "metadata": {},
     "output_type": "execute_result"
    }
   ],
   "source": [
    "data.head()"
   ]
  },
  {
   "cell_type": "code",
   "execution_count": 16,
   "id": "a77d6b46",
   "metadata": {
    "execution": {
     "iopub.execute_input": "2025-07-15T19:07:48.484562Z",
     "iopub.status.busy": "2025-07-15T19:07:48.484262Z",
     "iopub.status.idle": "2025-07-15T19:07:48.488828Z",
     "shell.execute_reply": "2025-07-15T19:07:48.488274Z"
    },
    "papermill": {
     "duration": 0.016176,
     "end_time": "2025-07-15T19:07:48.490949",
     "exception": false,
     "start_time": "2025-07-15T19:07:48.474773",
     "status": "completed"
    },
    "tags": []
   },
   "outputs": [
    {
     "data": {
      "text/plain": [
       "(131725, 38)"
      ]
     },
     "execution_count": 16,
     "metadata": {},
     "output_type": "execute_result"
    }
   ],
   "source": [
    "data.shape"
   ]
  },
  {
   "cell_type": "code",
   "execution_count": 17,
   "id": "a5277d8d",
   "metadata": {
    "execution": {
     "iopub.execute_input": "2025-07-15T19:07:48.511486Z",
     "iopub.status.busy": "2025-07-15T19:07:48.510890Z",
     "iopub.status.idle": "2025-07-15T19:07:48.571327Z",
     "shell.execute_reply": "2025-07-15T19:07:48.570620Z"
    },
    "papermill": {
     "duration": 0.073375,
     "end_time": "2025-07-15T19:07:48.572470",
     "exception": false,
     "start_time": "2025-07-15T19:07:48.499095",
     "status": "completed"
    },
    "tags": []
   },
   "outputs": [],
   "source": [
    "data['ano'] = data['competênciamov'].astype(str).str[:4]"
   ]
  },
  {
   "cell_type": "code",
   "execution_count": 18,
   "id": "7d79c42a",
   "metadata": {
    "execution": {
     "iopub.execute_input": "2025-07-15T19:07:48.593796Z",
     "iopub.status.busy": "2025-07-15T19:07:48.593224Z",
     "iopub.status.idle": "2025-07-15T19:07:48.621033Z",
     "shell.execute_reply": "2025-07-15T19:07:48.620225Z"
    },
    "papermill": {
     "duration": 0.039562,
     "end_time": "2025-07-15T19:07:48.622162",
     "exception": false,
     "start_time": "2025-07-15T19:07:48.582600",
     "status": "completed"
    },
    "tags": []
   },
   "outputs": [],
   "source": [
    "data['data'] = pd.to_datetime(data['data'])\n",
    "# Encontrar a data mais nome\n",
    "data_mais_recente = data['data'].max()"
   ]
  },
  {
   "cell_type": "code",
   "execution_count": 19,
   "id": "dfa14d3a",
   "metadata": {
    "execution": {
     "iopub.execute_input": "2025-07-15T19:07:48.639105Z",
     "iopub.status.busy": "2025-07-15T19:07:48.638568Z",
     "iopub.status.idle": "2025-07-15T19:07:48.644485Z",
     "shell.execute_reply": "2025-07-15T19:07:48.643869Z"
    },
    "papermill": {
     "duration": 0.014992,
     "end_time": "2025-07-15T19:07:48.645619",
     "exception": false,
     "start_time": "2025-07-15T19:07:48.630627",
     "status": "completed"
    },
    "tags": []
   },
   "outputs": [],
   "source": [
    "# Converter para o formato 'YYYYMM' como string\n",
    "competencia = data_mais_recente.strftime('%Y%m')"
   ]
  },
  {
   "cell_type": "code",
   "execution_count": 20,
   "id": "36f4826a",
   "metadata": {
    "execution": {
     "iopub.execute_input": "2025-07-15T19:07:48.665266Z",
     "iopub.status.busy": "2025-07-15T19:07:48.664955Z",
     "iopub.status.idle": "2025-07-15T19:07:48.668309Z",
     "shell.execute_reply": "2025-07-15T19:07:48.667795Z"
    },
    "papermill": {
     "duration": 0.0155,
     "end_time": "2025-07-15T19:07:48.669229",
     "exception": false,
     "start_time": "2025-07-15T19:07:48.653729",
     "status": "completed"
    },
    "tags": []
   },
   "outputs": [
    {
     "name": "stdout",
     "output_type": "stream",
     "text": [
      "Competência: 202505\n"
     ]
    }
   ],
   "source": [
    "print(\"Competência:\", competencia)"
   ]
  },
  {
   "cell_type": "code",
   "execution_count": 21,
   "id": "72f94a5a",
   "metadata": {
    "execution": {
     "iopub.execute_input": "2025-07-15T19:07:48.687018Z",
     "iopub.status.busy": "2025-07-15T19:07:48.686468Z",
     "iopub.status.idle": "2025-07-15T19:07:48.710451Z",
     "shell.execute_reply": "2025-07-15T19:07:48.709888Z"
    },
    "papermill": {
     "duration": 0.032861,
     "end_time": "2025-07-15T19:07:48.711447",
     "exception": false,
     "start_time": "2025-07-15T19:07:48.678586",
     "status": "completed"
    },
    "tags": []
   },
   "outputs": [
    {
     "name": "stdout",
     "output_type": "stream",
     "text": [
      "Data por extenso: Maio de 2025\n"
     ]
    }
   ],
   "source": [
    "import locale\n",
    "\n",
    "# Configurar o locale para o idioma português do Brasil\n",
    "locale.setlocale(locale.LC_TIME, 'pt_BR.UTF-8')\n",
    "\n",
    "# Converter a data mais recente para um texto por extenso\n",
    "mes_referente = data_mais_recente.strftime('%B de %Y').capitalize()\n",
    "\n",
    "# Exibir a data por extenso\n",
    "print(\"Data por extenso:\", mes_referente)\n"
   ]
  },
  {
   "cell_type": "code",
   "execution_count": 22,
   "id": "bf900ebb",
   "metadata": {
    "execution": {
     "iopub.execute_input": "2025-07-15T19:07:48.731247Z",
     "iopub.status.busy": "2025-07-15T19:07:48.730739Z",
     "iopub.status.idle": "2025-07-15T19:07:48.752182Z",
     "shell.execute_reply": "2025-07-15T19:07:48.751020Z"
    },
    "papermill": {
     "duration": 0.034063,
     "end_time": "2025-07-15T19:07:48.753337",
     "exception": false,
     "start_time": "2025-07-15T19:07:48.719274",
     "status": "completed"
    },
    "tags": []
   },
   "outputs": [],
   "source": [
    "meses_pt = {\n",
    "    1: 'janeiro', 2: 'fevereiro', 3: 'março',\n",
    "    4: 'abril', 5: 'maio', 6: 'junho',\n",
    "    7: 'julho', 8: 'agosto', 9: 'setembro',\n",
    "    10: 'outubro', 11: 'novembro', 12: 'dezembro'\n",
    "}\n",
    "\n",
    "data_mais_recente = pd.to_datetime(data['data']).max()\n",
    "mes_referente = f\"{meses_pt[data_mais_recente.month]} de {data_mais_recente.year}\"\n",
    "mes_referente = mes_referente.capitalize()\n"
   ]
  },
  {
   "cell_type": "code",
   "execution_count": 23,
   "id": "b793c9a5",
   "metadata": {
    "execution": {
     "iopub.execute_input": "2025-07-15T19:07:48.769692Z",
     "iopub.status.busy": "2025-07-15T19:07:48.769253Z",
     "iopub.status.idle": "2025-07-15T19:07:48.774422Z",
     "shell.execute_reply": "2025-07-15T19:07:48.772322Z"
    },
    "papermill": {
     "duration": 0.014512,
     "end_time": "2025-07-15T19:07:48.775965",
     "exception": false,
     "start_time": "2025-07-15T19:07:48.761453",
     "status": "completed"
    },
    "tags": []
   },
   "outputs": [
    {
     "name": "stdout",
     "output_type": "stream",
     "text": [
      "Data por extenso: Maio de 2025\n"
     ]
    }
   ],
   "source": [
    "print(\"Data por extenso:\", mes_referente)"
   ]
  },
  {
   "cell_type": "code",
   "execution_count": 24,
   "id": "b2764a0b",
   "metadata": {
    "execution": {
     "iopub.execute_input": "2025-07-15T19:07:48.792950Z",
     "iopub.status.busy": "2025-07-15T19:07:48.792542Z",
     "iopub.status.idle": "2025-07-15T19:07:48.796208Z",
     "shell.execute_reply": "2025-07-15T19:07:48.795619Z"
    },
    "papermill": {
     "duration": 0.013775,
     "end_time": "2025-07-15T19:07:48.797128",
     "exception": false,
     "start_time": "2025-07-15T19:07:48.783353",
     "status": "completed"
    },
    "tags": []
   },
   "outputs": [],
   "source": [
    "mes_nome = mes_referente.split()[0]\n",
    "ano = mes_referente.split()[-1]"
   ]
  },
  {
   "cell_type": "code",
   "execution_count": 25,
   "id": "562e3283",
   "metadata": {
    "execution": {
     "iopub.execute_input": "2025-07-15T19:07:48.814205Z",
     "iopub.status.busy": "2025-07-15T19:07:48.813719Z",
     "iopub.status.idle": "2025-07-15T19:07:48.818514Z",
     "shell.execute_reply": "2025-07-15T19:07:48.817551Z"
    },
    "papermill": {
     "duration": 0.014561,
     "end_time": "2025-07-15T19:07:48.819397",
     "exception": false,
     "start_time": "2025-07-15T19:07:48.804836",
     "status": "completed"
    },
    "tags": []
   },
   "outputs": [
    {
     "data": {
      "text/plain": [
       "Index(['competênciamov', 'região', 'uf', 'município', 'seção', 'subclasse',\n",
       "       'saldomovimentação', 'cbo2002ocupação', 'categoria', 'graudeinstrução',\n",
       "       'idade', 'horascontratuais', 'raçacor', 'sexo', 'tipoempregador',\n",
       "       'tipoestabelecimento', 'tipomovimentação', 'tipodedeficiência',\n",
       "       'indtrabintermitente', 'indtrabparcial', 'salário', 'tamestabjan',\n",
       "       'indicadoraprendiz', 'origemdainformação', 'competênciadec',\n",
       "       'indicadordeforadoprazo', 'unidadesaláriocódigo', 'valorsaláriofixo',\n",
       "       'competênciaexc', 'indicadordeexclusão', 'admitidos', 'desligados',\n",
       "       'NI', 'grande_grupamento', 'porte', 'data', 'num_cnae', 'desc_cnae',\n",
       "       'ano'],\n",
       "      dtype='object')"
      ]
     },
     "execution_count": 25,
     "metadata": {},
     "output_type": "execute_result"
    }
   ],
   "source": [
    "data.columns"
   ]
  },
  {
   "cell_type": "code",
   "execution_count": 26,
   "id": "896d3763",
   "metadata": {
    "execution": {
     "iopub.execute_input": "2025-07-15T19:07:48.836813Z",
     "iopub.status.busy": "2025-07-15T19:07:48.836317Z",
     "iopub.status.idle": "2025-07-15T19:07:48.896139Z",
     "shell.execute_reply": "2025-07-15T19:07:48.895582Z"
    },
    "id": "426z8dOsmNNi",
    "papermill": {
     "duration": 0.068752,
     "end_time": "2025-07-15T19:07:48.897271",
     "exception": false,
     "start_time": "2025-07-15T19:07:48.828519",
     "status": "completed"
    },
    "tags": []
   },
   "outputs": [],
   "source": [
    "data['competênciamov'] = data['competênciamov'].astype(str)\n",
    "\n",
    "admissoes = data.loc[(data['saldomovimentação'] == 1) & (data['competênciamov'] == competencia)]\n",
    "total_admissoes = admissoes['saldomovimentação'].sum()\n",
    "\n",
    "desligamentos = data.loc[(data['saldomovimentação'] == -1) & (data['competênciamov'] == competencia)]\n",
    "total_desligamentos = -desligamentos['saldomovimentação'].sum()\n",
    "\n",
    "saldo = data.loc[(data['competênciamov'] == competencia)]['saldomovimentação'].sum()"
   ]
  },
  {
   "cell_type": "code",
   "execution_count": 27,
   "id": "8388ca3f",
   "metadata": {
    "execution": {
     "iopub.execute_input": "2025-07-15T19:07:48.917969Z",
     "iopub.status.busy": "2025-07-15T19:07:48.917423Z",
     "iopub.status.idle": "2025-07-15T19:07:48.933086Z",
     "shell.execute_reply": "2025-07-15T19:07:48.932444Z"
    },
    "id": "4DTKBM0kjqo6",
    "papermill": {
     "duration": 0.0287,
     "end_time": "2025-07-15T19:07:48.934231",
     "exception": false,
     "start_time": "2025-07-15T19:07:48.905531",
     "status": "completed"
    },
    "tags": []
   },
   "outputs": [],
   "source": [
    "data['data'] = pd.to_datetime(data['data'])"
   ]
  },
  {
   "cell_type": "code",
   "execution_count": 28,
   "id": "e9460248",
   "metadata": {
    "colab": {
     "base_uri": "https://localhost:8080/",
     "height": 343
    },
    "execution": {
     "iopub.execute_input": "2025-07-15T19:07:48.952232Z",
     "iopub.status.busy": "2025-07-15T19:07:48.951800Z",
     "iopub.status.idle": "2025-07-15T19:07:48.967991Z",
     "shell.execute_reply": "2025-07-15T19:07:48.967168Z"
    },
    "id": "0sQqKQOH1MlK",
    "outputId": "a8524ab6-f489-423b-a775-f32c4789be94",
    "papermill": {
     "duration": 0.024678,
     "end_time": "2025-07-15T19:07:48.968929",
     "exception": false,
     "start_time": "2025-07-15T19:07:48.944251",
     "status": "completed"
    },
    "tags": []
   },
   "outputs": [
    {
     "data": {
      "text/html": [
       "<div>\n",
       "<style scoped>\n",
       "    .dataframe tbody tr th:only-of-type {\n",
       "        vertical-align: middle;\n",
       "    }\n",
       "\n",
       "    .dataframe tbody tr th {\n",
       "        vertical-align: top;\n",
       "    }\n",
       "\n",
       "    .dataframe thead th {\n",
       "        text-align: right;\n",
       "    }\n",
       "</style>\n",
       "<table border=\"1\" class=\"dataframe\">\n",
       "  <thead>\n",
       "    <tr style=\"text-align: right;\">\n",
       "      <th></th>\n",
       "      <th>competênciamov</th>\n",
       "      <th>região</th>\n",
       "      <th>uf</th>\n",
       "      <th>município</th>\n",
       "      <th>seção</th>\n",
       "      <th>subclasse</th>\n",
       "      <th>saldomovimentação</th>\n",
       "      <th>cbo2002ocupação</th>\n",
       "      <th>categoria</th>\n",
       "      <th>graudeinstrução</th>\n",
       "      <th>...</th>\n",
       "      <th>indicadordeexclusão</th>\n",
       "      <th>admitidos</th>\n",
       "      <th>desligados</th>\n",
       "      <th>NI</th>\n",
       "      <th>grande_grupamento</th>\n",
       "      <th>porte</th>\n",
       "      <th>data</th>\n",
       "      <th>num_cnae</th>\n",
       "      <th>desc_cnae</th>\n",
       "      <th>ano</th>\n",
       "    </tr>\n",
       "  </thead>\n",
       "  <tbody>\n",
       "    <tr>\n",
       "      <th>0</th>\n",
       "      <td>202001</td>\n",
       "      <td>2</td>\n",
       "      <td>24</td>\n",
       "      <td>240990</td>\n",
       "      <td>A</td>\n",
       "      <td>321302</td>\n",
       "      <td>1</td>\n",
       "      <td>517420</td>\n",
       "      <td>101</td>\n",
       "      <td>1</td>\n",
       "      <td>...</td>\n",
       "      <td>NaN</td>\n",
       "      <td>1</td>\n",
       "      <td>0</td>\n",
       "      <td>NaN</td>\n",
       "      <td>Agropecuária</td>\n",
       "      <td>Micro</td>\n",
       "      <td>2020-01-01</td>\n",
       "      <td>321302.0</td>\n",
       "      <td>Criação de camarões em água salgada e salobra</td>\n",
       "      <td>2020</td>\n",
       "    </tr>\n",
       "    <tr>\n",
       "      <th>1</th>\n",
       "      <td>202001</td>\n",
       "      <td>2</td>\n",
       "      <td>24</td>\n",
       "      <td>240020</td>\n",
       "      <td>A</td>\n",
       "      <td>119907</td>\n",
       "      <td>-1</td>\n",
       "      <td>622510</td>\n",
       "      <td>101</td>\n",
       "      <td>6</td>\n",
       "      <td>...</td>\n",
       "      <td>NaN</td>\n",
       "      <td>0</td>\n",
       "      <td>-1</td>\n",
       "      <td>NaN</td>\n",
       "      <td>Agropecuária</td>\n",
       "      <td>Média</td>\n",
       "      <td>2020-01-01</td>\n",
       "      <td>119907.0</td>\n",
       "      <td>Cultivo de melão</td>\n",
       "      <td>2020</td>\n",
       "    </tr>\n",
       "    <tr>\n",
       "      <th>2</th>\n",
       "      <td>202001</td>\n",
       "      <td>2</td>\n",
       "      <td>24</td>\n",
       "      <td>240800</td>\n",
       "      <td>A</td>\n",
       "      <td>119908</td>\n",
       "      <td>-1</td>\n",
       "      <td>622510</td>\n",
       "      <td>101</td>\n",
       "      <td>2</td>\n",
       "      <td>...</td>\n",
       "      <td>NaN</td>\n",
       "      <td>0</td>\n",
       "      <td>-1</td>\n",
       "      <td>NaN</td>\n",
       "      <td>Agropecuária</td>\n",
       "      <td>Média</td>\n",
       "      <td>2020-01-01</td>\n",
       "      <td>119908.0</td>\n",
       "      <td>Cultivo de melancia</td>\n",
       "      <td>2020</td>\n",
       "    </tr>\n",
       "    <tr>\n",
       "      <th>3</th>\n",
       "      <td>202001</td>\n",
       "      <td>2</td>\n",
       "      <td>24</td>\n",
       "      <td>240710</td>\n",
       "      <td>A</td>\n",
       "      <td>152102</td>\n",
       "      <td>-1</td>\n",
       "      <td>782510</td>\n",
       "      <td>101</td>\n",
       "      <td>7</td>\n",
       "      <td>...</td>\n",
       "      <td>NaN</td>\n",
       "      <td>0</td>\n",
       "      <td>-1</td>\n",
       "      <td>NaN</td>\n",
       "      <td>Agropecuária</td>\n",
       "      <td>Micro</td>\n",
       "      <td>2020-01-01</td>\n",
       "      <td>152102.0</td>\n",
       "      <td>Criação de equinos</td>\n",
       "      <td>2020</td>\n",
       "    </tr>\n",
       "    <tr>\n",
       "      <th>4</th>\n",
       "      <td>202001</td>\n",
       "      <td>2</td>\n",
       "      <td>24</td>\n",
       "      <td>240230</td>\n",
       "      <td>A</td>\n",
       "      <td>119907</td>\n",
       "      <td>1</td>\n",
       "      <td>622505</td>\n",
       "      <td>101</td>\n",
       "      <td>2</td>\n",
       "      <td>...</td>\n",
       "      <td>NaN</td>\n",
       "      <td>1</td>\n",
       "      <td>0</td>\n",
       "      <td>NaN</td>\n",
       "      <td>Agropecuária</td>\n",
       "      <td>Média</td>\n",
       "      <td>2020-01-01</td>\n",
       "      <td>119907.0</td>\n",
       "      <td>Cultivo de melão</td>\n",
       "      <td>2020</td>\n",
       "    </tr>\n",
       "  </tbody>\n",
       "</table>\n",
       "<p>5 rows × 39 columns</p>\n",
       "</div>"
      ],
      "text/plain": [
       "  competênciamov  região  uf  município seção  subclasse  saldomovimentação  \\\n",
       "0         202001       2  24     240990     A     321302                  1   \n",
       "1         202001       2  24     240020     A     119907                 -1   \n",
       "2         202001       2  24     240800     A     119908                 -1   \n",
       "3         202001       2  24     240710     A     152102                 -1   \n",
       "4         202001       2  24     240230     A     119907                  1   \n",
       "\n",
       "   cbo2002ocupação  categoria  graudeinstrução  ...  indicadordeexclusão  \\\n",
       "0           517420        101                1  ...                  NaN   \n",
       "1           622510        101                6  ...                  NaN   \n",
       "2           622510        101                2  ...                  NaN   \n",
       "3           782510        101                7  ...                  NaN   \n",
       "4           622505        101                2  ...                  NaN   \n",
       "\n",
       "   admitidos  desligados  NI  grande_grupamento  porte       data  num_cnae  \\\n",
       "0          1           0 NaN       Agropecuária  Micro 2020-01-01  321302.0   \n",
       "1          0          -1 NaN       Agropecuária  Média 2020-01-01  119907.0   \n",
       "2          0          -1 NaN       Agropecuária  Média 2020-01-01  119908.0   \n",
       "3          0          -1 NaN       Agropecuária  Micro 2020-01-01  152102.0   \n",
       "4          1           0 NaN       Agropecuária  Média 2020-01-01  119907.0   \n",
       "\n",
       "                                       desc_cnae   ano  \n",
       "0  Criação de camarões em água salgada e salobra  2020  \n",
       "1                               Cultivo de melão  2020  \n",
       "2                            Cultivo de melancia  2020  \n",
       "3                             Criação de equinos  2020  \n",
       "4                               Cultivo de melão  2020  \n",
       "\n",
       "[5 rows x 39 columns]"
      ]
     },
     "execution_count": 28,
     "metadata": {},
     "output_type": "execute_result"
    }
   ],
   "source": [
    "data.head()"
   ]
  },
  {
   "cell_type": "code",
   "execution_count": 29,
   "id": "5ce7b760",
   "metadata": {
    "execution": {
     "iopub.execute_input": "2025-07-15T19:07:48.985961Z",
     "iopub.status.busy": "2025-07-15T19:07:48.985522Z",
     "iopub.status.idle": "2025-07-15T19:07:49.001029Z",
     "shell.execute_reply": "2025-07-15T19:07:49.000481Z"
    },
    "papermill": {
     "duration": 0.024699,
     "end_time": "2025-07-15T19:07:49.001995",
     "exception": false,
     "start_time": "2025-07-15T19:07:48.977296",
     "status": "completed"
    },
    "tags": []
   },
   "outputs": [
    {
     "data": {
      "text/html": [
       "<div>\n",
       "<style scoped>\n",
       "    .dataframe tbody tr th:only-of-type {\n",
       "        vertical-align: middle;\n",
       "    }\n",
       "\n",
       "    .dataframe tbody tr th {\n",
       "        vertical-align: top;\n",
       "    }\n",
       "\n",
       "    .dataframe thead th {\n",
       "        text-align: right;\n",
       "    }\n",
       "</style>\n",
       "<table border=\"1\" class=\"dataframe\">\n",
       "  <thead>\n",
       "    <tr style=\"text-align: right;\">\n",
       "      <th></th>\n",
       "      <th>data</th>\n",
       "      <th>saldomovimentação</th>\n",
       "    </tr>\n",
       "  </thead>\n",
       "  <tbody>\n",
       "    <tr>\n",
       "      <th>0</th>\n",
       "      <td>2020-01-01</td>\n",
       "      <td>-1345</td>\n",
       "    </tr>\n",
       "    <tr>\n",
       "      <th>1</th>\n",
       "      <td>2020-02-01</td>\n",
       "      <td>-2323</td>\n",
       "    </tr>\n",
       "    <tr>\n",
       "      <th>2</th>\n",
       "      <td>2020-03-01</td>\n",
       "      <td>-1566</td>\n",
       "    </tr>\n",
       "    <tr>\n",
       "      <th>3</th>\n",
       "      <td>2020-04-01</td>\n",
       "      <td>-868</td>\n",
       "    </tr>\n",
       "    <tr>\n",
       "      <th>4</th>\n",
       "      <td>2020-05-01</td>\n",
       "      <td>-27</td>\n",
       "    </tr>\n",
       "    <tr>\n",
       "      <th>...</th>\n",
       "      <td>...</td>\n",
       "      <td>...</td>\n",
       "    </tr>\n",
       "    <tr>\n",
       "      <th>60</th>\n",
       "      <td>2025-01-01</td>\n",
       "      <td>-621</td>\n",
       "    </tr>\n",
       "    <tr>\n",
       "      <th>61</th>\n",
       "      <td>2025-02-01</td>\n",
       "      <td>-1049</td>\n",
       "    </tr>\n",
       "    <tr>\n",
       "      <th>62</th>\n",
       "      <td>2025-03-01</td>\n",
       "      <td>-2112</td>\n",
       "    </tr>\n",
       "    <tr>\n",
       "      <th>63</th>\n",
       "      <td>2025-04-01</td>\n",
       "      <td>-614</td>\n",
       "    </tr>\n",
       "    <tr>\n",
       "      <th>64</th>\n",
       "      <td>2025-05-01</td>\n",
       "      <td>356</td>\n",
       "    </tr>\n",
       "  </tbody>\n",
       "</table>\n",
       "<p>65 rows × 2 columns</p>\n",
       "</div>"
      ],
      "text/plain": [
       "         data  saldomovimentação\n",
       "0  2020-01-01              -1345\n",
       "1  2020-02-01              -2323\n",
       "2  2020-03-01              -1566\n",
       "3  2020-04-01               -868\n",
       "4  2020-05-01                -27\n",
       "..        ...                ...\n",
       "60 2025-01-01               -621\n",
       "61 2025-02-01              -1049\n",
       "62 2025-03-01              -2112\n",
       "63 2025-04-01               -614\n",
       "64 2025-05-01                356\n",
       "\n",
       "[65 rows x 2 columns]"
      ]
     },
     "execution_count": 29,
     "metadata": {},
     "output_type": "execute_result"
    }
   ],
   "source": [
    "saldo_por_data = data.groupby('data')['saldomovimentação'].sum().reset_index()\n",
    "saldo_por_data\n"
   ]
  },
  {
   "cell_type": "code",
   "execution_count": 30,
   "id": "9d42c1ae",
   "metadata": {
    "colab": {
     "base_uri": "https://localhost:8080/"
    },
    "execution": {
     "iopub.execute_input": "2025-07-15T19:07:49.019745Z",
     "iopub.status.busy": "2025-07-15T19:07:49.019314Z",
     "iopub.status.idle": "2025-07-15T19:07:49.029178Z",
     "shell.execute_reply": "2025-07-15T19:07:49.028595Z"
    },
    "id": "xB8x7X7Mh_ol",
    "outputId": "26cc60eb-ff8f-4ceb-c090-09876598d629",
    "papermill": {
     "duration": 0.0187,
     "end_time": "2025-07-15T19:07:49.030197",
     "exception": false,
     "start_time": "2025-07-15T19:07:49.011497",
     "status": "completed"
    },
    "tags": []
   },
   "outputs": [
    {
     "name": "stdout",
     "output_type": "stream",
     "text": [
      "           data  Saldo\n",
      "0    2007-01-01    351\n",
      "1    2007-02-01  -1394\n",
      "2    2007-03-01  -1076\n",
      "3    2007-04-01   1615\n",
      "4    2007-05-01   1355\n",
      "..          ...    ...\n",
      "151  2019-08-01   3951\n",
      "152  2019-09-01   2513\n",
      "153  2019-10-01   3025\n",
      "154  2019-11-01   1597\n",
      "155  2019-12-01  -3133\n",
      "\n",
      "[156 rows x 2 columns]\n"
     ]
    }
   ],
   "source": [
    "cagedest_rn_saldo_mensal =  pd.read_csv(\"dados/cagedest_rn_saldo_mensal.csv\")\n",
    "print(cagedest_rn_saldo_mensal)"
   ]
  },
  {
   "cell_type": "code",
   "execution_count": 31,
   "id": "d71ee80f",
   "metadata": {
    "colab": {
     "base_uri": "https://localhost:8080/"
    },
    "execution": {
     "iopub.execute_input": "2025-07-15T19:07:49.051082Z",
     "iopub.status.busy": "2025-07-15T19:07:49.050749Z",
     "iopub.status.idle": "2025-07-15T19:07:49.650753Z",
     "shell.execute_reply": "2025-07-15T19:07:49.649812Z"
    },
    "id": "n_N2E9Ahn0XN",
    "outputId": "d15ba5cd-cc78-4ec2-aefb-91ffbbf7a8b2",
    "papermill": {
     "duration": 0.613116,
     "end_time": "2025-07-15T19:07:49.652125",
     "exception": false,
     "start_time": "2025-07-15T19:07:49.039009",
     "status": "completed"
    },
    "tags": []
   },
   "outputs": [
    {
     "name": "stdout",
     "output_type": "stream",
     "text": [
      "          data    porte  Saldo\n",
      "0   2020-01-01   Grande  -1692\n",
      "1   2020-01-01    Micro   1685\n",
      "2   2020-01-01    Média   -870\n",
      "3   2020-01-01  Pequena   -197\n",
      "4   2020-02-01   Grande  -3293\n",
      "..         ...      ...    ...\n",
      "255 2025-04-01  Pequena    -58\n",
      "256 2025-05-01   Grande    -92\n",
      "257 2025-05-01    Micro   1814\n",
      "258 2025-05-01    Média    232\n",
      "259 2025-05-01  Pequena    266\n",
      "\n",
      "[260 rows x 3 columns]\n"
     ]
    }
   ],
   "source": [
    "porte_mensal_rn_excel =  pd.read_excel(\"dados/porte_mensal_rn_excel.xlsx\")\n",
    "print(porte_mensal_rn_excel)"
   ]
  },
  {
   "cell_type": "code",
   "execution_count": 32,
   "id": "1824d063",
   "metadata": {
    "colab": {
     "base_uri": "https://localhost:8080/"
    },
    "execution": {
     "iopub.execute_input": "2025-07-15T19:07:49.672294Z",
     "iopub.status.busy": "2025-07-15T19:07:49.671999Z",
     "iopub.status.idle": "2025-07-15T19:07:49.682837Z",
     "shell.execute_reply": "2025-07-15T19:07:49.681911Z"
    },
    "id": "8G5kxXlg4Lgs",
    "outputId": "eff300db-60bb-4a35-8df7-77a4788b45f1",
    "papermill": {
     "duration": 0.021377,
     "end_time": "2025-07-15T19:07:49.684392",
     "exception": false,
     "start_time": "2025-07-15T19:07:49.663015",
     "status": "completed"
    },
    "tags": []
   },
   "outputs": [
    {
     "name": "stdout",
     "output_type": "stream",
     "text": [
      "     uf seção  Saldo    Estado grande_grupamento\n",
      "0    21     A    -86  Maranhão      Agropecuária\n",
      "1    21     B     25  Maranhão         Indústria\n",
      "2    21     C    534  Maranhão         Indústria\n",
      "3    21     D    -11  Maranhão         Indústria\n",
      "4    21     E     29  Maranhão         Indústria\n",
      "..   ..   ...    ...       ...               ...\n",
      "175  29     P    774     Bahia          Serviços\n",
      "176  29     Q    921     Bahia          Serviços\n",
      "177  29     R    206     Bahia          Serviços\n",
      "178  29     S    322     Bahia          Serviços\n",
      "179  29     T      1     Bahia          Serviços\n",
      "\n",
      "[180 rows x 5 columns]\n"
     ]
    }
   ],
   "source": [
    "caged_nordeste =  pd.read_csv(\"dados/caged_nordeste_setor.csv\")\n",
    "print(caged_nordeste)"
   ]
  },
  {
   "cell_type": "code",
   "execution_count": 33,
   "id": "29d3c898",
   "metadata": {
    "execution": {
     "iopub.execute_input": "2025-07-15T19:07:49.710805Z",
     "iopub.status.busy": "2025-07-15T19:07:49.710174Z",
     "iopub.status.idle": "2025-07-15T19:07:49.715446Z",
     "shell.execute_reply": "2025-07-15T19:07:49.714666Z"
    },
    "papermill": {
     "duration": 0.019351,
     "end_time": "2025-07-15T19:07:49.716776",
     "exception": false,
     "start_time": "2025-07-15T19:07:49.697425",
     "status": "completed"
    },
    "tags": []
   },
   "outputs": [],
   "source": [
    "# Estoques fixos\n",
    "estoque_agro = 19187\n",
    "estoque_industria = 80573\n",
    "estoque_construcao = 37483\n",
    "estoque_comercio = 129072\n",
    "estoque_servicos = 235606\n",
    "\n",
    "# Atribuir estoque com base no setor escolhido\n",
    "estoque_map = {\n",
    "    \"Agropecuária\": estoque_agro,\n",
    "    \"Indústria\": estoque_industria,\n",
    "    \"Construção\": estoque_construcao,\n",
    "    \"Comércio\": estoque_comercio,\n",
    "    \"Serviços\": estoque_servicos\n",
    "}\n",
    "\n",
    "# Define o valor de referência com base no setor\n",
    "estoque_referencia_dez_2023 = estoque_map.get(setor, 0)\n"
   ]
  },
  {
   "cell_type": "code",
   "execution_count": 34,
   "id": "c299d813",
   "metadata": {
    "execution": {
     "iopub.execute_input": "2025-07-15T19:07:49.735360Z",
     "iopub.status.busy": "2025-07-15T19:07:49.735098Z",
     "iopub.status.idle": "2025-07-15T19:07:49.744312Z",
     "shell.execute_reply": "2025-07-15T19:07:49.743325Z"
    },
    "papermill": {
     "duration": 0.020351,
     "end_time": "2025-07-15T19:07:49.745888",
     "exception": false,
     "start_time": "2025-07-15T19:07:49.725537",
     "status": "completed"
    },
    "tags": []
   },
   "outputs": [
    {
     "name": "stdout",
     "output_type": "stream",
     "text": [
      "Estoque: 16191\n"
     ]
    }
   ],
   "source": [
    "# # Estoque de referência em dezembro de 2023\n",
    "# estoque_referencia_dez_2023 = 235606\n",
    "\n",
    "# Filtrar e calcular o saldo a partir de 2024-01-01\n",
    "saldo_total = saldo_por_data[saldo_por_data['data'] >= \"2024-01-01\"]['saldomovimentação'].sum()\n",
    "\n",
    "# Calcular o estoque final\n",
    "estoque = estoque_referencia_dez_2023 + saldo_total\n",
    "\n",
    "# Exibir o resultado\n",
    "print(\"Estoque:\", estoque)"
   ]
  },
  {
   "cell_type": "code",
   "execution_count": 35,
   "id": "d09fdee6",
   "metadata": {
    "execution": {
     "iopub.execute_input": "2025-07-15T19:07:49.764240Z",
     "iopub.status.busy": "2025-07-15T19:07:49.763907Z",
     "iopub.status.idle": "2025-07-15T19:07:49.767866Z",
     "shell.execute_reply": "2025-07-15T19:07:49.767302Z"
    },
    "papermill": {
     "duration": 0.015157,
     "end_time": "2025-07-15T19:07:49.768831",
     "exception": false,
     "start_time": "2025-07-15T19:07:49.753674",
     "status": "completed"
    },
    "tags": []
   },
   "outputs": [],
   "source": [
    "# Ajustando formato dos números\n",
    "total_admissoes = f\"{total_admissoes:,}\".replace(\",\", \".\")\n",
    "saldo = f\"{saldo:,}\".replace(\",\", \".\")\n",
    "total_desligamentos = f\"{total_desligamentos:,}\".replace(\",\", \".\")\n",
    "estoque = f\"{estoque:,}\".replace(\",\", \".\")"
   ]
  },
  {
   "cell_type": "code",
   "execution_count": 36,
   "id": "bebaa72d",
   "metadata": {
    "execution": {
     "iopub.execute_input": "2025-07-15T19:07:49.792597Z",
     "iopub.status.busy": "2025-07-15T19:07:49.792004Z",
     "iopub.status.idle": "2025-07-15T19:07:50.222184Z",
     "shell.execute_reply": "2025-07-15T19:07:50.221274Z"
    },
    "papermill": {
     "duration": 0.444864,
     "end_time": "2025-07-15T19:07:50.224164",
     "exception": false,
     "start_time": "2025-07-15T19:07:49.779300",
     "status": "completed"
    },
    "tags": []
   },
   "outputs": [
    {
     "name": "stdout",
     "output_type": "stream",
     "text": [
      "Gráfico salvo em: img/grafico_acumulado_ano_e_mes_Agropecuária.png\n"
     ]
    },
    {
     "name": "stderr",
     "output_type": "stream",
     "text": [
      "C:\\Users\\lhayane.macedo\\AppData\\Local\\Temp\\ipykernel_27008\\1163949516.py:75: UserWarning: FigureCanvasAgg is non-interactive, and thus cannot be shown\n",
      "  plt.show()\n"
     ]
    }
   ],
   "source": [
    "import pandas as pd\n",
    "import matplotlib.pyplot as plt\n",
    "import seaborn as sns\n",
    "import calendar\n",
    "\n",
    "def criar_grafico_acumulado_ano_e_mes_mais_recente(data):\n",
    "    # Garantir que a coluna 'data' esteja no formato datetime\n",
    "    data['data'] = pd.to_datetime(data['data'], errors='coerce')\n",
    "\n",
    "    # Criar uma nova coluna 'ano' e 'mes' para agrupamento\n",
    "    data['ano'] = data['data'].dt.year\n",
    "    data['mes'] = data['data'].dt.month\n",
    "\n",
    "    # Identificar o mês mais recente da base\n",
    "    mes_mais_recente = data['data'].max().month\n",
    "    nome_mes_mais_recente = calendar.month_name[mes_mais_recente]  # Nome do mês (ex: Novembro)\n",
    "\n",
    "    # Filtrar os últimos 4 anos\n",
    "    ano_atual = data['ano'].max()\n",
    "    anos_filtrados = list(range(ano_atual - 4, ano_atual + 1))  # Últimos 4 anos\n",
    "    data_filtrada = data[data['ano'].isin(anos_filtrados)]\n",
    "\n",
    "    # Calcular o saldo acumulado do ano até o mês mais recente\n",
    "    saldo_acumulado = data_filtrada[data_filtrada['mes'] <= mes_mais_recente].groupby('ano')['saldomovimentação'].sum().reset_index()\n",
    "    saldo_acumulado.rename(columns={'saldomovimentação': 'Saldo acumulado'}, inplace=True)\n",
    "\n",
    "\n",
    "    # Calcular o saldo do mês mais recente\n",
    "    saldo_mes = data_filtrada[data_filtrada['mes'] == mes_mais_recente].groupby('ano')['saldomovimentação'].sum().reset_index()\n",
    "    saldo_mes.rename(columns={'saldomovimentação': f'Saldo {nome_mes_mais_recente}'}, inplace=True)\n",
    "\n",
    "    # Unir os dois conjuntos de dados\n",
    "    merged_data = pd.merge(saldo_acumulado, saldo_mes, on='ano', how='outer').fillna(0)\n",
    "\n",
    "    # Transformar os dados para formato longo (long format) para o gráfico\n",
    "    melted_data = pd.melt(merged_data, id_vars='ano', value_vars=['Saldo acumulado', f'Saldo {nome_mes_mais_recente}'],\n",
    "                          var_name='Tipo', value_name='Saldo')\n",
    "\n",
    "    # Criar o gráfico de barras\n",
    "    plt.figure(figsize=(12, 6))\n",
    "    ax = sns.barplot(x='ano', y='Saldo', hue='Tipo', data=melted_data, palette='Blues_d')\n",
    "\n",
    "    # Remover o título da legenda\n",
    "    ax.legend(title=None)\n",
    "\n",
    "    # Títulos e rótulos\n",
    "    plt.xlabel(\"Ano\", fontsize=12)\n",
    "    plt.ylabel(\"Saldo\", fontsize=12)\n",
    "\n",
    "    # Adicionar valores no topo de cada barra com a cor da barra\n",
    "    for p in ax.patches:\n",
    "        height = p.get_height()\n",
    "        color = p.get_facecolor()  # Obtém a cor da barra\n",
    "        if height != 0:  # Evitar exibir \"0\"\n",
    "            ax.text(\n",
    "                p.get_x() + p.get_width() / 2.,  # Posição horizontal\n",
    "                height,  # Posição vertical (no topo da barra)\n",
    "                '{:,.0f}'.format(height).replace(',', '.'),  # Formatação do número\n",
    "                ha='center', va='bottom' if height >= 0 else 'top', fontsize=10, fontweight='bold',\n",
    "                color=color  # Define a cor do texto igual à cor da barra\n",
    "            )\n",
    "\n",
    "    # Adicionar informações de fonte e elaboração\n",
    "    plt.figtext(0.05, -0.01, 'Fonte: Novo Caged (MTE).',\n",
    "                ha='left', fontsize=8, color='gray', weight='normal')\n",
    "    plt.figtext(0.05, -0.03, 'Elaboração: SEBRAE/RN.',\n",
    "                ha='left', fontsize=8, color='gray', weight='normal')\n",
    "\n",
    "    # Ajustar layout\n",
    "    plt.tight_layout()\n",
    "\n",
    "    # Salvar o gráfico\n",
    "    grafico_path = f'img/grafico_acumulado_ano_e_mes_{setor}.png'\n",
    "    plt.savefig(grafico_path, format='png', bbox_inches='tight', transparent=True)\n",
    "    plt.show()\n",
    "\n",
    "    return grafico_path\n",
    "\n",
    "# Exemplo de chamada da função\n",
    "# Suponha que `data` seja um DataFrame previamente carregado\n",
    "grafico_path = criar_grafico_acumulado_ano_e_mes_mais_recente(data)\n",
    "print(f\"Gráfico salvo em: {grafico_path}\")\n"
   ]
  },
  {
   "cell_type": "code",
   "execution_count": 37,
   "id": "7659bd4b",
   "metadata": {
    "execution": {
     "iopub.execute_input": "2025-07-15T19:07:50.242627Z",
     "iopub.status.busy": "2025-07-15T19:07:50.242290Z",
     "iopub.status.idle": "2025-07-15T19:07:50.285407Z",
     "shell.execute_reply": "2025-07-15T19:07:50.284580Z"
    },
    "papermill": {
     "duration": 0.053502,
     "end_time": "2025-07-15T19:07:50.286630",
     "exception": false,
     "start_time": "2025-07-15T19:07:50.233128",
     "status": "completed"
    },
    "tags": []
   },
   "outputs": [],
   "source": [
    "data['data'] = pd.to_datetime(data['data'], errors='coerce')\n",
    "\n",
    "data['ano'] = data['data'].dt.year\n",
    "data['mes'] = data['data'].dt.month\n",
    "\n",
    "    # Identificar o mês mais recente da base\n",
    "mes_mais_recente = data['data'].max().month\n",
    "nome_mes_mais_recente = calendar.month_name[mes_mais_recente]  # Nome do mês (ex: Novembro)\n",
    "\n",
    "    # Filtrar os últimos 4 anos\n",
    "ano_atual = data['ano'].max()\n",
    "anos_filtrados = list(range(ano_atual - 4, ano_atual + 1))  # Últimos 4 anos\n",
    "data_filtrada = data[data['ano'].isin(anos_filtrados)]\n",
    "\n",
    "    # Calcular o saldo acumulado do ano\n",
    "saldo_acumulado = data_filtrada.groupby('ano')['saldomovimentação'].sum().reset_index()\n",
    "saldo_acumulado.rename(columns={'saldomovimentação': 'Saldo acumulado'}, inplace=True)"
   ]
  },
  {
   "cell_type": "code",
   "execution_count": 38,
   "id": "708939cb",
   "metadata": {
    "execution": {
     "iopub.execute_input": "2025-07-15T19:07:50.303890Z",
     "iopub.status.busy": "2025-07-15T19:07:50.303558Z",
     "iopub.status.idle": "2025-07-15T19:07:50.319811Z",
     "shell.execute_reply": "2025-07-15T19:07:50.319156Z"
    },
    "papermill": {
     "duration": 0.025753,
     "end_time": "2025-07-15T19:07:50.320974",
     "exception": false,
     "start_time": "2025-07-15T19:07:50.295221",
     "status": "completed"
    },
    "tags": []
   },
   "outputs": [
    {
     "name": "stdout",
     "output_type": "stream",
     "text": [
      "     ano  mes  saldomovimentação   nome_mes\n",
      "0   2021    1               -997    janeiro\n",
      "1   2021    2              -1918  fevereiro\n",
      "2   2021    3              -1574     marÃ§o\n",
      "3   2021    4               -235      abril\n",
      "4   2021    5                165       maio\n",
      "5   2021    6               1167      junho\n",
      "6   2021    7               1186      julho\n",
      "7   2021    8               2420     agosto\n",
      "8   2021    9               1635   setembro\n",
      "9   2021   10                384    outubro\n",
      "10  2021   11               -400   novembro\n",
      "11  2021   12               -927   dezembro\n",
      "12  2022    1              -1478    janeiro\n",
      "13  2022    2              -1277  fevereiro\n",
      "14  2022    3              -2105     marÃ§o\n",
      "15  2022    4               -602      abril\n",
      "16  2022    5                 -4       maio\n",
      "17  2022    6                746      junho\n",
      "18  2022    7                837      julho\n",
      "19  2022    8               2927     agosto\n",
      "20  2022    9               1499   setembro\n",
      "21  2022   10                241    outubro\n",
      "22  2022   11               -253   novembro\n",
      "23  2022   12               -665   dezembro\n",
      "24  2023    1               -820    janeiro\n",
      "25  2023    2              -1278  fevereiro\n",
      "26  2023    3              -1673     marÃ§o\n",
      "27  2023    4               -742      abril\n",
      "28  2023    5                100       maio\n",
      "29  2023    6               1079      junho\n",
      "30  2023    7               1363      julho\n",
      "31  2023    8               2383     agosto\n",
      "32  2023    9               1057   setembro\n",
      "33  2023   10                281    outubro\n",
      "34  2023   11                -71   novembro\n",
      "35  2023   12               -467   dezembro\n",
      "36  2024    1               -449    janeiro\n",
      "37  2024    2              -1404  fevereiro\n",
      "38  2024    3              -1661     marÃ§o\n",
      "39  2024    4               -959      abril\n",
      "40  2024    5                 42       maio\n",
      "41  2024    6               1230      junho\n",
      "42  2024    7               1484      julho\n",
      "43  2024    8               2277     agosto\n",
      "44  2024    9                801   setembro\n",
      "45  2024   10                 97    outubro\n",
      "46  2024   11                -17   novembro\n",
      "47  2024   12               -397   dezembro\n",
      "48  2025    1               -621    janeiro\n",
      "49  2025    2              -1049  fevereiro\n",
      "50  2025    3              -2112     marÃ§o\n",
      "51  2025    4               -614      abril\n",
      "52  2025    5                356       maio\n"
     ]
    }
   ],
   "source": [
    "# Agrupar os dados por ano e mês\n",
    "saldo_por_mes = data_filtrada.groupby(['ano', 'mes'])['saldomovimentação'].sum().reset_index()\n",
    "\n",
    "# Adicionar o nome do mês para facilitar a leitura\n",
    "saldo_por_mes['nome_mes'] = saldo_por_mes['mes'].apply(lambda x: calendar.month_name[x])\n",
    "\n",
    "# Ordenar os dados por ano e mês\n",
    "saldo_por_mes = saldo_por_mes.sort_values(by=['ano', 'mes']).reset_index(drop=True)\n",
    "\n",
    "# Exibir o resultado\n",
    "print(saldo_por_mes)\n"
   ]
  },
  {
   "cell_type": "code",
   "execution_count": 39,
   "id": "d6cf552f",
   "metadata": {
    "execution": {
     "iopub.execute_input": "2025-07-15T19:07:50.338906Z",
     "iopub.status.busy": "2025-07-15T19:07:50.338605Z",
     "iopub.status.idle": "2025-07-15T19:07:50.345139Z",
     "shell.execute_reply": "2025-07-15T19:07:50.344433Z"
    },
    "papermill": {
     "duration": 0.015921,
     "end_time": "2025-07-15T19:07:50.346106",
     "exception": false,
     "start_time": "2025-07-15T19:07:50.330185",
     "status": "completed"
    },
    "tags": []
   },
   "outputs": [
    {
     "name": "stdout",
     "output_type": "stream",
     "text": [
      "Soma total do saldo de 2024: 1044\n"
     ]
    }
   ],
   "source": [
    "soma_2024 = saldo_por_mes[saldo_por_mes['ano'] == 2024]['saldomovimentação'].sum()\n",
    "\n",
    "# Exibir o resultado\n",
    "print(f\"Soma total do saldo de 2024: {soma_2024}\")"
   ]
  },
  {
   "cell_type": "code",
   "execution_count": 40,
   "id": "440fd722",
   "metadata": {
    "execution": {
     "iopub.execute_input": "2025-07-15T19:07:50.366054Z",
     "iopub.status.busy": "2025-07-15T19:07:50.365691Z",
     "iopub.status.idle": "2025-07-15T19:07:50.782284Z",
     "shell.execute_reply": "2025-07-15T19:07:50.781554Z"
    },
    "papermill": {
     "duration": 0.429832,
     "end_time": "2025-07-15T19:07:50.783277",
     "exception": false,
     "start_time": "2025-07-15T19:07:50.353445",
     "status": "completed"
    },
    "tags": []
   },
   "outputs": [
    {
     "name": "stderr",
     "output_type": "stream",
     "text": [
      "C:\\Users\\lhayane.macedo\\AppData\\Local\\Temp\\ipykernel_27008\\3374764869.py:52: UserWarning: FigureCanvasAgg is non-interactive, and thus cannot be shown\n",
      "  plt.show()\n"
     ]
    }
   ],
   "source": [
    "import matplotlib.pyplot as plt\n",
    "import matplotlib.dates as mdates\n",
    "import seaborn as sns\n",
    "import pandas as pd\n",
    "\n",
    "def criar_grafico_ts(data):\n",
    "    # Certifique-se de que a coluna 'data' é do tipo datetime\n",
    "    if not pd.api.types.is_datetime64_any_dtype(data['data']):\n",
    "        data['data'] = pd.to_datetime(data['data'])\n",
    "\n",
    "    # Agrupamento dos dados\n",
    "    grouped_data = data.groupby('data')['saldomovimentação'].sum().reset_index()\n",
    "\n",
    "    plt.figure(figsize=(12, 6))\n",
    "    sns.lineplot(x='data', y='saldomovimentação', data=grouped_data)\n",
    "    plt.title(\"\")\n",
    "    plt.xlabel(\"\")\n",
    "    plt.ylabel(\"\")\n",
    "\n",
    "    # Configurações do eixo X para datas\n",
    "    ax = plt.gca()\n",
    "    ax.xaxis.set_major_formatter(mdates.DateFormatter('%m/%Y'))\n",
    "    ax.xaxis.set_major_locator(mdates.MonthLocator(interval=3))  # Exibe de 3 em 3 meses\n",
    "    plt.xticks(rotation=45, fontsize=8)  # Diminui o tamanho da fonte para 8\n",
    "\n",
    "    # Ajuste de espaçamento do gráfico\n",
    "    plt.tight_layout()\n",
    "\n",
    "    # Adicionar valores nos pontos\n",
    "    last_y = None\n",
    "    for x, y in zip(grouped_data['data'], grouped_data['saldomovimentação']):\n",
    "        color = '#134b5f' if y >= 0 else '#be4d25'\n",
    "        offset = 100 if y >= 0 else -200\n",
    "\n",
    "        # Ajuste dinâmico para evitar sobreposição\n",
    "        if last_y is not None and abs(y - last_y) < 500:\n",
    "            offset = -200 if y > last_y else 300\n",
    "\n",
    "        plt.text(x, y + offset, '{:,.0f}'.format(y).replace(',', '.'),\n",
    "                 ha='center', va='bottom', fontsize=8, color=color)\n",
    "        last_y = y + offset\n",
    "\n",
    "    # Notas no rodapé\n",
    "    plt.figtext(0.78, -0.01, 'Fonte: Novo Caged (MTE).',\n",
    "                ha='left', fontsize=8, color='gray', weight='normal')\n",
    "    plt.figtext(0.78, -0.03, 'Elaboração: SEBRAE/RN.',\n",
    "                ha='left', fontsize=8, color='gray', weight='normal')\n",
    "\n",
    "    # Salvar gráfico\n",
    "    grafico_path = f'img/grafico_saldo_ts_{setor}.png'\n",
    "    plt.savefig(grafico_path, format='png', bbox_inches='tight', transparent=True)\n",
    "    plt.show()\n",
    "\n",
    "    return grafico_path\n",
    "\n",
    "# Uso da função\n",
    "grafico_ts = criar_grafico_ts(data)\n"
   ]
  },
  {
   "cell_type": "code",
   "execution_count": 41,
   "id": "5ca8f85b",
   "metadata": {
    "execution": {
     "iopub.execute_input": "2025-07-15T19:07:50.800863Z",
     "iopub.status.busy": "2025-07-15T19:07:50.800528Z",
     "iopub.status.idle": "2025-07-15T19:07:50.825716Z",
     "shell.execute_reply": "2025-07-15T19:07:50.824818Z"
    },
    "papermill": {
     "duration": 0.035254,
     "end_time": "2025-07-15T19:07:50.826801",
     "exception": false,
     "start_time": "2025-07-15T19:07:50.791547",
     "status": "completed"
    },
    "tags": []
   },
   "outputs": [
    {
     "name": "stderr",
     "output_type": "stream",
     "text": [
      "C:\\Users\\lhayane.macedo\\AppData\\Local\\Temp\\ipykernel_27008\\1098292130.py:4: SettingWithCopyWarning: \n",
      "A value is trying to be set on a copy of a slice from a DataFrame.\n",
      "Try using .loc[row_indexer,col_indexer] = value instead\n",
      "\n",
      "See the caveats in the documentation: https://pandas.pydata.org/pandas-docs/stable/user_guide/indexing.html#returning-a-view-versus-a-copy\n",
      "  filtro['desc_cnae'] = filtro['desc_cnae'].str.split(',').str[0].str.strip()\n"
     ]
    },
    {
     "data": {
      "text/html": [
       "<div>\n",
       "<style scoped>\n",
       "    .dataframe tbody tr th:only-of-type {\n",
       "        vertical-align: middle;\n",
       "    }\n",
       "\n",
       "    .dataframe tbody tr th {\n",
       "        vertical-align: top;\n",
       "    }\n",
       "\n",
       "    .dataframe thead th {\n",
       "        text-align: right;\n",
       "    }\n",
       "</style>\n",
       "<table border=\"1\" class=\"dataframe\">\n",
       "  <thead>\n",
       "    <tr style=\"text-align: right;\">\n",
       "      <th></th>\n",
       "      <th>CNAE</th>\n",
       "      <th>Saldo de Movimentação</th>\n",
       "    </tr>\n",
       "  </thead>\n",
       "  <tbody>\n",
       "    <tr>\n",
       "      <th>55</th>\n",
       "      <td>Produção de ovos</td>\n",
       "      <td>59</td>\n",
       "    </tr>\n",
       "    <tr>\n",
       "      <th>15</th>\n",
       "      <td>Criação de camarões em água salgada e salobra</td>\n",
       "      <td>56</td>\n",
       "    </tr>\n",
       "    <tr>\n",
       "      <th>37</th>\n",
       "      <td>Cultivo de manga</td>\n",
       "      <td>50</td>\n",
       "    </tr>\n",
       "    <tr>\n",
       "      <th>6</th>\n",
       "      <td>Atividades de pós-colheita</td>\n",
       "      <td>42</td>\n",
       "    </tr>\n",
       "    <tr>\n",
       "      <th>26</th>\n",
       "      <td>Cultivo de banana</td>\n",
       "      <td>30</td>\n",
       "    </tr>\n",
       "  </tbody>\n",
       "</table>\n",
       "</div>"
      ],
      "text/plain": [
       "                                             CNAE  Saldo de Movimentação\n",
       "55                               Produção de ovos                     59\n",
       "15  Criação de camarões em água salgada e salobra                     56\n",
       "37                               Cultivo de manga                     50\n",
       "6                      Atividades de pós-colheita                     42\n",
       "26                              Cultivo de banana                     30"
      ]
     },
     "execution_count": 41,
     "metadata": {},
     "output_type": "execute_result"
    }
   ],
   "source": [
    "# Filtra pela competência desejada\n",
    "filtro = data[data['ano'] == int(ano)]\n",
    "\n",
    "filtro['desc_cnae'] = filtro['desc_cnae'].str.split(',').str[0].str.strip()\n",
    "\n",
    "# Agrupa apenas por CNAE, somando os saldos\n",
    "grupo_saldos = filtro.groupby('desc_cnae')['saldomovimentação'].sum().reset_index()\n",
    "\n",
    "# Ordena por saldo decrescente e pega os primeiros (por exemplo, top 10)\n",
    "top_cnaes_df = grupo_saldos.sort_values('saldomovimentação', ascending=False).head(5)\n",
    "\n",
    "# Renomeia colunas\n",
    "top_cnaes_df = top_cnaes_df.rename(columns={\n",
    "    'desc_cnae': 'CNAE',\n",
    "    'saldomovimentação': 'Saldo de Movimentação'\n",
    "})\n",
    "\n",
    "top_cnaes_df\n"
   ]
  },
  {
   "cell_type": "code",
   "execution_count": 42,
   "id": "9b9c1885",
   "metadata": {
    "execution": {
     "iopub.execute_input": "2025-07-15T19:07:50.845568Z",
     "iopub.status.busy": "2025-07-15T19:07:50.845222Z",
     "iopub.status.idle": "2025-07-15T19:07:50.866260Z",
     "shell.execute_reply": "2025-07-15T19:07:50.865513Z"
    },
    "papermill": {
     "duration": 0.032642,
     "end_time": "2025-07-15T19:07:50.867425",
     "exception": false,
     "start_time": "2025-07-15T19:07:50.834783",
     "status": "completed"
    },
    "tags": []
   },
   "outputs": [
    {
     "name": "stderr",
     "output_type": "stream",
     "text": [
      "C:\\Users\\lhayane.macedo\\AppData\\Local\\Temp\\ipykernel_27008\\3549525597.py:5: SettingWithCopyWarning: \n",
      "A value is trying to be set on a copy of a slice from a DataFrame.\n",
      "Try using .loc[row_indexer,col_indexer] = value instead\n",
      "\n",
      "See the caveats in the documentation: https://pandas.pydata.org/pandas-docs/stable/user_guide/indexing.html#returning-a-view-versus-a-copy\n",
      "  filtro['desc_cnae'] = filtro['desc_cnae'].str.split(',').str[0].str.strip()\n"
     ]
    },
    {
     "data": {
      "text/html": [
       "<div>\n",
       "<style scoped>\n",
       "    .dataframe tbody tr th:only-of-type {\n",
       "        vertical-align: middle;\n",
       "    }\n",
       "\n",
       "    .dataframe tbody tr th {\n",
       "        vertical-align: top;\n",
       "    }\n",
       "\n",
       "    .dataframe thead th {\n",
       "        text-align: right;\n",
       "    }\n",
       "</style>\n",
       "<table border=\"1\" class=\"dataframe\">\n",
       "  <thead>\n",
       "    <tr style=\"text-align: right;\">\n",
       "      <th></th>\n",
       "      <th>CNAE</th>\n",
       "      <th>Saldo de Movimentação</th>\n",
       "    </tr>\n",
       "  </thead>\n",
       "  <tbody>\n",
       "    <tr>\n",
       "      <th>39</th>\n",
       "      <td>Cultivo de melão</td>\n",
       "      <td>-3125</td>\n",
       "    </tr>\n",
       "    <tr>\n",
       "      <th>28</th>\n",
       "      <td>Cultivo de cana-de-açúcar</td>\n",
       "      <td>-466</td>\n",
       "    </tr>\n",
       "    <tr>\n",
       "      <th>60</th>\n",
       "      <td>Serviço de preparação de terreno</td>\n",
       "      <td>-300</td>\n",
       "    </tr>\n",
       "    <tr>\n",
       "      <th>45</th>\n",
       "      <td>Cultivo de outras plantas de lavoura temporári...</td>\n",
       "      <td>-206</td>\n",
       "    </tr>\n",
       "    <tr>\n",
       "      <th>34</th>\n",
       "      <td>Cultivo de frutas de lavoura permanente não es...</td>\n",
       "      <td>-133</td>\n",
       "    </tr>\n",
       "  </tbody>\n",
       "</table>\n",
       "</div>"
      ],
      "text/plain": [
       "                                                 CNAE  Saldo de Movimentação\n",
       "39                                   Cultivo de melão                  -3125\n",
       "28                          Cultivo de cana-de-açúcar                   -466\n",
       "60                   Serviço de preparação de terreno                   -300\n",
       "45  Cultivo de outras plantas de lavoura temporári...                   -206\n",
       "34  Cultivo de frutas de lavoura permanente não es...                   -133"
      ]
     },
     "execution_count": 42,
     "metadata": {},
     "output_type": "execute_result"
    }
   ],
   "source": [
    "# Filtra pela competência desejada\n",
    "filtro = data[data['ano'] == int(ano)]\n",
    "\n",
    "# Pega só o que vem antes da vírgula no nome do CNAE\n",
    "filtro['desc_cnae'] = filtro['desc_cnae'].str.split(',').str[0].str.strip()\n",
    "\n",
    "# Agrupa por CNAE, somando os saldos\n",
    "grupo_saldos = filtro.groupby('desc_cnae')['saldomovimentação'].sum().reset_index()\n",
    "\n",
    "# Ordena por saldo crescente e pega o CNAE com menor saldo\n",
    "bottom_cnaes_df = grupo_saldos.sort_values('saldomovimentação', ascending=True).head(5)\n",
    "\n",
    "# Renomeia as colunas para manter o padrão\n",
    "bottom_cnaes_df = bottom_cnaes_df.rename(columns={\n",
    "    'desc_cnae': 'CNAE',\n",
    "    'saldomovimentação': 'Saldo de Movimentação'\n",
    "})\n",
    "\n",
    "bottom_cnaes_df"
   ]
  },
  {
   "cell_type": "code",
   "execution_count": 43,
   "id": "adb62042",
   "metadata": {
    "execution": {
     "iopub.execute_input": "2025-07-15T19:07:50.885948Z",
     "iopub.status.busy": "2025-07-15T19:07:50.885630Z",
     "iopub.status.idle": "2025-07-15T19:07:51.084455Z",
     "shell.execute_reply": "2025-07-15T19:07:51.083677Z"
    },
    "papermill": {
     "duration": 0.20946,
     "end_time": "2025-07-15T19:07:51.085440",
     "exception": false,
     "start_time": "2025-07-15T19:07:50.875980",
     "status": "completed"
    },
    "tags": []
   },
   "outputs": [
    {
     "name": "stderr",
     "output_type": "stream",
     "text": [
      "C:\\Users\\lhayane.macedo\\AppData\\Local\\Temp\\ipykernel_27008\\3338683462.py:68: UserWarning: FigureCanvasAgg is non-interactive, and thus cannot be shown\n",
      "  plt.show()\n"
     ]
    },
    {
     "data": {
      "text/plain": [
       "'img/grafico_top_bottom_cnaes_Agropecuária.png'"
      ]
     },
     "execution_count": 43,
     "metadata": {},
     "output_type": "execute_result"
    }
   ],
   "source": [
    "import matplotlib.pyplot as plt\n",
    "\n",
    "def grafico_top_bottom_cnaes(top_cnaes_df, bottom_cnaes_df, titulo='Top e Bottom CNAEs por Saldo'):\n",
    "    def quebra_linha(texto, max_chars=40):\n",
    "        if len(texto) > max_chars:\n",
    "            partes = []\n",
    "            while len(texto) > max_chars:\n",
    "                corte = texto[:max_chars].rfind(' ')\n",
    "                if corte == -1:\n",
    "                    corte = max_chars\n",
    "                partes.append(texto[:corte])\n",
    "                texto = texto[corte:].lstrip()\n",
    "            partes.append(texto)\n",
    "            return '\\n'.join(partes)\n",
    "        else:\n",
    "            return texto\n",
    "\n",
    "    # Cópias para evitar warning\n",
    "    top_cnaes_df = top_cnaes_df.copy()\n",
    "    bottom_cnaes_df = bottom_cnaes_df.copy()\n",
    "    top_cnaes_df['Tipo'] = 'Top'\n",
    "    bottom_cnaes_df['Tipo'] = 'Bottom'\n",
    "    df_plot = pd.concat([top_cnaes_df, bottom_cnaes_df], ignore_index=True)\n",
    "    df_plot = df_plot.sort_values('Saldo de Movimentação', ascending=True)\n",
    "    df_plot['CNAE'] = df_plot['CNAE'].apply(lambda x: quebra_linha(x, 40))\n",
    "\n",
    "    cores = df_plot['Tipo'].map({'Top': '#154c79', 'Bottom': '#bd0909'})\n",
    "    \n",
    "    plt.figure(figsize=(12, max(5, len(df_plot)*0.55)))\n",
    "    bars = plt.barh(df_plot['CNAE'], df_plot['Saldo de Movimentação'], color=cores)\n",
    "    plt.yticks(fontsize=8)\n",
    "    \n",
    "# Texto dentro ou fora da barra, com cor da própria barra\n",
    "    for i, bar in enumerate(bars):\n",
    "        valor = int(df_plot.iloc[i]['Saldo de Movimentação'])\n",
    "        largura = bar.get_width()\n",
    "        \n",
    "        # Verifica se valor está na faixa entre -120 e 120\n",
    "        if -120 <= valor <= 120:\n",
    "            deslocamento = 4 if largura >= 0 else -4\n",
    "            ha = 'left' if largura >= 0 else 'right'\n",
    "            cor_texto = cores.iloc[i]  # usa a cor da própria barra\n",
    "        else:\n",
    "            deslocamento = -0.05 * largura\n",
    "            ha = 'right' if largura > 0 else 'left'\n",
    "            cor_texto = 'white' if abs(largura) >= 40 else cores.iloc[i]\n",
    "            if abs(largura) < 40:\n",
    "                deslocamento = 2 if largura < 0 else -2\n",
    "\n",
    "        plt.text(\n",
    "            largura + deslocamento,\n",
    "            bar.get_y() + bar.get_height() / 2,\n",
    "            f'{valor:,.0f}'.replace(',', '.'),\n",
    "            va='center', ha=ha, fontsize=10,\n",
    "            fontweight='bold', color=cor_texto\n",
    "        )\n",
    "    # Salvar o gráfico\n",
    "    grafico_path = f'img/grafico_top_bottom_cnaes_{setor}.png'\n",
    "    plt.savefig(grafico_path, format='png', bbox_inches='tight', transparent=True)\n",
    "\n",
    "    plt.xlabel('Saldo de Movimentação')\n",
    "    plt.ylabel('CNAE')\n",
    "    plt.title(titulo)\n",
    "    plt.axvline(0, color='black', linewidth=1)\n",
    "    plt.tight_layout()\n",
    "    plt.figtext(0.01, -0.03, 'Fonte: Novo Caged (MTE).', ha='left', fontsize=8, color='gray')\n",
    "    plt.figtext(0.01, -0.05, 'Elaboração: SEBRAE/RN.', ha='left', fontsize=8, color='gray')\n",
    "    plt.show()\n",
    "\n",
    "    return grafico_path\n",
    "\n",
    "grafico_top_bottom_cnaes(top_cnaes_df, bottom_cnaes_df, titulo='Top 5 Maiores e Menores Atividades Econômicas por Saldo')\n"
   ]
  },
  {
   "cell_type": "code",
   "execution_count": 44,
   "id": "35900806",
   "metadata": {
    "execution": {
     "iopub.execute_input": "2025-07-15T19:07:51.105160Z",
     "iopub.status.busy": "2025-07-15T19:07:51.104813Z",
     "iopub.status.idle": "2025-07-15T19:07:51.274356Z",
     "shell.execute_reply": "2025-07-15T19:07:51.272612Z"
    },
    "papermill": {
     "duration": 0.180813,
     "end_time": "2025-07-15T19:07:51.275988",
     "exception": false,
     "start_time": "2025-07-15T19:07:51.095175",
     "status": "completed"
    },
    "tags": []
   },
   "outputs": [
    {
     "name": "stdout",
     "output_type": "stream",
     "text": [
      "Gráfico salvo em: img/grafico_mes_colunas_Agropecuária.png\n"
     ]
    }
   ],
   "source": [
    "import pandas as pd\n",
    "import matplotlib.pyplot as plt\n",
    "import seaborn as sns\n",
    "import calendar\n",
    "import os\n",
    "\n",
    "def criar_grafico_mes_anos_anteriores(data, setor):\n",
    "    data['data'] = pd.to_datetime(data['data'], errors='coerce')\n",
    "\n",
    "    mes_mais_recente = data['data'].max().month\n",
    "    nome_mes_mais_recente = calendar.month_name[mes_mais_recente]\n",
    "\n",
    "    data_filtrada = data[(data['data'].dt.month == mes_mais_recente) & (data['data'].dt.year >= 2020)]\n",
    "\n",
    "    data_grouped = data_filtrada.groupby(data_filtrada['data'].dt.year)['saldomovimentação'].sum().reset_index()\n",
    "    data_grouped.rename(columns={'saldomovimentação': 'Saldo', 'data': 'Ano'}, inplace=True)\n",
    "    data_grouped.rename(columns={data_grouped.columns[0]: 'Ano'}, inplace=True)\n",
    "\n",
    "    plt.figure(figsize=(12, 6))\n",
    "    ax = sns.barplot(x='Ano', y='Saldo', data=data_grouped, color=\"#1574bc\")\n",
    "\n",
    "    plt.xlabel(f\"Ano ({nome_mes_mais_recente})\", fontsize=12)\n",
    "    plt.ylabel(\"Saldo de Movimentações\", fontsize=12)\n",
    "\n",
    "    for p in ax.patches:\n",
    "        height = p.get_height()\n",
    "        cor = '#1574bc' if height >= 0 else '#d62728'\n",
    "        va = 'bottom' if height >= 0 else 'top'\n",
    "        ax.text(\n",
    "            p.get_x() + p.get_width() / 2.,\n",
    "            height,\n",
    "            '{:,.0f}'.format(height).replace(',', '.'),\n",
    "            ha='center', va=va, fontsize=10, fontweight='bold', color=cor\n",
    "        )\n",
    "\n",
    "    plt.figtext(0.1, -0.01, 'Fonte: Novo Caged (MTE).', ha='left', fontsize=8, color='gray')\n",
    "    plt.figtext(0.1, -0.03, 'Elaboração: SEBRAE/RN.', ha='left', fontsize=8, color='gray')\n",
    "\n",
    "    os.makedirs(\"img\", exist_ok=True)\n",
    "    grafico_path = f'img/grafico_mes_colunas_{setor}.png'\n",
    "    plt.savefig(grafico_path, format='png', bbox_inches='tight', transparent=True)\n",
    "    plt.close()  # evitar múltiplos gráficos em notebook/pipeline\n",
    "\n",
    "    return grafico_path\n",
    "\n",
    "grafico_path = criar_grafico_mes_anos_anteriores(data, setor)\n",
    "print(f\"Gráfico salvo em: {grafico_path}\")"
   ]
  },
  {
   "cell_type": "code",
   "execution_count": 45,
   "id": "ca89de71",
   "metadata": {
    "colab": {
     "base_uri": "https://localhost:8080/",
     "height": 694
    },
    "execution": {
     "iopub.execute_input": "2025-07-15T19:07:51.294249Z",
     "iopub.status.busy": "2025-07-15T19:07:51.293964Z",
     "iopub.status.idle": "2025-07-15T19:07:51.497641Z",
     "shell.execute_reply": "2025-07-15T19:07:51.496871Z"
    },
    "id": "I9SPIGK63tpl",
    "outputId": "1f6ed97d-4e50-4f68-ce08-5a1943c34003",
    "papermill": {
     "duration": 0.215737,
     "end_time": "2025-07-15T19:07:51.499176",
     "exception": false,
     "start_time": "2025-07-15T19:07:51.283439",
     "status": "completed"
    },
    "tags": []
   },
   "outputs": [
    {
     "name": "stderr",
     "output_type": "stream",
     "text": [
      "C:\\Users\\lhayane.macedo\\AppData\\Local\\Temp\\ipykernel_27008\\1841820680.py:14: FutureWarning: \n",
      "\n",
      "Passing `palette` without assigning `hue` is deprecated and will be removed in v0.14.0. Assign the `x` variable to `hue` and set `legend=False` for the same effect.\n",
      "\n",
      "  ax = sns.barplot(x='porte', y='saldomovimentação', data=grouped_data, palette='Blues_d')\n"
     ]
    }
   ],
   "source": [
    "def criar_grafico_saldo_porte(data):\n",
    "    data['competênciamov'] = data['competênciamov'].astype(str)\n",
    "    # Filtrar os dados onde o ano da 'competênciamov' é igual ao ano de 'competencia'\n",
    "    ano_competencia = str(competencia)[:4]\n",
    "    data_ano = data[data['competênciamov'].str[:4] == ano_competencia]\n",
    "    # Agrupar os dados por 'porte' e somar o saldo de movimentação\n",
    "    grouped_data = data_ano.groupby('porte')['saldomovimentação'].sum().reset_index()\n",
    "\n",
    "    # Ordenar os dados para exibir os maiores valores primeiro, se necessário\n",
    "    grouped_data = grouped_data.sort_values(by='saldomovimentação', ascending=False)\n",
    "\n",
    "    # Criar o gráfico de barras\n",
    "    plt.figure(figsize=(12, 6))\n",
    "    ax = sns.barplot(x='porte', y='saldomovimentação', data=grouped_data, palette='Blues_d')\n",
    "\n",
    "    # Títulos e rótulos\n",
    "    # plt.title(\"Saldo de Movimentação por Setor\")\n",
    "    plt.ylabel(\"\")\n",
    "    plt.xlabel('')  # Remove o nome do eixo X\n",
    "\n",
    "    # Adicionar a linha horizontal no valor 0 do eixo Y\n",
    "    plt.axhline(0, color='black',linewidth=1)\n",
    "\n",
    "    # Adicionar os valores de cada barra dentro delas com formatação\n",
    "    for p in ax.patches:\n",
    "        # Posição de cada barra\n",
    "        height = p.get_height()\n",
    "        # Pegar a cor da barra (cor de preenchimento)\n",
    "        bar_color = p.get_facecolor()\n",
    "        # Colocar o valor na ponta da barra\n",
    "        if height >= 0:\n",
    "            ax.text(p.get_x() + p.get_width() / 2., height,  # Posição para barras positivas\n",
    "                    '{:,.0f}'.format(height).replace(',', '.'),\n",
    "                    ha=\"center\", va=\"bottom\", fontsize=10,\n",
    "                    fontweight='bold', color=bar_color)\n",
    "        else:\n",
    "            ax.text(p.get_x() + p.get_width() / 2., height,  # Posição para barras negativas\n",
    "                    '{:,.0f}'.format(height).replace(',', '.'),\n",
    "                    ha=\"center\", va=\"top\", fontsize=10,\n",
    "                    fontweight='bold', color=bar_color)\n",
    "            \n",
    "    plt.figtext(0.05, -0.01, 'Fonte: Novo Caged (MTE).',\n",
    "                    ha='left', fontsize=8, color='gray', weight='normal')\n",
    "    plt.figtext(0.05, -0.03, 'Elaboração: SEBRAE/RN.',\n",
    "                    ha='left', fontsize=8, color='gray', weight='normal')\n",
    "\n",
    "    # Exibir o gráfico\n",
    "    plt.tight_layout()\n",
    "\n",
    "    # Salvar gráfico como arquivo PNG\n",
    "    grafico_path = f'img/grafico_saldo_porte_{setor}.png'\n",
    "    plt.savefig(grafico_path, format='png', bbox_inches='tight', transparent=True)\n",
    "\n",
    "    return grafico_path\n",
    "\n",
    "grafico_saldo_porte = criar_grafico_saldo_porte(data)"
   ]
  },
  {
   "cell_type": "code",
   "execution_count": 46,
   "id": "4678bf83",
   "metadata": {
    "execution": {
     "iopub.execute_input": "2025-07-15T19:07:51.519604Z",
     "iopub.status.busy": "2025-07-15T19:07:51.519050Z",
     "iopub.status.idle": "2025-07-15T19:07:51.524905Z",
     "shell.execute_reply": "2025-07-15T19:07:51.523835Z"
    },
    "papermill": {
     "duration": 0.01721,
     "end_time": "2025-07-15T19:07:51.526494",
     "exception": false,
     "start_time": "2025-07-15T19:07:51.509284",
     "status": "completed"
    },
    "tags": []
   },
   "outputs": [
    {
     "data": {
      "text/plain": [
       "array(['Maranhão', 'Piauí', 'Ceará', 'Rio Grande do Norte', 'Paraíba',\n",
       "       'Pernambuco', 'Alagoas', 'Sergipe', 'Bahia'], dtype=object)"
      ]
     },
     "execution_count": 46,
     "metadata": {},
     "output_type": "execute_result"
    }
   ],
   "source": [
    "caged_nordeste['Estado'].unique()"
   ]
  },
  {
   "cell_type": "code",
   "execution_count": 47,
   "id": "3f2cce60",
   "metadata": {
    "execution": {
     "iopub.execute_input": "2025-07-15T19:07:51.545780Z",
     "iopub.status.busy": "2025-07-15T19:07:51.545524Z",
     "iopub.status.idle": "2025-07-15T19:07:51.775551Z",
     "shell.execute_reply": "2025-07-15T19:07:51.774485Z"
    },
    "papermill": {
     "duration": 0.241137,
     "end_time": "2025-07-15T19:07:51.776614",
     "exception": false,
     "start_time": "2025-07-15T19:07:51.535477",
     "status": "completed"
    },
    "tags": []
   },
   "outputs": [
    {
     "name": "stderr",
     "output_type": "stream",
     "text": [
      "C:\\Users\\lhayane.macedo\\AppData\\Local\\Temp\\ipykernel_27008\\3265797723.py:24: FutureWarning: \n",
      "\n",
      "Passing `palette` without assigning `hue` is deprecated and will be removed in v0.14.0. Assign the `x` variable to `hue` and set `legend=False` for the same effect.\n",
      "\n",
      "  ax = sns.barplot(\n"
     ]
    },
    {
     "name": "stdout",
     "output_type": "stream",
     "text": [
      "Gráfico salvo em: img/grafico_nordeste_Agropecuária.png\n"
     ]
    }
   ],
   "source": [
    "import matplotlib.pyplot as plt\n",
    "import seaborn as sns\n",
    "\n",
    "def criar_grafico_nordeste(data, setor):\n",
    "    df_setor = data[data['grande_grupamento'] == setor]\n",
    "    grouped_data = df_setor.sort_values(by='Saldo', ascending=False)\n",
    "\n",
    "    cor_destaque = '#3a4e5c'\n",
    "    cor_padrao = '#6c9dbf'\n",
    "    estado_destaque = 'Rio Grande do Norte'\n",
    "\n",
    "    # O seu palette continua perfeito\n",
    "    estados_ordenados = grouped_data['Estado'].unique()\n",
    "    palette_cores = {estado: cor_destaque if estado == estado_destaque else cor_padrao for estado in estados_ordenados}\n",
    "\n",
    "    # --- INÍCIO DA MUDANÇA ---\n",
    "    \n",
    "    # 1. Crie uma lista explícita com a ordem dos estados\n",
    "    #    Essa ordem vem do seu DataFrame já ordenado por 'Saldo'\n",
    "    ordem_grafico = grouped_data['Estado'].tolist()\n",
    "\n",
    "    plt.figure(figsize=(12, 6))\n",
    "    \n",
    "    ax = sns.barplot(\n",
    "        x='Estado', \n",
    "        y='Saldo', \n",
    "        data=grouped_data,\n",
    "        palette=palette_cores,\n",
    "        errorbar=None,\n",
    "        order=ordem_grafico # 2. Adicione este parâmetro!\n",
    "    )\n",
    "\n",
    "    # --- FIM DA MUDANÇA ---\n",
    "    \n",
    "    plt.axhline(0, color='black', linewidth=1)\n",
    "    plt.xlabel('')\n",
    "    plt.ylabel('')\n",
    "\n",
    "    # AGORA ESTE LOOP FUNCIONA COM SEGURANÇA\n",
    "    # Porque a ordem do gráfico é a mesma do DataFrame 'grouped_data'\n",
    "    for bar, estado in zip(ax.patches, ordem_grafico):\n",
    "        height = bar.get_height()\n",
    "        color = palette_cores[estado]\n",
    "        va = 'bottom' if height >= 0 else 'top'\n",
    "\n",
    "        ax.text(\n",
    "            bar.get_x() + bar.get_width() / 2.,\n",
    "            height,\n",
    "            '{:,.0f}'.format(height).replace(',', '.'),\n",
    "            ha='center', va=va, fontsize=10,\n",
    "            fontweight='bold', color=color\n",
    "        )\n",
    "\n",
    "    plt.figtext(0.05, -0.01, 'Fonte: Novo Caged (MTE).', ha='left', fontsize=8, color='gray')\n",
    "    plt.figtext(0.05, -0.03, 'Elaboração: SEBRAE/RN.', ha='left', fontsize=8, color='gray')\n",
    "    plt.tight_layout()\n",
    "\n",
    "    grafico_path = f'img/grafico_nordeste_{setor}.png'\n",
    "    plt.savefig(grafico_path, format='png', bbox_inches='tight', transparent=True)\n",
    "    plt.close()\n",
    "\n",
    "    return grafico_path\n",
    "\n",
    "grafico_nordeste = criar_grafico_nordeste(caged_nordeste, setor)\n",
    "print(f\"Gráfico salvo em: {grafico_nordeste}\")\n"
   ]
  },
  {
   "cell_type": "code",
   "execution_count": 48,
   "id": "9064a5d1",
   "metadata": {
    "execution": {
     "iopub.execute_input": "2025-07-15T19:07:51.796464Z",
     "iopub.status.busy": "2025-07-15T19:07:51.796091Z",
     "iopub.status.idle": "2025-07-15T19:07:52.103509Z",
     "shell.execute_reply": "2025-07-15T19:07:52.102848Z"
    },
    "papermill": {
     "duration": 0.31942,
     "end_time": "2025-07-15T19:07:52.104595",
     "exception": false,
     "start_time": "2025-07-15T19:07:51.785175",
     "status": "completed"
    },
    "tags": []
   },
   "outputs": [
    {
     "name": "stderr",
     "output_type": "stream",
     "text": [
      "C:\\Users\\lhayane.macedo\\AppData\\Local\\Temp\\ipykernel_27008\\295884125.py:15: SettingWithCopyWarning: \n",
      "A value is trying to be set on a copy of a slice from a DataFrame.\n",
      "Try using .loc[row_indexer,col_indexer] = value instead\n",
      "\n",
      "See the caveats in the documentation: https://pandas.pydata.org/pandas-docs/stable/user_guide/indexing.html#returning-a-view-versus-a-copy\n",
      "  data_ano['data'] = pd.to_datetime(data_ano['data'])\n"
     ]
    },
    {
     "name": "stderr",
     "output_type": "stream",
     "text": [
      "C:\\Users\\lhayane.macedo\\AppData\\Local\\Temp\\ipykernel_27008\\295884125.py:73: UserWarning: FigureCanvasAgg is non-interactive, and thus cannot be shown\n",
      "  plt.show()\n"
     ]
    }
   ],
   "source": [
    "import matplotlib.pyplot as plt\n",
    "import matplotlib.dates as mdates\n",
    "import seaborn as sns\n",
    "import pandas as pd\n",
    "\n",
    "def criar_grafico_ts_porte(data):\n",
    "    # Converter a coluna 'competênciamov' para string, caso não seja\n",
    "    data['competênciamov'] = data['competênciamov'].astype(str)\n",
    "\n",
    "    # Filtrar os dados onde o ano da 'competênciamov' é igual ao ano de 'competencia'\n",
    "    ano_competencia = str(competencia)[:4]\n",
    "    data_ano = data[data['competênciamov'].str[:4] == ano_competencia]\n",
    "\n",
    "    # Garantir que a coluna 'data' seja do tipo datetime\n",
    "    data_ano['data'] = pd.to_datetime(data_ano['data'])\n",
    "\n",
    "    # Agrupar os dados por 'data' e 'porte', somando os valores de 'saldomovimentação'\n",
    "    grouped_data = data_ano.groupby(['data', 'porte'])['saldomovimentação'].sum().reset_index()\n",
    "\n",
    "    # Obter a lista de valores únicos de 'porte' e associar cores\n",
    "    unique_porte = grouped_data['porte'].unique()\n",
    "    palette = sns.color_palette(\"muted\", n_colors=len(unique_porte))\n",
    "    color_mapping = dict(zip(unique_porte, palette))\n",
    "\n",
    "    # Criar o gráfico com hue para a coluna 'porte'\n",
    "    plt.figure(figsize=(12, 6))\n",
    "    ax = sns.lineplot(x='data', y='saldomovimentação', hue='porte', data=grouped_data, \n",
    "                      marker=\"o\", palette=color_mapping)\n",
    "\n",
    "    # Títulos e rótulos (ajustáveis conforme necessidade)\n",
    "    plt.title(\"\")\n",
    "    plt.xlabel(\"\")\n",
    "    plt.ylabel(\"\")\n",
    "\n",
    "    # Adicionar a linha cinza no eixo Y = 0\n",
    "    plt.axhline(0, color='lightgray', linestyle='--', linewidth=1)\n",
    "    \n",
    "    # Formatar os rótulos do eixo X para exibir apenas mês/ano\n",
    "    plt.gca().xaxis.set_major_formatter(mdates.DateFormatter('%m/%Y'))\n",
    "    plt.gca().xaxis.set_major_locator(mdates.MonthLocator(interval=1))  # Exibe de 1 em 1 mês\n",
    "    plt.xticks(rotation=45)\n",
    "\n",
    "    # Configurar os ticks do eixo X para garantir que todos os pontos sejam exibidos\n",
    "    unique_dates = grouped_data['data'].unique()\n",
    "    plt.xticks(ticks=unique_dates, labels=[date.strftime('%m/%Y') for date in unique_dates])\n",
    "\n",
    "    # Adicionar valores exatamente no centro dos pontos, com background colorido e números brancos\n",
    "    for porte in grouped_data['porte'].unique():\n",
    "        porte_data = grouped_data[grouped_data['porte'] == porte]\n",
    "        for x, y in zip(porte_data['data'], porte_data['saldomovimentação']):\n",
    "            # Adicionar texto com um fundo colorido (mesma cor da linha) e texto branco\n",
    "            plt.text(\n",
    "                x, y, f'{int(y):,}'.replace(',', '.'),  # Formatação do número\n",
    "                ha='center', va='center', fontsize=8, color='white',  # Cor do número\n",
    "                bbox=dict(facecolor=color_mapping[porte], edgecolor='none', boxstyle='round,pad=0.2')  # Fundo colorido\n",
    "            )\n",
    "\n",
    "    # Legenda dentro do gráfico no canto superior esquerdo\n",
    "    plt.legend(\n",
    "        title=\"Porte\", loc=\"upper left\", frameon=True, fontsize=8,\n",
    "        title_fontsize=10, facecolor='white', edgecolor='black', fancybox=True\n",
    "    )\n",
    "\n",
    "    # Notas no rodapé\n",
    "    plt.figtext(0.08, -0.01, 'Fonte: Novo Caged (MTE).',\n",
    "                ha='left', fontsize=8, color='gray', weight='normal')\n",
    "    plt.figtext(0.08, -0.03, 'Elaboração: SEBRAE/RN.',\n",
    "                ha='left', fontsize=8, color='gray', weight='normal')\n",
    "\n",
    "    # Salvar gráfico\n",
    "    grafico_path = f'img/grafico_ts_porte_{setor}.png'\n",
    "    plt.savefig(grafico_path, format='png', bbox_inches='tight', transparent=True)\n",
    "    plt.show()\n",
    "    return grafico_path\n",
    "\n",
    "# Uso da função\n",
    "grafico_ts_porte = criar_grafico_ts_porte(data)\n"
   ]
  },
  {
   "cell_type": "markdown",
   "id": "8e673711",
   "metadata": {
    "papermill": {
     "duration": 0.012735,
     "end_time": "2025-07-15T19:07:52.131961",
     "exception": false,
     "start_time": "2025-07-15T19:07:52.119226",
     "status": "completed"
    },
    "tags": []
   },
   "source": [
    "## Mapa"
   ]
  },
  {
   "cell_type": "code",
   "execution_count": 49,
   "id": "8410d9fb",
   "metadata": {
    "execution": {
     "iopub.execute_input": "2025-07-15T19:07:52.152123Z",
     "iopub.status.busy": "2025-07-15T19:07:52.151667Z",
     "iopub.status.idle": "2025-07-15T19:07:54.353841Z",
     "shell.execute_reply": "2025-07-15T19:07:54.352994Z"
    },
    "papermill": {
     "duration": 2.212353,
     "end_time": "2025-07-15T19:07:54.354908",
     "exception": false,
     "start_time": "2025-07-15T19:07:52.142555",
     "status": "completed"
    },
    "tags": []
   },
   "outputs": [
    {
     "name": "stderr",
     "output_type": "stream",
     "text": [
      "C:\\Users\\lhayane.macedo\\AppData\\Local\\Temp\\ipykernel_27008\\3522527326.py:46: FutureWarning: Downcasting object dtype arrays on .fillna, .ffill, .bfill is deprecated and will change in a future version. Call result.infer_objects(copy=False) instead. To opt-in to the future behavior, set `pd.set_option('future.no_silent_downcasting', True)`\n",
      "  top5 = map_saldo_sf[map_saldo_sf['top5'].fillna(False)]\n",
      "C:\\Users\\lhayane.macedo\\AppData\\Local\\Temp\\ipykernel_27008\\3522527326.py:47: FutureWarning: Downcasting object dtype arrays on .fillna, .ffill, .bfill is deprecated and will change in a future version. Call result.infer_objects(copy=False) instead. To opt-in to the future behavior, set `pd.set_option('future.no_silent_downcasting', True)`\n",
      "  bottom5 = map_saldo_sf[map_saldo_sf['bottom5'].fillna(False)]\n"
     ]
    },
    {
     "name": "stderr",
     "output_type": "stream",
     "text": [
      "C:\\Users\\lhayane.macedo\\AppData\\Local\\Temp\\ipykernel_27008\\3522527326.py:175: UserWarning: FigureCanvasAgg is non-interactive, and thus cannot be shown\n",
      "  plt.show()\n"
     ]
    }
   ],
   "source": [
    "data['data'] = pd.to_datetime(data['data'], errors='coerce')\n",
    "\n",
    "caged_mes_atual = data[data['data'] == data['data'].max()]\n",
    "\n",
    "municipios = (caged_mes_atual.groupby(\"município\", as_index=False)\n",
    "    .agg(Saldo=(\"saldomovimentação\", \"sum\")))\n",
    "\n",
    "# Add ranking columns\n",
    "municipios[\"top5\"] = municipios[\"Saldo\"].rank(method=\"min\", ascending=False).isin(range(1, 6))\n",
    "municipios[\"bottom5\"] = municipios[\"Saldo\"].rank(method=\"min\").isin(range(1, 6))\n",
    "municipios = municipios.rename(columns={\"município\": \"code_muni\"})\n",
    "\n",
    "# Load municipality map\n",
    "rn_map = geobr.read_municipality(code_muni=\"RN\")\n",
    "rn_map['code_muni'] = rn_map['code_muni'].astype(str)\n",
    "rn_map[\"code_muni\"] = rn_map[\"code_muni\"].str[:-3]\n",
    "\n",
    "# Ensure both are strings\n",
    "rn_map['code_muni'] = rn_map['code_muni'].astype(str)\n",
    "municipios['code_muni'] = municipios['code_muni'].astype(str)\n",
    "\n",
    "# Now merge\n",
    "map_saldo = pd.merge(rn_map, municipios, on='code_muni', how = 'outer')\n",
    "\n",
    "# Formatar os números da coluna 'valores' como inteiros no formato brasileiro\n",
    "map_saldo['Saldo'] = map_saldo['Saldo'].fillna(0).apply(lambda x: f\"{int(x):,}\".replace(\",\", \".\"))\n",
    "\n",
    "# Create MUN_SALDO column\n",
    "map_saldo[\"MUN_SALDO\"] = map_saldo.apply(lambda x: f\"{x['name_muni']}\\n{x['Saldo']}\" if x[\"top5\"] or x[\"bottom5\"] else None, axis=1)\n",
    "\n",
    "# Defining fill and border colors\n",
    "fill_palette = [\"#3CBC3C\", \"#C64646\", \"#d3d3d3\"]\n",
    "border_palette = [\"#005800\", \"#C30000\", \"#939393\"]\n",
    "\n",
    "map_saldo['fill_colors'] = map_saldo.apply(\n",
    "    lambda x: fill_palette[0] if x['top5'] else (fill_palette[1] if x['bottom5'] else fill_palette[2]), axis=1\n",
    ")\n",
    "\n",
    "map_saldo['border_colors'] = map_saldo.apply(\n",
    "    lambda x: border_palette[0] if x['top5'] else (border_palette[1] if x['bottom5'] else border_palette[2]), axis=1\n",
    ")\n",
    "\n",
    "map_saldo_sf = gpd.GeoDataFrame(map_saldo)\n",
    "\n",
    "# Filtering top5 and bottom5\n",
    "top5 = map_saldo_sf[map_saldo_sf['top5'].fillna(False)]\n",
    "bottom5 = map_saldo_sf[map_saldo_sf['bottom5'].fillna(False)]\n",
    "\n",
    "# Filtering spatially using bounding boxes\n",
    "def filter_sf(data, xmin=None, xmax=None, ymin=None, ymax=None):\n",
    "    bbox = box(xmin, ymin, xmax, ymax) if all([xmin, xmax, ymin, ymax]) else None\n",
    "    if bbox:\n",
    "        return data[data.intersects(bbox)]\n",
    "    return data\n",
    "\n",
    "# Filtering data to the right of xmin\n",
    "direita = filter_sf(map_saldo_sf, xmin=-36.6)\n",
    "esquerda = map_saldo_sf[~map_saldo_sf['code_muni'].isin(direita['code_muni'])]\n",
    "\n",
    "# Adding text colors\n",
    "direita['text_colors'] = direita.apply(\n",
    "    lambda x: \"#07ca8d\" if x['top5'] else (\"#C30000\" if x['bottom5'] else None), axis=1\n",
    ")\n",
    "esquerda['text_colors'] = esquerda.apply(\n",
    "    lambda x: \"#07ca8d\" if x['top5'] else (\"#C30000\" if x['bottom5'] else None), axis=1\n",
    ")\n",
    "\n",
    "# Reproject the GeoDataFrames to a projected CRS (e.g., EPSG:3857)\n",
    "map_saldo_sf = map_saldo_sf.to_crs(epsg=3857)\n",
    "top5 = top5.to_crs(epsg=3857)\n",
    "bottom5 = bottom5.to_crs(epsg=3857)\n",
    "\n",
    "\n",
    "# Calculate the center longitude of the map\n",
    "x_center = map_saldo_sf.geometry.centroid.x.mean()\n",
    "\n",
    "# Add centroid y-coordinates for sorting\n",
    "top5[\"centroid_y\"] = top5.geometry.centroid.y\n",
    "bottom5[\"centroid_y\"] = bottom5.geometry.centroid.y\n",
    "\n",
    "# Split top5 and bottom5 into left (esquerda) and right (direita) based on longitude\n",
    "top5_direita = top5[top5.geometry.centroid.x > x_center].sort_values(by=\"centroid_y\", ascending=False)\n",
    "top5_esquerda = top5[top5.geometry.centroid.x <= x_center].sort_values(by=\"centroid_y\", ascending=False)\n",
    "bottom5_direita = bottom5[bottom5.geometry.centroid.x > x_center].sort_values(by=\"centroid_y\", ascending=False)\n",
    "bottom5_esquerda = bottom5[bottom5.geometry.centroid.x <= x_center].sort_values(by=\"centroid_y\", ascending=False)\n",
    "\n",
    "# Colors for top5 and bottom5\n",
    "fill_colors = {\"bottom5\": \"#C64646\", \"top5\": \"#3CBC3C\"}\n",
    "border_colors = {\"top5\": \"#005800\", \"bottom5\": \"#C30000\"}\n",
    "darker_colors = {\"top5\": \"#004000\", \"bottom5\": \"#8B0000\"}  # Darker shades for lines\n",
    "\n",
    "# Track used positions (lines and boxes) to avoid overlaps\n",
    "used_positions_right = []\n",
    "used_positions_left = []\n",
    "\n",
    "def find_non_overlapping_position(base_y, used_positions, step=16000):\n",
    "    \"\"\"\n",
    "    Find a non-overlapping position for text placement.\n",
    "    \"\"\"\n",
    "    y = base_y\n",
    "    for _ in range(1000):  # Max attempts\n",
    "        if all(abs(y - used_y) > step for used_y in used_positions):\n",
    "            used_positions.append(y)\n",
    "            return y\n",
    "        y -= step  # Move downward if necessary to avoid overlaps\n",
    "    return y  # Fallback\n",
    "\n",
    "# Plot the map\n",
    "fig, ax = plt.subplots(figsize=(12, 6))\n",
    "map_saldo_sf.plot(ax=ax, color=\"#d3d3d3\", edgecolor=\"#939393\", label=\"Other Municipalities\")\n",
    "\n",
    "# Highlight top5 and bottom5 municipalities\n",
    "top5.plot(ax=ax, color=fill_colors[\"top5\"], edgecolor=border_colors[\"top5\"], label=\"Top 5\")\n",
    "bottom5.plot(ax=ax, color=fill_colors[\"bottom5\"], edgecolor=border_colors[\"bottom5\"], label=\"Bottom 5\")\n",
    "\n",
    "# Function to annotate cities\n",
    "def annotate_cities(df, side, line_color, box_color, x_offset):\n",
    "    \"\"\"\n",
    "    Annotate cities with labels and connecting lines.\n",
    "    \"\"\"\n",
    "    # Subir mais os textos iniciais ajustando base_y\n",
    "    base_y = df[\"centroid_y\"].max() + 20000  # Ajuste para mover os números mais para cima\n",
    "    used_positions = used_positions_right if side == \"right\" else used_positions_left\n",
    "\n",
    "    for _, row in df.iterrows():\n",
    "        centroid = row.geometry.centroid\n",
    "        y = find_non_overlapping_position(base_y, used_positions, step=14000)  # Menor step para compactar mais os textos\n",
    "        base_y = y  # Move downward para o próximo rótulo\n",
    "\n",
    "        # Ajustar a posição do texto com base no lado (direita ou esquerda)\n",
    "        text_x = x_center + x_offset if side == \"right\" else x_center - x_offset\n",
    "\n",
    "        # Desenhar uma linha conectando o centróide ao texto\n",
    "        ax.plot([centroid.x, text_x], [centroid.y, y], \"-\", color=line_color, lw=0.8)\n",
    "\n",
    "        # Adicionar o texto ao lado do mapa\n",
    "        ax.text(\n",
    "            text_x, y, row[\"MUN_SALDO\"],\n",
    "            fontsize=8, ha=\"left\" if side == \"right\" else \"right\",\n",
    "            weight=\"bold\",\n",
    "            bbox=dict(facecolor=\"white\", edgecolor=box_color, boxstyle=\"round,pad=0.3\")\n",
    "        )\n",
    "\n",
    "# Annotate cities on the right (direita)\n",
    "annotate_cities(top5_direita, side=\"right\", line_color=darker_colors[\"top5\"], box_color=border_colors[\"top5\"], x_offset=200000)\n",
    "annotate_cities(bottom5_direita, side=\"right\", line_color=darker_colors[\"bottom5\"], box_color=border_colors[\"bottom5\"], x_offset=200000)\n",
    "\n",
    "# Annotate cities on the left (esquerda)\n",
    "annotate_cities(top5_esquerda, side=\"left\", line_color=darker_colors[\"top5\"], box_color=border_colors[\"top5\"], x_offset=225000)\n",
    "annotate_cities(bottom5_esquerda, side=\"left\", line_color=darker_colors[\"bottom5\"], box_color=border_colors[\"bottom5\"], x_offset=225000)\n",
    "\n",
    "data_maxima = data['competênciamov'].max()\n",
    "\n",
    "# Converter o número inteiro (YYYYMM) em um objeto datetime\n",
    "data_maxima_dt = datetime.strptime(str(data_maxima), \"%Y%m\")\n",
    "\n",
    "# Extrair ano e mês no formato brasileiro\n",
    "ano_max = data_maxima_dt.year\n",
    "mes_max = data_maxima_dt.strftime('%B')  # Traduzir o mês usando o dicionário\n",
    "\n",
    "# Configurar o título dinamicamente\n",
    "# ax.set_title(f\"Saldo do Emprego em {mes_max} de {ano_max}\", fontsize=14)\n",
    "ax.axis(\"off\")  # Turn off the axis for a cleaner map\n",
    "\n",
    "# Show the plot\n",
    "plt.tight_layout()\n",
    "\n",
    "# Adicionar informações de fonte e elaboração\n",
    "plt.figtext(0.1, -0.01, 'Fonte: Novo Caged (MTE).',\n",
    "            ha='left', fontsize=8, color='gray', weight='normal')\n",
    "plt.figtext(0.1, -0.03, 'Elaboração: SEBRAE/RN.',\n",
    "            ha='left', fontsize=8, color='gray', weight='normal')\n",
    "\n",
    "plt.savefig(f\"img/map_saldo_emprego_{setor}.png\", format=\"png\", dpi=300, bbox_inches=\"tight\", transparent=True)\n",
    "plt.show()"
   ]
  },
  {
   "cell_type": "markdown",
   "id": "c3d5b5e9",
   "metadata": {
    "id": "RPFUea08mQI1",
    "papermill": {
     "duration": 0.011506,
     "end_time": "2025-07-15T19:07:54.376982",
     "exception": false,
     "start_time": "2025-07-15T19:07:54.365476",
     "status": "completed"
    },
    "tags": []
   },
   "source": [
    "# PDF"
   ]
  },
  {
   "cell_type": "code",
   "execution_count": 50,
   "id": "d0a637ee",
   "metadata": {
    "colab": {
     "base_uri": "https://localhost:8080/"
    },
    "execution": {
     "iopub.execute_input": "2025-07-15T19:07:54.420516Z",
     "iopub.status.busy": "2025-07-15T19:07:54.420083Z",
     "iopub.status.idle": "2025-07-15T19:07:55.908948Z",
     "shell.execute_reply": "2025-07-15T19:07:55.908097Z"
    },
    "id": "ZCct9pUl-Tvp",
    "outputId": "12a9025b-46cd-4bfc-c6d3-345068a98542",
    "papermill": {
     "duration": 1.520179,
     "end_time": "2025-07-15T19:07:55.910634",
     "exception": false,
     "start_time": "2025-07-15T19:07:54.390455",
     "status": "completed"
    },
    "tags": []
   },
   "outputs": [
    {
     "name": "stderr",
     "output_type": "stream",
     "text": [
      "<>:18: SyntaxWarning: invalid escape sequence '\\h'\n",
      "<>:18: SyntaxWarning: invalid escape sequence '\\h'\n",
      "C:\\Users\\lhayane.macedo\\AppData\\Local\\Temp\\ipykernel_27008\\3353511255.py:18: SyntaxWarning: invalid escape sequence '\\h'\n",
      "  header_image_base64 = imagem_para_base64('img\\header-emprego.png')\n"
     ]
    }
   ],
   "source": [
    "# Função para converter a imagem em Base64 (para embutir no HTML)\n",
    "def imagem_para_base64(caminho_imagem):\n",
    "    with open(caminho_imagem, \"rb\") as img_file:\n",
    "        return base64.b64encode(img_file.read()).decode('utf-8')\n",
    "\n",
    "# Função para gerar o conteúdo HTML\n",
    "def gerar_html(admissoes, saldo, desligamentos, estoque_clt, setor):\n",
    "    grafico_acumulado_ano_e_mes =f'img/grafico_acumulado_ano_e_mes_{setor}.png'\n",
    "    grafico_saldo_ts = f'img/grafico_saldo_ts_{setor}.png'\n",
    "    grafico_saldo_cnae = f'img/grafico_top_bottom_cnaes_{setor}.png'\n",
    "    grafico_mes_colunas = f'img/grafico_mes_colunas_{setor}.png'\n",
    "    grafico_saldo_porte = f'img/grafico_saldo_porte_{setor}.png'\n",
    "    grafico_nordeste = f'img/grafico_nordeste_{setor}.png'\n",
    "    grafico_ts_porte = f'img/grafico_ts_porte_{setor}.png'\n",
    "    mapa = f'img/map_saldo_emprego_{setor}.png'\n",
    "\n",
    "    # Converter a imagem de cabeçalho em base64\n",
    "    header_image_base64 = imagem_para_base64('img\\header-emprego.png')\n",
    "\n",
    "    # Converter o gráfico em base64\n",
    "    grafico_saldo_ts_b64 = imagem_para_base64(grafico_saldo_ts)\n",
    "    grafico_saldo_cnae_b64 = imagem_para_base64(grafico_saldo_cnae)\n",
    "    grafico_mes_colunas_b64 = imagem_para_base64(grafico_mes_colunas)\n",
    "    grafico_saldo_porte_b64 = imagem_para_base64(grafico_saldo_porte)\n",
    "    grafico_nordeste_b64 = imagem_para_base64(grafico_nordeste)\n",
    "    grafico_ts_porte_b64 = imagem_para_base64(grafico_ts_porte)\n",
    "    mapa_b64 = imagem_para_base64(mapa)\n",
    "    grafico_acumulado_ano_e_mes_b64 = imagem_para_base64(grafico_acumulado_ano_e_mes)\n",
    "\n",
    "    # Criar conteúdo HTML\n",
    "    html_content = f\"\"\"\n",
    "    <!DOCTYPE html>\n",
    "    <html lang=\"pt-br\">\n",
    "    <head>\n",
    "        <meta http-equiv=\"Content-Type\" content=\"text/html; charset=utf-8\">\n",
    "        <title>Boletim de Emprego</title>\n",
    "        <style>\n",
    "            @page {{\n",
    "                size: 1080px 720px;\n",
    "                margin: 0;\n",
    "            }}\n",
    "\n",
    "            /* Definir o fundo da página */\n",
    "            body {{\n",
    "                background-color: #f3f3f3; /* Cor de fundo */\n",
    "                font-family: Arial, sans-serif;\n",
    "                margin: 0;\n",
    "                padding: 0;\n",
    "            }}\n",
    "            header {{\n",
    "                background-image: url('data:image/png;base64,{header_image_base64}');\n",
    "                background-repeat: no-repeat;\n",
    "                background-size: 100% 100%;\n",
    "                background-position: center;\n",
    "                height: 360px;\n",
    "                text-align: center;\n",
    "                color: white;\n",
    "                font-size: 24px;\n",
    "                display: flex;\n",
    "                align-items: center;\n",
    "                justify-content: center;\n",
    "            }}\n",
    "                .mes {{\n",
    "                font-size: 24px;\n",
    "                font-weight: bold;\n",
    "                color: #333;\n",
    "                text-align: center;\n",
    "                margin-top: 30px;\n",
    "            }}\n",
    "\n",
    "            /* Estilo para as caixinhas */\n",
    "            .informacoes {{\n",
    "                display: flex;\n",
    "                justify-content: space-between;\n",
    "                padding: 20px;\n",
    "                margin: 20px 30px;\n",
    "            }}\n",
    "            .caixinha {{\n",
    "                background-color: #fff;\n",
    "                border: 1px solid #ddd;\n",
    "                padding: 30px;\n",
    "                text-align: center;\n",
    "                width: 22%;\n",
    "                border-radius: 10px;\n",
    "                box-shadow: 0 4px 6px rgba(0, 0, 0, 0.1);\n",
    "            }}\n",
    "            .caixinha h3 {{\n",
    "                font-size: 20px;\n",
    "                color: #1574bc;\n",
    "            }}\n",
    "            .caixinha p {{\n",
    "                font-size: 24px;\n",
    "                font-weight: bold;\n",
    "                color: #333;\n",
    "            }}\n",
    "            .grafico h3 {{\n",
    "                font-size: 24px;\n",
    "                font-weight: bold;\n",
    "                color: #333;\n",
    "                text-align: center;\n",
    "                padding-top: 60px;\n",
    "            }}\n",
    "\n",
    "            .grafico h2 {{\n",
    "                padding-top= -15px;\n",
    "                font-size: 18px;\n",
    "                color: #333;\n",
    "                text-align: center;\n",
    "                font-weight: normal;\n",
    "            }}\n",
    "\n",
    "            .grafico img {{\n",
    "                width: 1000px;\n",
    "                padding-top: 20px;\n",
    "                padding-left: 30px;\n",
    "            }}\n",
    "\n",
    "            .tabela {{\n",
    "                width: 100%;\n",
    "                border-collapse: collapse;\n",
    "                margin-top: 20px;\n",
    "            }}\n",
    "            th, td {{\n",
    "                padding: 10px;\n",
    "                text-align: center;\n",
    "                border: 1px solid #ddd;\n",
    "            }}\n",
    "            th {{\n",
    "                background-color: #333;\n",
    "                color: white;\n",
    "            }}\n",
    "            td {{\n",
    "                background-color: #fff;\n",
    "            }}\n",
    "            footer {{\n",
    "                text-align: center;\n",
    "                font-size: 12px;\n",
    "                margin-top: 30px;\n",
    "            }}\n",
    "        </style>\n",
    "    </head>\n",
    "    <body>\n",
    "        <header>\n",
    "        </header>\n",
    "\n",
    "        <!-- Seção do título do mês -->\n",
    "        <div class=\"mes\">{mes_referente} - {setor}</div>\n",
    "\n",
    "        <!-- Seção das Caixinhas -->\n",
    "        <div class=\"informacoes\">\n",
    "            <div class=\"caixinha\">\n",
    "                <h3>Admissões</h3>\n",
    "                <p>{total_admissoes}</p>\n",
    "            </div>\n",
    "            <div class=\"caixinha\">\n",
    "                <h3>Saldo</h3>\n",
    "                <p>{saldo}</p>\n",
    "            </div>\n",
    "            <div class=\"caixinha\">\n",
    "                <h3>Desligamentos</h3>\n",
    "                <p>{total_desligamentos}</p>\n",
    "            </div>\n",
    "            <div class=\"caixinha\">\n",
    "                <h3>Estoque CLT</h3>\n",
    "                <p>{estoque_clt}</p>\n",
    "            </div>\n",
    "        </div>\n",
    "        <div class=\"grafico\">\n",
    "            <h3>Saldo de Emprego Acumulado e {mes_nome} - {setor}</h3>\n",
    "            <img src=\"data:image/png;base64,{grafico_acumulado_ano_e_mes_b64}\">\n",
    "        </div>\n",
    "\n",
    "        <div class=\"grafico\">\n",
    "            <h3>Saldo de Emprego por Mês - {setor}</h3>\n",
    "            <img src=\"data:image/png;base64,{grafico_saldo_ts_b64}\">\n",
    "        </div>\n",
    "\n",
    "        <div class=\"grafico\">\n",
    "            <h3>Top Maiores e Menores Saldos por Atividade Econômica em {ano} - {setor}</h3>\n",
    "            <img src=\"data:image/png;base64,{grafico_saldo_cnae_b64}\">\n",
    "        </div>\n",
    "\n",
    "        <div class=\"grafico\">\n",
    "            <h3>Saldo de Emprego nos Meses de {mes_nome} - {setor}</h3>\n",
    "            <img src=\"data:image/png;base64,{grafico_mes_colunas_b64}\">\n",
    "        </div>\n",
    "\n",
    "       <div class=\"grafico\">\n",
    "            <h3>Saldo Acumulado de Emprego de {ano} por Porte - {setor}</h3>\n",
    "            <img src=\"data:image/png;base64,{grafico_saldo_porte_b64}\">\n",
    "        </div>\n",
    "\n",
    "               <div class=\"grafico\">\n",
    "            <h3>Saldo de Emprego por Estado do Nordeste - {setor} em {mes_referente}</h3>\n",
    "            <img src=\"data:image/png;base64,{grafico_nordeste_b64}\">\n",
    "        </div>\n",
    "\n",
    "        <div class=\"grafico\">\n",
    "            <h3>Saldo de Emprego por Mês e Porte - {setor}</h3>\n",
    "            <img src=\"data:image/png;base64,{grafico_ts_porte_b64}\">\n",
    "        </div>\n",
    "\n",
    "           <div class=\"grafico\">\n",
    "            <h3>Saldo de Emprego nos Municípios do RN - {setor} em {mes_referente}</h3>\n",
    "            <img src=\"data:image/png;base64,{mapa_b64}\">\n",
    "        </div>\n",
    "    </body>\n",
    "    </html>\n",
    "    \"\"\"\n",
    "\n",
    "    return html_content\n",
    "\n",
    "def gerar_pdf(html_content, file_path):\n",
    "  weasyprint.HTML(string=html_content).write_pdf(file_path)\n",
    "\n",
    "# Gerar HTML com os valores das variáveis\n",
    "html_content = gerar_html(total_admissoes, saldo, total_desligamentos, estoque,setor)\n",
    "\n",
    "# Gerar o PDF\n",
    "gerar_pdf(html_content, f\"pdfs/boletim_emprego_{competencia}-{setor}.pdf\")"
   ]
  }
 ],
 "metadata": {
  "colab": {
   "provenance": []
  },
  "kernelspec": {
   "display_name": "venv",
   "language": "python",
   "name": "python3"
  },
  "language_info": {
   "codemirror_mode": {
    "name": "ipython",
    "version": 3
   },
   "file_extension": ".py",
   "mimetype": "text/x-python",
   "name": "python",
   "nbconvert_exporter": "python",
   "pygments_lexer": "ipython3",
   "version": "3.13.0"
  },
  "papermill": {
   "default_parameters": {},
   "duration": 22.08437,
   "end_time": "2025-07-15T19:07:57.021271",
   "environment_variables": {},
   "exception": null,
   "input_path": "Generate_Boletim_Emprego-SETOR.ipynb",
   "output_path": "Generate_Boletim_Emprego-SETOR.ipynb",
   "parameters": {
    "setor": "Agropecuária"
   },
   "start_time": "2025-07-15T19:07:34.936901",
   "version": "2.6.0"
  }
 },
 "nbformat": 4,
 "nbformat_minor": 5
}