{
 "cells": [
  {
   "cell_type": "code",
   "execution_count": 1,
   "id": "e8831428",
   "metadata": {
    "execution": {
     "iopub.execute_input": "2025-07-15T18:51:50.551951Z",
     "iopub.status.busy": "2025-07-15T18:51:50.551533Z",
     "iopub.status.idle": "2025-07-15T18:51:50.558038Z",
     "shell.execute_reply": "2025-07-15T18:51:50.557145Z"
    },
    "papermill": {
     "duration": 0.02442,
     "end_time": "2025-07-15T18:51:50.559615",
     "exception": false,
     "start_time": "2025-07-15T18:51:50.535195",
     "status": "completed"
    },
    "tags": [
     "parameters"
    ]
   },
   "outputs": [],
   "source": [
    "# Parameters\n",
    "municipio = \"Natal\"\n"
   ]
  },
  {
   "cell_type": "code",
   "execution_count": 2,
   "id": "355a02cd",
   "metadata": {
    "execution": {
     "iopub.execute_input": "2025-07-15T18:51:50.576474Z",
     "iopub.status.busy": "2025-07-15T18:51:50.576030Z",
     "iopub.status.idle": "2025-07-15T18:51:50.579923Z",
     "shell.execute_reply": "2025-07-15T18:51:50.579282Z"
    },
    "papermill": {
     "duration": 0.014738,
     "end_time": "2025-07-15T18:51:50.581114",
     "exception": false,
     "start_time": "2025-07-15T18:51:50.566376",
     "status": "completed"
    },
    "tags": [
     "injected-parameters"
    ]
   },
   "outputs": [],
   "source": [
    "# Parameters\n",
    "municipio = \"Natal\"\n"
   ]
  },
  {
   "cell_type": "markdown",
   "id": "57254cde",
   "metadata": {
    "papermill": {
     "duration": 0.005773,
     "end_time": "2025-07-15T18:51:50.595703",
     "exception": false,
     "start_time": "2025-07-15T18:51:50.589930",
     "status": "completed"
    },
    "tags": []
   },
   "source": [
    "Para rodar, é necessário:\n",
    "- Criar pastas com os seguintes nomes: dados, img e pdfs\n",
    "- Colocar os dados necessários na pasta 'dados' (caged.csv, caged_nordeste.csv, cagedest_rn_saldo_mensal.csv, porte_mensal_rn_excel.xlsx e cnaes_subclasses.csv)\n",
    "    - Obs.: rodar 'build_caged.R' para obter esses dados.\n",
    "- Instalar as bibliotecas que estão comentadas abaixo"
   ]
  },
  {
   "cell_type": "code",
   "execution_count": 3,
   "id": "acfb4c11",
   "metadata": {
    "execution": {
     "iopub.execute_input": "2025-07-15T18:51:50.610849Z",
     "iopub.status.busy": "2025-07-15T18:51:50.610307Z",
     "iopub.status.idle": "2025-07-15T18:51:50.613808Z",
     "shell.execute_reply": "2025-07-15T18:51:50.613004Z"
    },
    "papermill": {
     "duration": 0.011416,
     "end_time": "2025-07-15T18:51:50.614889",
     "exception": false,
     "start_time": "2025-07-15T18:51:50.603473",
     "status": "completed"
    },
    "tags": []
   },
   "outputs": [],
   "source": [
    "# !pip install weasyprint\n",
    "# !pip install geobr\n",
    "# !pip install adjustText"
   ]
  },
  {
   "cell_type": "code",
   "execution_count": 4,
   "id": "cf8f9155",
   "metadata": {
    "execution": {
     "iopub.execute_input": "2025-07-15T18:51:50.629806Z",
     "iopub.status.busy": "2025-07-15T18:51:50.629532Z",
     "iopub.status.idle": "2025-07-15T18:51:54.289598Z",
     "shell.execute_reply": "2025-07-15T18:51:54.288738Z"
    },
    "id": "B-5qqm-im1bf",
    "papermill": {
     "duration": 3.668341,
     "end_time": "2025-07-15T18:51:54.291003",
     "exception": false,
     "start_time": "2025-07-15T18:51:50.622662",
     "status": "completed"
    },
    "tags": []
   },
   "outputs": [],
   "source": [
    "import seaborn as sns\n",
    "import pandas as pd\n",
    "import matplotlib.pyplot as plt\n",
    "import base64\n",
    "from io import BytesIO\n",
    "import weasyprint\n",
    "from pathlib import Path\n",
    "import matplotlib.dates as mdates\n",
    "import geopandas as gpd\n",
    "from shapely.geometry import box\n",
    "import geobr\n",
    "import matplotlib.pyplot as plt\n",
    "from adjustText import adjust_text\n",
    "from datetime import datetime\n",
    "from pathlib import Path"
   ]
  },
  {
   "cell_type": "markdown",
   "id": "d3561d3d",
   "metadata": {
    "id": "UTN3lA_EmOC5",
    "papermill": {
     "duration": 0.008657,
     "end_time": "2025-07-15T18:51:54.307371",
     "exception": false,
     "start_time": "2025-07-15T18:51:54.298714",
     "status": "completed"
    },
    "tags": []
   },
   "source": [
    "# Dados"
   ]
  },
  {
   "cell_type": "code",
   "execution_count": 5,
   "id": "ba6e5cd8",
   "metadata": {
    "execution": {
     "iopub.execute_input": "2025-07-15T18:51:54.323728Z",
     "iopub.status.busy": "2025-07-15T18:51:54.323214Z",
     "iopub.status.idle": "2025-07-15T18:52:00.713156Z",
     "shell.execute_reply": "2025-07-15T18:52:00.712324Z"
    },
    "id": "5kCkfqIVkJSe",
    "papermill": {
     "duration": 6.400502,
     "end_time": "2025-07-15T18:52:00.714894",
     "exception": false,
     "start_time": "2025-07-15T18:51:54.314392",
     "status": "completed"
    },
    "tags": []
   },
   "outputs": [],
   "source": [
    "data = pd.read_csv(\"dados/caged.csv\")"
   ]
  },
  {
   "cell_type": "code",
   "execution_count": 6,
   "id": "5608e0c9",
   "metadata": {
    "colab": {
     "base_uri": "https://localhost:8080/",
     "height": 343
    },
    "execution": {
     "iopub.execute_input": "2025-07-15T18:52:00.736675Z",
     "iopub.status.busy": "2025-07-15T18:52:00.736181Z",
     "iopub.status.idle": "2025-07-15T18:52:00.769839Z",
     "shell.execute_reply": "2025-07-15T18:52:00.768754Z"
    },
    "id": "0ZQ9GEPEkKoq",
    "outputId": "052c41b2-c99f-4962-c16c-20d4b6fdf4b6",
    "papermill": {
     "duration": 0.045819,
     "end_time": "2025-07-15T18:52:00.771187",
     "exception": false,
     "start_time": "2025-07-15T18:52:00.725368",
     "status": "completed"
    },
    "tags": []
   },
   "outputs": [
    {
     "data": {
      "text/html": [
       "<div>\n",
       "<style scoped>\n",
       "    .dataframe tbody tr th:only-of-type {\n",
       "        vertical-align: middle;\n",
       "    }\n",
       "\n",
       "    .dataframe tbody tr th {\n",
       "        vertical-align: top;\n",
       "    }\n",
       "\n",
       "    .dataframe thead th {\n",
       "        text-align: right;\n",
       "    }\n",
       "</style>\n",
       "<table border=\"1\" class=\"dataframe\">\n",
       "  <thead>\n",
       "    <tr style=\"text-align: right;\">\n",
       "      <th></th>\n",
       "      <th>competênciamov</th>\n",
       "      <th>região</th>\n",
       "      <th>uf</th>\n",
       "      <th>município</th>\n",
       "      <th>seção</th>\n",
       "      <th>subclasse</th>\n",
       "      <th>saldomovimentação</th>\n",
       "      <th>cbo2002ocupação</th>\n",
       "      <th>categoria</th>\n",
       "      <th>graudeinstrução</th>\n",
       "      <th>...</th>\n",
       "      <th>unidadesaláriocódigo</th>\n",
       "      <th>valorsaláriofixo</th>\n",
       "      <th>competênciaexc</th>\n",
       "      <th>indicadordeexclusão</th>\n",
       "      <th>admitidos</th>\n",
       "      <th>desligados</th>\n",
       "      <th>NI</th>\n",
       "      <th>grande_grupamento</th>\n",
       "      <th>porte</th>\n",
       "      <th>data</th>\n",
       "    </tr>\n",
       "  </thead>\n",
       "  <tbody>\n",
       "    <tr>\n",
       "      <th>0</th>\n",
       "      <td>202001</td>\n",
       "      <td>2</td>\n",
       "      <td>24</td>\n",
       "      <td>240810</td>\n",
       "      <td>G</td>\n",
       "      <td>4511102</td>\n",
       "      <td>-1</td>\n",
       "      <td>521110</td>\n",
       "      <td>101</td>\n",
       "      <td>6</td>\n",
       "      <td>...</td>\n",
       "      <td>5</td>\n",
       "      <td>103900.0</td>\n",
       "      <td>NaN</td>\n",
       "      <td>NaN</td>\n",
       "      <td>0</td>\n",
       "      <td>-1</td>\n",
       "      <td>NaN</td>\n",
       "      <td>Comércio</td>\n",
       "      <td>Micro</td>\n",
       "      <td>2020-01-01</td>\n",
       "    </tr>\n",
       "    <tr>\n",
       "      <th>1</th>\n",
       "      <td>202001</td>\n",
       "      <td>2</td>\n",
       "      <td>24</td>\n",
       "      <td>240810</td>\n",
       "      <td>Q</td>\n",
       "      <td>8630502</td>\n",
       "      <td>1</td>\n",
       "      <td>514320</td>\n",
       "      <td>101</td>\n",
       "      <td>7</td>\n",
       "      <td>...</td>\n",
       "      <td>5</td>\n",
       "      <td>106078.0</td>\n",
       "      <td>NaN</td>\n",
       "      <td>NaN</td>\n",
       "      <td>1</td>\n",
       "      <td>0</td>\n",
       "      <td>NaN</td>\n",
       "      <td>Serviços</td>\n",
       "      <td>Média</td>\n",
       "      <td>2020-01-01</td>\n",
       "    </tr>\n",
       "    <tr>\n",
       "      <th>2</th>\n",
       "      <td>202001</td>\n",
       "      <td>2</td>\n",
       "      <td>24</td>\n",
       "      <td>240810</td>\n",
       "      <td>N</td>\n",
       "      <td>8111700</td>\n",
       "      <td>-1</td>\n",
       "      <td>517410</td>\n",
       "      <td>101</td>\n",
       "      <td>3</td>\n",
       "      <td>...</td>\n",
       "      <td>5</td>\n",
       "      <td>96500.0</td>\n",
       "      <td>NaN</td>\n",
       "      <td>NaN</td>\n",
       "      <td>0</td>\n",
       "      <td>-1</td>\n",
       "      <td>NaN</td>\n",
       "      <td>Serviços</td>\n",
       "      <td>Grande</td>\n",
       "      <td>2020-01-01</td>\n",
       "    </tr>\n",
       "    <tr>\n",
       "      <th>3</th>\n",
       "      <td>202001</td>\n",
       "      <td>2</td>\n",
       "      <td>24</td>\n",
       "      <td>241420</td>\n",
       "      <td>I</td>\n",
       "      <td>5510801</td>\n",
       "      <td>-1</td>\n",
       "      <td>422105</td>\n",
       "      <td>999</td>\n",
       "      <td>7</td>\n",
       "      <td>...</td>\n",
       "      <td>99</td>\n",
       "      <td>NaN</td>\n",
       "      <td>NaN</td>\n",
       "      <td>NaN</td>\n",
       "      <td>0</td>\n",
       "      <td>-1</td>\n",
       "      <td>NaN</td>\n",
       "      <td>Serviços</td>\n",
       "      <td>Micro</td>\n",
       "      <td>2020-01-01</td>\n",
       "    </tr>\n",
       "    <tr>\n",
       "      <th>4</th>\n",
       "      <td>202001</td>\n",
       "      <td>2</td>\n",
       "      <td>24</td>\n",
       "      <td>240800</td>\n",
       "      <td>N</td>\n",
       "      <td>8299799</td>\n",
       "      <td>1</td>\n",
       "      <td>524105</td>\n",
       "      <td>101</td>\n",
       "      <td>7</td>\n",
       "      <td>...</td>\n",
       "      <td>5</td>\n",
       "      <td>103900.0</td>\n",
       "      <td>NaN</td>\n",
       "      <td>NaN</td>\n",
       "      <td>1</td>\n",
       "      <td>0</td>\n",
       "      <td>NaN</td>\n",
       "      <td>Serviços</td>\n",
       "      <td>Pequena</td>\n",
       "      <td>2020-01-01</td>\n",
       "    </tr>\n",
       "  </tbody>\n",
       "</table>\n",
       "<p>5 rows × 36 columns</p>\n",
       "</div>"
      ],
      "text/plain": [
       "   competênciamov  região  uf  município seção  subclasse  saldomovimentação  \\\n",
       "0          202001       2  24     240810     G    4511102                 -1   \n",
       "1          202001       2  24     240810     Q    8630502                  1   \n",
       "2          202001       2  24     240810     N    8111700                 -1   \n",
       "3          202001       2  24     241420     I    5510801                 -1   \n",
       "4          202001       2  24     240800     N    8299799                  1   \n",
       "\n",
       "   cbo2002ocupação  categoria  graudeinstrução  ...  unidadesaláriocódigo  \\\n",
       "0           521110        101                6  ...                     5   \n",
       "1           514320        101                7  ...                     5   \n",
       "2           517410        101                3  ...                     5   \n",
       "3           422105        999                7  ...                    99   \n",
       "4           524105        101                7  ...                     5   \n",
       "\n",
       "   valorsaláriofixo  competênciaexc  indicadordeexclusão  admitidos  \\\n",
       "0          103900.0             NaN                  NaN          0   \n",
       "1          106078.0             NaN                  NaN          1   \n",
       "2           96500.0             NaN                  NaN          0   \n",
       "3               NaN             NaN                  NaN          0   \n",
       "4          103900.0             NaN                  NaN          1   \n",
       "\n",
       "   desligados  NI  grande_grupamento    porte        data  \n",
       "0          -1 NaN           Comércio    Micro  2020-01-01  \n",
       "1           0 NaN           Serviços    Média  2020-01-01  \n",
       "2          -1 NaN           Serviços   Grande  2020-01-01  \n",
       "3          -1 NaN           Serviços    Micro  2020-01-01  \n",
       "4           0 NaN           Serviços  Pequena  2020-01-01  \n",
       "\n",
       "[5 rows x 36 columns]"
      ]
     },
     "execution_count": 6,
     "metadata": {},
     "output_type": "execute_result"
    }
   ],
   "source": [
    "data.head()"
   ]
  },
  {
   "cell_type": "code",
   "execution_count": 7,
   "id": "1f5bb452",
   "metadata": {
    "execution": {
     "iopub.execute_input": "2025-07-15T18:52:00.789268Z",
     "iopub.status.busy": "2025-07-15T18:52:00.788866Z",
     "iopub.status.idle": "2025-07-15T18:52:02.776092Z",
     "shell.execute_reply": "2025-07-15T18:52:02.775357Z"
    },
    "papermill": {
     "duration": 2.00011,
     "end_time": "2025-07-15T18:52:02.778117",
     "exception": false,
     "start_time": "2025-07-15T18:52:00.778007",
     "status": "completed"
    },
    "tags": []
   },
   "outputs": [],
   "source": [
    "rn_map = geobr.read_municipality(code_muni=\"RN\")\n",
    "rn_map['code_muni'] = rn_map['code_muni'].astype(str).str[:-3]\n",
    "data['município'] = data['município'].astype(str)"
   ]
  },
  {
   "cell_type": "code",
   "execution_count": 8,
   "id": "a5a28afc",
   "metadata": {
    "execution": {
     "iopub.execute_input": "2025-07-15T18:52:02.797694Z",
     "iopub.status.busy": "2025-07-15T18:52:02.796794Z",
     "iopub.status.idle": "2025-07-15T18:52:04.192581Z",
     "shell.execute_reply": "2025-07-15T18:52:04.191731Z"
    },
    "papermill": {
     "duration": 1.406726,
     "end_time": "2025-07-15T18:52:04.194127",
     "exception": false,
     "start_time": "2025-07-15T18:52:02.787401",
     "status": "completed"
    },
    "tags": []
   },
   "outputs": [],
   "source": [
    "data = data.merge(\n",
    "    rn_map[['code_muni', 'name_muni']],\n",
    "    left_on='município',\n",
    "    right_on='code_muni',\n",
    "    how='left'\n",
    ")\n"
   ]
  },
  {
   "cell_type": "code",
   "execution_count": 9,
   "id": "fc8a41fb",
   "metadata": {
    "execution": {
     "iopub.execute_input": "2025-07-15T18:52:04.217124Z",
     "iopub.status.busy": "2025-07-15T18:52:04.215939Z",
     "iopub.status.idle": "2025-07-15T18:52:04.360145Z",
     "shell.execute_reply": "2025-07-15T18:52:04.359148Z"
    },
    "papermill": {
     "duration": 0.158962,
     "end_time": "2025-07-15T18:52:04.361290",
     "exception": false,
     "start_time": "2025-07-15T18:52:04.202328",
     "status": "completed"
    },
    "tags": []
   },
   "outputs": [
    {
     "data": {
      "text/plain": [
       "array(['Natal', 'Tibau Do Sul', 'Mossoró', 'Pendências', 'Parnamirim',\n",
       "       'Açu', 'Extremoz', 'São José De Mipibu',\n",
       "       'Governador Dix-Sept Rosado', 'Macaíba', 'Parelhas',\n",
       "       'São Gonçalo Do Amarante', 'Passa E Fica', 'Santa Maria',\n",
       "       'Caraúbas', 'São Miguel', 'Cruzeta', 'Pau Dos Ferros', 'Caicó',\n",
       "       'Ipanguaçu', 'Apodi', 'São Bento Do Norte', 'Jardim Do Seridó',\n",
       "       'Nísia Floresta', 'Baraúna', 'São Paulo Do Potengi', 'Arês',\n",
       "       'Goianinha', 'Canguaretama', 'Currais Novos', 'Nova Cruz',\n",
       "       'Ceará-Mirim', 'Carnaúba Dos Dantas', 'Santa Cruz',\n",
       "       'São José Do Seridó', 'Espírito Santo', 'Santo Antônio',\n",
       "       'Jardim De Piranhas', 'João Câmara', 'Areia Branca', 'Carnaubais',\n",
       "       'Equador', 'Afonso Bezerra', 'Jundiá', 'Alto Do Rodrigues',\n",
       "       'Janduís', 'Florânia', 'Vila Flor', 'Jandaíra', 'Guamaré',\n",
       "       'Ouro Branco', 'Touros', 'Tangará', 'Lagoa Nova', 'Sítio Novo',\n",
       "       'Venha-Ver', 'Angicos', 'São Miguel Do Gostoso', 'Parazinho',\n",
       "       'Macau', 'Pedro Avelino', 'Acari', 'Monte Alegre', 'Baía Formosa',\n",
       "       'Taipu', 'Upanema', 'Poço Branco', 'São João Do Sabugi',\n",
       "       'Presidente Juscelino', 'Grossos', 'Augusto Severo',\n",
       "       'Pedra Grande', 'Tibau', 'Itajá', 'Alexandria', 'Almino Afonso',\n",
       "       'Maxaranguape', 'Jucurutu', 'Patu', 'Porto Do Mangue', 'Lucrécia',\n",
       "       'Martins', 'Encanto', 'Umarizal', 'Galinhos', 'São Vicente',\n",
       "       'Serra Negra Do Norte', 'Brejinho', 'Lagoa De Velhos',\n",
       "       'São Fernando', 'Serra Do Mel', 'São Pedro',\n",
       "       'Caiçara Do Rio Do Vento', 'Japi', 'Bom Jesus', 'Pureza',\n",
       "       'Caiçara Do Norte', \"Lagoa D'anta\", 'Senador Georgino Avelino',\n",
       "       'Lajes', 'Felipe Guerra', 'Paraú', 'Montanhas', 'Messias Targino',\n",
       "       'Santana Do Seridó', 'Pedra Preta', 'Serrinha Dos Pintos',\n",
       "       'Pedro Velho', 'Severiano Melo', 'Passagem', 'Vera Cruz',\n",
       "       'Rio Do Fogo', 'José Da Penha', 'Bodó', 'Cerro Corá',\n",
       "       'Monte Das Gameleiras', 'Timbaúba Dos Batistas', 'Lagoa Salgada',\n",
       "       'Barcelona', 'Taboleiro Grande', 'Ipueira', 'Luís Gomes',\n",
       "       'São Francisco Do Oeste', 'Doutor Severiano',\n",
       "       'Tenente Laurentino Cruz', 'Santana Do Matos', 'Serrinha',\n",
       "       'Rafael Godeiro', 'São Rafael', 'Tenente Ananias', 'Riachuelo',\n",
       "       'Serra De São Bento', 'Campo Redondo', 'Antônio Martins', 'Várzea',\n",
       "       'Frutuoso Gomes', 'Lajes Pintadas', 'Januário Cicco',\n",
       "       \"Olho-D'água Do Borges\", 'Ielmo Marinho', 'São José Do Campestre',\n",
       "       'São Tomé', 'Francisco Dantas', 'Pilões', 'Portalegre',\n",
       "       'Riacho Da Cruz', 'Fernando Pedroza', 'Marcelino Vieira',\n",
       "       'Major Sales', 'Ruy Barbosa', 'Paraná', 'Lagoa De Pedras',\n",
       "       'Água Nova', 'Senador Elói De Souza', 'São Bento Do Trairí',\n",
       "       'Itaú', 'Jaçanã', 'Coronel João Pessoa', 'Coronel Ezequiel',\n",
       "       'Bento Fernandes', 'Rafael Fernandes', 'Jardim De Angicos',\n",
       "       'Rodolfo Fernandes', 'Triunfo Potiguar', 'Riacho De Santana',\n",
       "       'João Dias', 'Viçosa'], dtype=object)"
      ]
     },
     "execution_count": 9,
     "metadata": {},
     "output_type": "execute_result"
    }
   ],
   "source": [
    "data['name_muni'].unique()"
   ]
  },
  {
   "cell_type": "code",
   "execution_count": 10,
   "id": "edded7f1",
   "metadata": {
    "execution": {
     "iopub.execute_input": "2025-07-15T18:52:04.377045Z",
     "iopub.status.busy": "2025-07-15T18:52:04.376673Z",
     "iopub.status.idle": "2025-07-15T18:52:04.381023Z",
     "shell.execute_reply": "2025-07-15T18:52:04.380083Z"
    },
    "papermill": {
     "duration": 0.013926,
     "end_time": "2025-07-15T18:52:04.382101",
     "exception": false,
     "start_time": "2025-07-15T18:52:04.368175",
     "status": "completed"
    },
    "tags": []
   },
   "outputs": [],
   "source": [
    "# minicipio=\"Natal\""
   ]
  },
  {
   "cell_type": "code",
   "execution_count": 11,
   "id": "f9b1570f",
   "metadata": {
    "execution": {
     "iopub.execute_input": "2025-07-15T18:52:04.397231Z",
     "iopub.status.busy": "2025-07-15T18:52:04.396875Z",
     "iopub.status.idle": "2025-07-15T18:52:04.400980Z",
     "shell.execute_reply": "2025-07-15T18:52:04.400066Z"
    },
    "papermill": {
     "duration": 0.014479,
     "end_time": "2025-07-15T18:52:04.402724",
     "exception": false,
     "start_time": "2025-07-15T18:52:04.388245",
     "status": "completed"
    },
    "tags": []
   },
   "outputs": [],
   "source": [
    "municipio_nome_limpo = municipio.replace(\" \", \"_\").replace(\"'\", \"\")"
   ]
  },
  {
   "cell_type": "code",
   "execution_count": 12,
   "id": "4f20a3f9",
   "metadata": {
    "execution": {
     "iopub.execute_input": "2025-07-15T18:52:04.418574Z",
     "iopub.status.busy": "2025-07-15T18:52:04.418289Z",
     "iopub.status.idle": "2025-07-15T18:52:04.920360Z",
     "shell.execute_reply": "2025-07-15T18:52:04.919284Z"
    },
    "papermill": {
     "duration": 0.511292,
     "end_time": "2025-07-15T18:52:04.921881",
     "exception": false,
     "start_time": "2025-07-15T18:52:04.410589",
     "status": "completed"
    },
    "tags": []
   },
   "outputs": [],
   "source": [
    "data = data[data[\"name_muni\"]==municipio]"
   ]
  },
  {
   "cell_type": "code",
   "execution_count": 13,
   "id": "d70da048",
   "metadata": {
    "execution": {
     "iopub.execute_input": "2025-07-15T18:52:04.940353Z",
     "iopub.status.busy": "2025-07-15T18:52:04.939964Z",
     "iopub.status.idle": "2025-07-15T18:52:04.953818Z",
     "shell.execute_reply": "2025-07-15T18:52:04.952557Z"
    },
    "papermill": {
     "duration": 0.026503,
     "end_time": "2025-07-15T18:52:04.955413",
     "exception": false,
     "start_time": "2025-07-15T18:52:04.928910",
     "status": "completed"
    },
    "tags": []
   },
   "outputs": [],
   "source": [
    "subclasses = pd.read_csv(\"dados/cnaes_subclasses.csv\",encoding='latin1', sep=';')"
   ]
  },
  {
   "cell_type": "code",
   "execution_count": 14,
   "id": "4422a598",
   "metadata": {
    "execution": {
     "iopub.execute_input": "2025-07-15T18:52:04.977369Z",
     "iopub.status.busy": "2025-07-15T18:52:04.976881Z",
     "iopub.status.idle": "2025-07-15T18:52:04.983611Z",
     "shell.execute_reply": "2025-07-15T18:52:04.982462Z"
    },
    "papermill": {
     "duration": 0.02029,
     "end_time": "2025-07-15T18:52:04.985862",
     "exception": false,
     "start_time": "2025-07-15T18:52:04.965572",
     "status": "completed"
    },
    "tags": []
   },
   "outputs": [],
   "source": [
    "subclasses['num_cnae'] = subclasses['num_cnae'].fillna(0).astype(int)"
   ]
  },
  {
   "cell_type": "code",
   "execution_count": 15,
   "id": "d839e2d9",
   "metadata": {
    "execution": {
     "iopub.execute_input": "2025-07-15T18:52:05.007999Z",
     "iopub.status.busy": "2025-07-15T18:52:05.007383Z",
     "iopub.status.idle": "2025-07-15T18:52:05.016730Z",
     "shell.execute_reply": "2025-07-15T18:52:05.015733Z"
    },
    "papermill": {
     "duration": 0.022015,
     "end_time": "2025-07-15T18:52:05.018462",
     "exception": false,
     "start_time": "2025-07-15T18:52:04.996447",
     "status": "completed"
    },
    "tags": []
   },
   "outputs": [
    {
     "data": {
      "text/html": [
       "<div>\n",
       "<style scoped>\n",
       "    .dataframe tbody tr th:only-of-type {\n",
       "        vertical-align: middle;\n",
       "    }\n",
       "\n",
       "    .dataframe tbody tr th {\n",
       "        vertical-align: top;\n",
       "    }\n",
       "\n",
       "    .dataframe thead th {\n",
       "        text-align: right;\n",
       "    }\n",
       "</style>\n",
       "<table border=\"1\" class=\"dataframe\">\n",
       "  <thead>\n",
       "    <tr style=\"text-align: right;\">\n",
       "      <th></th>\n",
       "      <th>CNAE.CNAE_SUBCLASSE</th>\n",
       "      <th>num_cnae</th>\n",
       "      <th>desc_cnae</th>\n",
       "    </tr>\n",
       "  </thead>\n",
       "  <tbody>\n",
       "    <tr>\n",
       "      <th>0</th>\n",
       "      <td>7722500 - Aluguel de fitas de vídeo, DVDs e si...</td>\n",
       "      <td>7722500</td>\n",
       "      <td>Aluguel de fitas de vídeo, DVDs e similares</td>\n",
       "    </tr>\n",
       "    <tr>\n",
       "      <th>1</th>\n",
       "      <td>8630503 - Atividade médica ambulatorial restri...</td>\n",
       "      <td>8630503</td>\n",
       "      <td>Atividade médica ambulatorial restrita a consu...</td>\n",
       "    </tr>\n",
       "    <tr>\n",
       "      <th>2</th>\n",
       "      <td>133402 - Cultivo de banana</td>\n",
       "      <td>133402</td>\n",
       "      <td>Cultivo de banana</td>\n",
       "    </tr>\n",
       "    <tr>\n",
       "      <th>3</th>\n",
       "      <td>1321900 - Tecelagem de fios de algodão</td>\n",
       "      <td>1321900</td>\n",
       "      <td>Tecelagem de fios de algodão</td>\n",
       "    </tr>\n",
       "    <tr>\n",
       "      <th>4</th>\n",
       "      <td>8413200 - Regulação das atividades econômicas</td>\n",
       "      <td>8413200</td>\n",
       "      <td>Regulação das atividades econômicas</td>\n",
       "    </tr>\n",
       "  </tbody>\n",
       "</table>\n",
       "</div>"
      ],
      "text/plain": [
       "                                 CNAE.CNAE_SUBCLASSE  num_cnae  \\\n",
       "0  7722500 - Aluguel de fitas de vídeo, DVDs e si...   7722500   \n",
       "1  8630503 - Atividade médica ambulatorial restri...   8630503   \n",
       "2                         133402 - Cultivo de banana    133402   \n",
       "3             1321900 - Tecelagem de fios de algodão   1321900   \n",
       "4      8413200 - Regulação das atividades econômicas   8413200   \n",
       "\n",
       "                                           desc_cnae  \n",
       "0        Aluguel de fitas de vídeo, DVDs e similares  \n",
       "1  Atividade médica ambulatorial restrita a consu...  \n",
       "2                                  Cultivo de banana  \n",
       "3                       Tecelagem de fios de algodão  \n",
       "4                Regulação das atividades econômicas  "
      ]
     },
     "execution_count": 15,
     "metadata": {},
     "output_type": "execute_result"
    }
   ],
   "source": [
    "subclasses.head()"
   ]
  },
  {
   "cell_type": "code",
   "execution_count": 16,
   "id": "732e2d2d",
   "metadata": {
    "execution": {
     "iopub.execute_input": "2025-07-15T18:52:05.041860Z",
     "iopub.status.busy": "2025-07-15T18:52:05.041482Z",
     "iopub.status.idle": "2025-07-15T18:52:05.451261Z",
     "shell.execute_reply": "2025-07-15T18:52:05.450202Z"
    },
    "papermill": {
     "duration": 0.42415,
     "end_time": "2025-07-15T18:52:05.453100",
     "exception": false,
     "start_time": "2025-07-15T18:52:05.028950",
     "status": "completed"
    },
    "tags": []
   },
   "outputs": [],
   "source": [
    "# Realizar o merge com base na correspondência entre 'num_cnae' e 'subclasse'\n",
    "data = data.merge(subclasses[['num_cnae', 'desc_cnae']], \n",
    "                  how='left', \n",
    "                  left_on='subclasse', \n",
    "                  right_on='num_cnae')"
   ]
  },
  {
   "cell_type": "code",
   "execution_count": 17,
   "id": "a953932b",
   "metadata": {
    "execution": {
     "iopub.execute_input": "2025-07-15T18:52:05.473283Z",
     "iopub.status.busy": "2025-07-15T18:52:05.472959Z",
     "iopub.status.idle": "2025-07-15T18:52:05.486268Z",
     "shell.execute_reply": "2025-07-15T18:52:05.485511Z"
    },
    "papermill": {
     "duration": 0.026799,
     "end_time": "2025-07-15T18:52:05.487383",
     "exception": false,
     "start_time": "2025-07-15T18:52:05.460584",
     "status": "completed"
    },
    "tags": []
   },
   "outputs": [
    {
     "data": {
      "text/html": [
       "<div>\n",
       "<style scoped>\n",
       "    .dataframe tbody tr th:only-of-type {\n",
       "        vertical-align: middle;\n",
       "    }\n",
       "\n",
       "    .dataframe tbody tr th {\n",
       "        vertical-align: top;\n",
       "    }\n",
       "\n",
       "    .dataframe thead th {\n",
       "        text-align: right;\n",
       "    }\n",
       "</style>\n",
       "<table border=\"1\" class=\"dataframe\">\n",
       "  <thead>\n",
       "    <tr style=\"text-align: right;\">\n",
       "      <th></th>\n",
       "      <th>competênciamov</th>\n",
       "      <th>região</th>\n",
       "      <th>uf</th>\n",
       "      <th>município</th>\n",
       "      <th>seção</th>\n",
       "      <th>subclasse</th>\n",
       "      <th>saldomovimentação</th>\n",
       "      <th>cbo2002ocupação</th>\n",
       "      <th>categoria</th>\n",
       "      <th>graudeinstrução</th>\n",
       "      <th>...</th>\n",
       "      <th>admitidos</th>\n",
       "      <th>desligados</th>\n",
       "      <th>NI</th>\n",
       "      <th>grande_grupamento</th>\n",
       "      <th>porte</th>\n",
       "      <th>data</th>\n",
       "      <th>code_muni</th>\n",
       "      <th>name_muni</th>\n",
       "      <th>num_cnae</th>\n",
       "      <th>desc_cnae</th>\n",
       "    </tr>\n",
       "  </thead>\n",
       "  <tbody>\n",
       "    <tr>\n",
       "      <th>0</th>\n",
       "      <td>202001</td>\n",
       "      <td>2</td>\n",
       "      <td>24</td>\n",
       "      <td>240810</td>\n",
       "      <td>G</td>\n",
       "      <td>4511102</td>\n",
       "      <td>-1</td>\n",
       "      <td>521110</td>\n",
       "      <td>101</td>\n",
       "      <td>6</td>\n",
       "      <td>...</td>\n",
       "      <td>0</td>\n",
       "      <td>-1</td>\n",
       "      <td>NaN</td>\n",
       "      <td>Comércio</td>\n",
       "      <td>Micro</td>\n",
       "      <td>2020-01-01</td>\n",
       "      <td>240810</td>\n",
       "      <td>Natal</td>\n",
       "      <td>4511102.0</td>\n",
       "      <td>Comércio a varejo de automóveis, camionetas e ...</td>\n",
       "    </tr>\n",
       "    <tr>\n",
       "      <th>1</th>\n",
       "      <td>202001</td>\n",
       "      <td>2</td>\n",
       "      <td>24</td>\n",
       "      <td>240810</td>\n",
       "      <td>Q</td>\n",
       "      <td>8630502</td>\n",
       "      <td>1</td>\n",
       "      <td>514320</td>\n",
       "      <td>101</td>\n",
       "      <td>7</td>\n",
       "      <td>...</td>\n",
       "      <td>1</td>\n",
       "      <td>0</td>\n",
       "      <td>NaN</td>\n",
       "      <td>Serviços</td>\n",
       "      <td>Média</td>\n",
       "      <td>2020-01-01</td>\n",
       "      <td>240810</td>\n",
       "      <td>Natal</td>\n",
       "      <td>8630502.0</td>\n",
       "      <td>Atividade médica ambulatorial com recursos par...</td>\n",
       "    </tr>\n",
       "    <tr>\n",
       "      <th>2</th>\n",
       "      <td>202001</td>\n",
       "      <td>2</td>\n",
       "      <td>24</td>\n",
       "      <td>240810</td>\n",
       "      <td>N</td>\n",
       "      <td>8111700</td>\n",
       "      <td>-1</td>\n",
       "      <td>517410</td>\n",
       "      <td>101</td>\n",
       "      <td>3</td>\n",
       "      <td>...</td>\n",
       "      <td>0</td>\n",
       "      <td>-1</td>\n",
       "      <td>NaN</td>\n",
       "      <td>Serviços</td>\n",
       "      <td>Grande</td>\n",
       "      <td>2020-01-01</td>\n",
       "      <td>240810</td>\n",
       "      <td>Natal</td>\n",
       "      <td>8111700.0</td>\n",
       "      <td>Serviços combinados para apoio a edifícios, ex...</td>\n",
       "    </tr>\n",
       "    <tr>\n",
       "      <th>3</th>\n",
       "      <td>202001</td>\n",
       "      <td>2</td>\n",
       "      <td>24</td>\n",
       "      <td>240810</td>\n",
       "      <td>G</td>\n",
       "      <td>4781400</td>\n",
       "      <td>-1</td>\n",
       "      <td>261125</td>\n",
       "      <td>999</td>\n",
       "      <td>9</td>\n",
       "      <td>...</td>\n",
       "      <td>0</td>\n",
       "      <td>-1</td>\n",
       "      <td>NaN</td>\n",
       "      <td>Comércio</td>\n",
       "      <td>Micro</td>\n",
       "      <td>2020-01-01</td>\n",
       "      <td>240810</td>\n",
       "      <td>Natal</td>\n",
       "      <td>4781400.0</td>\n",
       "      <td>Comércio varejista de artigos do vestuário e a...</td>\n",
       "    </tr>\n",
       "    <tr>\n",
       "      <th>4</th>\n",
       "      <td>202001</td>\n",
       "      <td>2</td>\n",
       "      <td>24</td>\n",
       "      <td>240810</td>\n",
       "      <td>H</td>\n",
       "      <td>5310502</td>\n",
       "      <td>1</td>\n",
       "      <td>519110</td>\n",
       "      <td>101</td>\n",
       "      <td>7</td>\n",
       "      <td>...</td>\n",
       "      <td>1</td>\n",
       "      <td>0</td>\n",
       "      <td>NaN</td>\n",
       "      <td>Serviços</td>\n",
       "      <td>Micro</td>\n",
       "      <td>2020-01-01</td>\n",
       "      <td>240810</td>\n",
       "      <td>Natal</td>\n",
       "      <td>5310502.0</td>\n",
       "      <td>Atividades de franqueadas e permissionárias do...</td>\n",
       "    </tr>\n",
       "  </tbody>\n",
       "</table>\n",
       "<p>5 rows × 40 columns</p>\n",
       "</div>"
      ],
      "text/plain": [
       "   competênciamov  região  uf município seção  subclasse  saldomovimentação  \\\n",
       "0          202001       2  24    240810     G    4511102                 -1   \n",
       "1          202001       2  24    240810     Q    8630502                  1   \n",
       "2          202001       2  24    240810     N    8111700                 -1   \n",
       "3          202001       2  24    240810     G    4781400                 -1   \n",
       "4          202001       2  24    240810     H    5310502                  1   \n",
       "\n",
       "   cbo2002ocupação  categoria  graudeinstrução  ...  admitidos  desligados  \\\n",
       "0           521110        101                6  ...          0          -1   \n",
       "1           514320        101                7  ...          1           0   \n",
       "2           517410        101                3  ...          0          -1   \n",
       "3           261125        999                9  ...          0          -1   \n",
       "4           519110        101                7  ...          1           0   \n",
       "\n",
       "   NI  grande_grupamento   porte        data  code_muni  name_muni   num_cnae  \\\n",
       "0 NaN           Comércio   Micro  2020-01-01     240810      Natal  4511102.0   \n",
       "1 NaN           Serviços   Média  2020-01-01     240810      Natal  8630502.0   \n",
       "2 NaN           Serviços  Grande  2020-01-01     240810      Natal  8111700.0   \n",
       "3 NaN           Comércio   Micro  2020-01-01     240810      Natal  4781400.0   \n",
       "4 NaN           Serviços   Micro  2020-01-01     240810      Natal  5310502.0   \n",
       "\n",
       "                                           desc_cnae  \n",
       "0  Comércio a varejo de automóveis, camionetas e ...  \n",
       "1  Atividade médica ambulatorial com recursos par...  \n",
       "2  Serviços combinados para apoio a edifícios, ex...  \n",
       "3  Comércio varejista de artigos do vestuário e a...  \n",
       "4  Atividades de franqueadas e permissionárias do...  \n",
       "\n",
       "[5 rows x 40 columns]"
      ]
     },
     "execution_count": 17,
     "metadata": {},
     "output_type": "execute_result"
    }
   ],
   "source": [
    "data.head()"
   ]
  },
  {
   "cell_type": "code",
   "execution_count": 18,
   "id": "93d5c192",
   "metadata": {
    "execution": {
     "iopub.execute_input": "2025-07-15T18:52:05.503381Z",
     "iopub.status.busy": "2025-07-15T18:52:05.503123Z",
     "iopub.status.idle": "2025-07-15T18:52:05.508037Z",
     "shell.execute_reply": "2025-07-15T18:52:05.507448Z"
    },
    "papermill": {
     "duration": 0.014614,
     "end_time": "2025-07-15T18:52:05.509079",
     "exception": false,
     "start_time": "2025-07-15T18:52:05.494465",
     "status": "completed"
    },
    "tags": []
   },
   "outputs": [
    {
     "data": {
      "text/plain": [
       "(882954, 40)"
      ]
     },
     "execution_count": 18,
     "metadata": {},
     "output_type": "execute_result"
    }
   ],
   "source": [
    "data.shape"
   ]
  },
  {
   "cell_type": "code",
   "execution_count": 19,
   "id": "8a3b078c",
   "metadata": {
    "execution": {
     "iopub.execute_input": "2025-07-15T18:52:05.526053Z",
     "iopub.status.busy": "2025-07-15T18:52:05.525758Z",
     "iopub.status.idle": "2025-07-15T18:52:05.816837Z",
     "shell.execute_reply": "2025-07-15T18:52:05.815628Z"
    },
    "papermill": {
     "duration": 0.301521,
     "end_time": "2025-07-15T18:52:05.818484",
     "exception": false,
     "start_time": "2025-07-15T18:52:05.516963",
     "status": "completed"
    },
    "tags": []
   },
   "outputs": [],
   "source": [
    "data['ano'] = data['competênciamov'].astype(str).str[:4]"
   ]
  },
  {
   "cell_type": "code",
   "execution_count": 20,
   "id": "52207ec7",
   "metadata": {
    "execution": {
     "iopub.execute_input": "2025-07-15T18:52:05.835889Z",
     "iopub.status.busy": "2025-07-15T18:52:05.835553Z",
     "iopub.status.idle": "2025-07-15T18:52:05.927773Z",
     "shell.execute_reply": "2025-07-15T18:52:05.927096Z"
    },
    "papermill": {
     "duration": 0.101846,
     "end_time": "2025-07-15T18:52:05.929047",
     "exception": false,
     "start_time": "2025-07-15T18:52:05.827201",
     "status": "completed"
    },
    "tags": []
   },
   "outputs": [
    {
     "name": "stdout",
     "output_type": "stream",
     "text": [
      "Competência: 202505\n"
     ]
    }
   ],
   "source": [
    "data['data'] = pd.to_datetime(data['data'])\n",
    "# Encontrar a data mais recente\n",
    "data_mais_recente = data['data'].max()\n",
    "\n",
    "# Converter para o formato 'YYYYMM' como string\n",
    "competencia = data_mais_recente.strftime('%Y%m')\n",
    "\n",
    "# Exibir a competência\n",
    "print(\"Competência:\", competencia)"
   ]
  },
  {
   "cell_type": "code",
   "execution_count": 21,
   "id": "d65f8c9a",
   "metadata": {
    "execution": {
     "iopub.execute_input": "2025-07-15T18:52:05.946484Z",
     "iopub.status.busy": "2025-07-15T18:52:05.945857Z",
     "iopub.status.idle": "2025-07-15T18:52:05.972582Z",
     "shell.execute_reply": "2025-07-15T18:52:05.971884Z"
    },
    "papermill": {
     "duration": 0.035773,
     "end_time": "2025-07-15T18:52:05.973947",
     "exception": false,
     "start_time": "2025-07-15T18:52:05.938174",
     "status": "completed"
    },
    "tags": []
   },
   "outputs": [
    {
     "name": "stdout",
     "output_type": "stream",
     "text": [
      "Data por extenso: Maio de 2025\n"
     ]
    }
   ],
   "source": [
    "import locale\n",
    "\n",
    "# Configurar o locale para o idioma português do Brasil\n",
    "locale.setlocale(locale.LC_TIME, 'pt_BR.UTF-8')\n",
    "\n",
    "# Converter a data mais recente para um texto por extenso\n",
    "mes_referente = data_mais_recente.strftime('%B de %Y').capitalize()\n",
    "\n",
    "# Exibir a data por extenso\n",
    "print(\"Data por extenso:\", mes_referente)\n"
   ]
  },
  {
   "cell_type": "code",
   "execution_count": 22,
   "id": "c67756e9",
   "metadata": {
    "execution": {
     "iopub.execute_input": "2025-07-15T18:52:05.992574Z",
     "iopub.status.busy": "2025-07-15T18:52:05.992088Z",
     "iopub.status.idle": "2025-07-15T18:52:06.041547Z",
     "shell.execute_reply": "2025-07-15T18:52:06.040870Z"
    },
    "papermill": {
     "duration": 0.061987,
     "end_time": "2025-07-15T18:52:06.042772",
     "exception": false,
     "start_time": "2025-07-15T18:52:05.980785",
     "status": "completed"
    },
    "tags": []
   },
   "outputs": [],
   "source": [
    "meses_pt = {\n",
    "    1: 'janeiro', 2: 'fevereiro', 3: 'março',\n",
    "    4: 'abril', 5: 'maio', 6: 'junho',\n",
    "    7: 'julho', 8: 'agosto', 9: 'setembro',\n",
    "    10: 'outubro', 11: 'novembro', 12: 'dezembro'\n",
    "}\n",
    "\n",
    "data_mais_recente = pd.to_datetime(data['data']).max()\n",
    "mes_referente = f\"{meses_pt[data_mais_recente.month]} de {data_mais_recente.year}\"\n",
    "mes_referente = mes_referente.capitalize()\n"
   ]
  },
  {
   "cell_type": "code",
   "execution_count": 23,
   "id": "3ee079bf",
   "metadata": {
    "execution": {
     "iopub.execute_input": "2025-07-15T18:52:06.061316Z",
     "iopub.status.busy": "2025-07-15T18:52:06.060740Z",
     "iopub.status.idle": "2025-07-15T18:52:06.065563Z",
     "shell.execute_reply": "2025-07-15T18:52:06.064854Z"
    },
    "papermill": {
     "duration": 0.014329,
     "end_time": "2025-07-15T18:52:06.067328",
     "exception": false,
     "start_time": "2025-07-15T18:52:06.052999",
     "status": "completed"
    },
    "tags": []
   },
   "outputs": [
    {
     "name": "stdout",
     "output_type": "stream",
     "text": [
      "Data por extenso: Maio de 2025\n"
     ]
    }
   ],
   "source": [
    "print(\"Data por extenso:\", mes_referente)"
   ]
  },
  {
   "cell_type": "code",
   "execution_count": 24,
   "id": "0c7a0f79",
   "metadata": {
    "execution": {
     "iopub.execute_input": "2025-07-15T18:52:06.081941Z",
     "iopub.status.busy": "2025-07-15T18:52:06.081393Z",
     "iopub.status.idle": "2025-07-15T18:52:06.086469Z",
     "shell.execute_reply": "2025-07-15T18:52:06.085529Z"
    },
    "papermill": {
     "duration": 0.013616,
     "end_time": "2025-07-15T18:52:06.087585",
     "exception": false,
     "start_time": "2025-07-15T18:52:06.073969",
     "status": "completed"
    },
    "tags": []
   },
   "outputs": [],
   "source": [
    "mes_nome = mes_referente.split()[0]\n",
    "ano = mes_referente.split()[-1]"
   ]
  },
  {
   "cell_type": "code",
   "execution_count": 25,
   "id": "d21cb9d6",
   "metadata": {
    "execution": {
     "iopub.execute_input": "2025-07-15T18:52:06.102828Z",
     "iopub.status.busy": "2025-07-15T18:52:06.101943Z",
     "iopub.status.idle": "2025-07-15T18:52:06.107360Z",
     "shell.execute_reply": "2025-07-15T18:52:06.106733Z"
    },
    "papermill": {
     "duration": 0.014223,
     "end_time": "2025-07-15T18:52:06.108395",
     "exception": false,
     "start_time": "2025-07-15T18:52:06.094172",
     "status": "completed"
    },
    "tags": []
   },
   "outputs": [
    {
     "data": {
      "text/plain": [
       "Index(['competênciamov', 'região', 'uf', 'município', 'seção', 'subclasse',\n",
       "       'saldomovimentação', 'cbo2002ocupação', 'categoria', 'graudeinstrução',\n",
       "       'idade', 'horascontratuais', 'raçacor', 'sexo', 'tipoempregador',\n",
       "       'tipoestabelecimento', 'tipomovimentação', 'tipodedeficiência',\n",
       "       'indtrabintermitente', 'indtrabparcial', 'salário', 'tamestabjan',\n",
       "       'indicadoraprendiz', 'origemdainformação', 'competênciadec',\n",
       "       'indicadordeforadoprazo', 'unidadesaláriocódigo', 'valorsaláriofixo',\n",
       "       'competênciaexc', 'indicadordeexclusão', 'admitidos', 'desligados',\n",
       "       'NI', 'grande_grupamento', 'porte', 'data', 'code_muni', 'name_muni',\n",
       "       'num_cnae', 'desc_cnae', 'ano'],\n",
       "      dtype='object')"
      ]
     },
     "execution_count": 25,
     "metadata": {},
     "output_type": "execute_result"
    }
   ],
   "source": [
    "data.columns"
   ]
  },
  {
   "cell_type": "code",
   "execution_count": 26,
   "id": "c5e0c31a",
   "metadata": {
    "execution": {
     "iopub.execute_input": "2025-07-15T18:52:06.125477Z",
     "iopub.status.busy": "2025-07-15T18:52:06.124854Z",
     "iopub.status.idle": "2025-07-15T18:52:06.496579Z",
     "shell.execute_reply": "2025-07-15T18:52:06.495922Z"
    },
    "id": "426z8dOsmNNi",
    "papermill": {
     "duration": 0.383551,
     "end_time": "2025-07-15T18:52:06.498571",
     "exception": false,
     "start_time": "2025-07-15T18:52:06.115020",
     "status": "completed"
    },
    "tags": []
   },
   "outputs": [],
   "source": [
    "data['competênciamov'] = data['competênciamov'].astype(str)\n",
    "\n",
    "admissoes = data.loc[(data['saldomovimentação'] == 1) & (data['competênciamov'] == competencia)]\n",
    "total_admissoes = admissoes['saldomovimentação'].sum()\n",
    "\n",
    "desligamentos = data.loc[(data['saldomovimentação'] == -1) & (data['competênciamov'] == competencia)]\n",
    "total_desligamentos = -desligamentos['saldomovimentação'].sum()\n",
    "\n",
    "saldo = data.loc[(data['competênciamov'] == competencia)]['saldomovimentação'].sum()"
   ]
  },
  {
   "cell_type": "code",
   "execution_count": 27,
   "id": "b1fed826",
   "metadata": {
    "execution": {
     "iopub.execute_input": "2025-07-15T18:52:06.514836Z",
     "iopub.status.busy": "2025-07-15T18:52:06.514123Z",
     "iopub.status.idle": "2025-07-15T18:52:06.542087Z",
     "shell.execute_reply": "2025-07-15T18:52:06.541255Z"
    },
    "id": "4DTKBM0kjqo6",
    "papermill": {
     "duration": 0.03677,
     "end_time": "2025-07-15T18:52:06.543152",
     "exception": false,
     "start_time": "2025-07-15T18:52:06.506382",
     "status": "completed"
    },
    "tags": []
   },
   "outputs": [],
   "source": [
    "data['data'] = pd.to_datetime(data['data'])"
   ]
  },
  {
   "cell_type": "code",
   "execution_count": 28,
   "id": "3a528fa9",
   "metadata": {
    "colab": {
     "base_uri": "https://localhost:8080/",
     "height": 343
    },
    "execution": {
     "iopub.execute_input": "2025-07-15T18:52:06.559021Z",
     "iopub.status.busy": "2025-07-15T18:52:06.558769Z",
     "iopub.status.idle": "2025-07-15T18:52:06.574415Z",
     "shell.execute_reply": "2025-07-15T18:52:06.573668Z"
    },
    "id": "0sQqKQOH1MlK",
    "outputId": "a8524ab6-f489-423b-a775-f32c4789be94",
    "papermill": {
     "duration": 0.025156,
     "end_time": "2025-07-15T18:52:06.575425",
     "exception": false,
     "start_time": "2025-07-15T18:52:06.550269",
     "status": "completed"
    },
    "tags": []
   },
   "outputs": [
    {
     "data": {
      "text/html": [
       "<div>\n",
       "<style scoped>\n",
       "    .dataframe tbody tr th:only-of-type {\n",
       "        vertical-align: middle;\n",
       "    }\n",
       "\n",
       "    .dataframe tbody tr th {\n",
       "        vertical-align: top;\n",
       "    }\n",
       "\n",
       "    .dataframe thead th {\n",
       "        text-align: right;\n",
       "    }\n",
       "</style>\n",
       "<table border=\"1\" class=\"dataframe\">\n",
       "  <thead>\n",
       "    <tr style=\"text-align: right;\">\n",
       "      <th></th>\n",
       "      <th>competênciamov</th>\n",
       "      <th>região</th>\n",
       "      <th>uf</th>\n",
       "      <th>município</th>\n",
       "      <th>seção</th>\n",
       "      <th>subclasse</th>\n",
       "      <th>saldomovimentação</th>\n",
       "      <th>cbo2002ocupação</th>\n",
       "      <th>categoria</th>\n",
       "      <th>graudeinstrução</th>\n",
       "      <th>...</th>\n",
       "      <th>desligados</th>\n",
       "      <th>NI</th>\n",
       "      <th>grande_grupamento</th>\n",
       "      <th>porte</th>\n",
       "      <th>data</th>\n",
       "      <th>code_muni</th>\n",
       "      <th>name_muni</th>\n",
       "      <th>num_cnae</th>\n",
       "      <th>desc_cnae</th>\n",
       "      <th>ano</th>\n",
       "    </tr>\n",
       "  </thead>\n",
       "  <tbody>\n",
       "    <tr>\n",
       "      <th>0</th>\n",
       "      <td>202001</td>\n",
       "      <td>2</td>\n",
       "      <td>24</td>\n",
       "      <td>240810</td>\n",
       "      <td>G</td>\n",
       "      <td>4511102</td>\n",
       "      <td>-1</td>\n",
       "      <td>521110</td>\n",
       "      <td>101</td>\n",
       "      <td>6</td>\n",
       "      <td>...</td>\n",
       "      <td>-1</td>\n",
       "      <td>NaN</td>\n",
       "      <td>Comércio</td>\n",
       "      <td>Micro</td>\n",
       "      <td>2020-01-01</td>\n",
       "      <td>240810</td>\n",
       "      <td>Natal</td>\n",
       "      <td>4511102.0</td>\n",
       "      <td>Comércio a varejo de automóveis, camionetas e ...</td>\n",
       "      <td>2020</td>\n",
       "    </tr>\n",
       "    <tr>\n",
       "      <th>1</th>\n",
       "      <td>202001</td>\n",
       "      <td>2</td>\n",
       "      <td>24</td>\n",
       "      <td>240810</td>\n",
       "      <td>Q</td>\n",
       "      <td>8630502</td>\n",
       "      <td>1</td>\n",
       "      <td>514320</td>\n",
       "      <td>101</td>\n",
       "      <td>7</td>\n",
       "      <td>...</td>\n",
       "      <td>0</td>\n",
       "      <td>NaN</td>\n",
       "      <td>Serviços</td>\n",
       "      <td>Média</td>\n",
       "      <td>2020-01-01</td>\n",
       "      <td>240810</td>\n",
       "      <td>Natal</td>\n",
       "      <td>8630502.0</td>\n",
       "      <td>Atividade médica ambulatorial com recursos par...</td>\n",
       "      <td>2020</td>\n",
       "    </tr>\n",
       "    <tr>\n",
       "      <th>2</th>\n",
       "      <td>202001</td>\n",
       "      <td>2</td>\n",
       "      <td>24</td>\n",
       "      <td>240810</td>\n",
       "      <td>N</td>\n",
       "      <td>8111700</td>\n",
       "      <td>-1</td>\n",
       "      <td>517410</td>\n",
       "      <td>101</td>\n",
       "      <td>3</td>\n",
       "      <td>...</td>\n",
       "      <td>-1</td>\n",
       "      <td>NaN</td>\n",
       "      <td>Serviços</td>\n",
       "      <td>Grande</td>\n",
       "      <td>2020-01-01</td>\n",
       "      <td>240810</td>\n",
       "      <td>Natal</td>\n",
       "      <td>8111700.0</td>\n",
       "      <td>Serviços combinados para apoio a edifícios, ex...</td>\n",
       "      <td>2020</td>\n",
       "    </tr>\n",
       "    <tr>\n",
       "      <th>3</th>\n",
       "      <td>202001</td>\n",
       "      <td>2</td>\n",
       "      <td>24</td>\n",
       "      <td>240810</td>\n",
       "      <td>G</td>\n",
       "      <td>4781400</td>\n",
       "      <td>-1</td>\n",
       "      <td>261125</td>\n",
       "      <td>999</td>\n",
       "      <td>9</td>\n",
       "      <td>...</td>\n",
       "      <td>-1</td>\n",
       "      <td>NaN</td>\n",
       "      <td>Comércio</td>\n",
       "      <td>Micro</td>\n",
       "      <td>2020-01-01</td>\n",
       "      <td>240810</td>\n",
       "      <td>Natal</td>\n",
       "      <td>4781400.0</td>\n",
       "      <td>Comércio varejista de artigos do vestuário e a...</td>\n",
       "      <td>2020</td>\n",
       "    </tr>\n",
       "    <tr>\n",
       "      <th>4</th>\n",
       "      <td>202001</td>\n",
       "      <td>2</td>\n",
       "      <td>24</td>\n",
       "      <td>240810</td>\n",
       "      <td>H</td>\n",
       "      <td>5310502</td>\n",
       "      <td>1</td>\n",
       "      <td>519110</td>\n",
       "      <td>101</td>\n",
       "      <td>7</td>\n",
       "      <td>...</td>\n",
       "      <td>0</td>\n",
       "      <td>NaN</td>\n",
       "      <td>Serviços</td>\n",
       "      <td>Micro</td>\n",
       "      <td>2020-01-01</td>\n",
       "      <td>240810</td>\n",
       "      <td>Natal</td>\n",
       "      <td>5310502.0</td>\n",
       "      <td>Atividades de franqueadas e permissionárias do...</td>\n",
       "      <td>2020</td>\n",
       "    </tr>\n",
       "  </tbody>\n",
       "</table>\n",
       "<p>5 rows × 41 columns</p>\n",
       "</div>"
      ],
      "text/plain": [
       "  competênciamov  região  uf município seção  subclasse  saldomovimentação  \\\n",
       "0         202001       2  24    240810     G    4511102                 -1   \n",
       "1         202001       2  24    240810     Q    8630502                  1   \n",
       "2         202001       2  24    240810     N    8111700                 -1   \n",
       "3         202001       2  24    240810     G    4781400                 -1   \n",
       "4         202001       2  24    240810     H    5310502                  1   \n",
       "\n",
       "   cbo2002ocupação  categoria  graudeinstrução  ...  desligados  NI  \\\n",
       "0           521110        101                6  ...          -1 NaN   \n",
       "1           514320        101                7  ...           0 NaN   \n",
       "2           517410        101                3  ...          -1 NaN   \n",
       "3           261125        999                9  ...          -1 NaN   \n",
       "4           519110        101                7  ...           0 NaN   \n",
       "\n",
       "   grande_grupamento   porte       data  code_muni  name_muni   num_cnae  \\\n",
       "0           Comércio   Micro 2020-01-01     240810      Natal  4511102.0   \n",
       "1           Serviços   Média 2020-01-01     240810      Natal  8630502.0   \n",
       "2           Serviços  Grande 2020-01-01     240810      Natal  8111700.0   \n",
       "3           Comércio   Micro 2020-01-01     240810      Natal  4781400.0   \n",
       "4           Serviços   Micro 2020-01-01     240810      Natal  5310502.0   \n",
       "\n",
       "                                           desc_cnae   ano  \n",
       "0  Comércio a varejo de automóveis, camionetas e ...  2020  \n",
       "1  Atividade médica ambulatorial com recursos par...  2020  \n",
       "2  Serviços combinados para apoio a edifícios, ex...  2020  \n",
       "3  Comércio varejista de artigos do vestuário e a...  2020  \n",
       "4  Atividades de franqueadas e permissionárias do...  2020  \n",
       "\n",
       "[5 rows x 41 columns]"
      ]
     },
     "execution_count": 28,
     "metadata": {},
     "output_type": "execute_result"
    }
   ],
   "source": [
    "data.head()"
   ]
  },
  {
   "cell_type": "code",
   "execution_count": 29,
   "id": "38caf83c",
   "metadata": {
    "colab": {
     "base_uri": "https://localhost:8080/"
    },
    "execution": {
     "iopub.execute_input": "2025-07-15T18:52:06.590921Z",
     "iopub.status.busy": "2025-07-15T18:52:06.590650Z",
     "iopub.status.idle": "2025-07-15T18:52:06.597807Z",
     "shell.execute_reply": "2025-07-15T18:52:06.597079Z"
    },
    "id": "xB8x7X7Mh_ol",
    "outputId": "26cc60eb-ff8f-4ceb-c090-09876598d629",
    "papermill": {
     "duration": 0.016685,
     "end_time": "2025-07-15T18:52:06.598823",
     "exception": false,
     "start_time": "2025-07-15T18:52:06.582138",
     "status": "completed"
    },
    "tags": []
   },
   "outputs": [
    {
     "name": "stdout",
     "output_type": "stream",
     "text": [
      "           data  Saldo\n",
      "0    2007-01-01    351\n",
      "1    2007-02-01  -1394\n",
      "2    2007-03-01  -1076\n",
      "3    2007-04-01   1615\n",
      "4    2007-05-01   1355\n",
      "..          ...    ...\n",
      "151  2019-08-01   3951\n",
      "152  2019-09-01   2513\n",
      "153  2019-10-01   3025\n",
      "154  2019-11-01   1597\n",
      "155  2019-12-01  -3133\n",
      "\n",
      "[156 rows x 2 columns]\n"
     ]
    }
   ],
   "source": [
    "cagedest_rn_saldo_mensal =  pd.read_csv(\"dados/cagedest_rn_saldo_mensal.csv\")\n",
    "print(cagedest_rn_saldo_mensal)"
   ]
  },
  {
   "cell_type": "code",
   "execution_count": 30,
   "id": "b0a6a1e4",
   "metadata": {
    "colab": {
     "base_uri": "https://localhost:8080/"
    },
    "execution": {
     "iopub.execute_input": "2025-07-15T18:52:06.614717Z",
     "iopub.status.busy": "2025-07-15T18:52:06.614422Z",
     "iopub.status.idle": "2025-07-15T18:52:06.974114Z",
     "shell.execute_reply": "2025-07-15T18:52:06.973328Z"
    },
    "id": "n_N2E9Ahn0XN",
    "outputId": "d15ba5cd-cc78-4ec2-aefb-91ffbbf7a8b2",
    "papermill": {
     "duration": 0.368756,
     "end_time": "2025-07-15T18:52:06.975310",
     "exception": false,
     "start_time": "2025-07-15T18:52:06.606554",
     "status": "completed"
    },
    "tags": []
   },
   "outputs": [
    {
     "name": "stdout",
     "output_type": "stream",
     "text": [
      "          data    porte  Saldo\n",
      "0   2020-01-01   Grande  -1692\n",
      "1   2020-01-01    Micro   1685\n",
      "2   2020-01-01    Média   -870\n",
      "3   2020-01-01  Pequena   -197\n",
      "4   2020-02-01   Grande  -3293\n",
      "..         ...      ...    ...\n",
      "255 2025-04-01  Pequena    -58\n",
      "256 2025-05-01   Grande    -92\n",
      "257 2025-05-01    Micro   1814\n",
      "258 2025-05-01    Média    232\n",
      "259 2025-05-01  Pequena    266\n",
      "\n",
      "[260 rows x 3 columns]\n"
     ]
    }
   ],
   "source": [
    "porte_mensal_rn_excel =  pd.read_excel(\"dados/porte_mensal_rn_excel.xlsx\")\n",
    "print(porte_mensal_rn_excel)"
   ]
  },
  {
   "cell_type": "code",
   "execution_count": 31,
   "id": "aed0c733",
   "metadata": {
    "colab": {
     "base_uri": "https://localhost:8080/"
    },
    "execution": {
     "iopub.execute_input": "2025-07-15T18:52:06.997654Z",
     "iopub.status.busy": "2025-07-15T18:52:06.997152Z",
     "iopub.status.idle": "2025-07-15T18:52:07.005572Z",
     "shell.execute_reply": "2025-07-15T18:52:07.004879Z"
    },
    "id": "8G5kxXlg4Lgs",
    "outputId": "eff300db-60bb-4a35-8df7-77a4788b45f1",
    "papermill": {
     "duration": 0.020054,
     "end_time": "2025-07-15T18:52:07.006940",
     "exception": false,
     "start_time": "2025-07-15T18:52:06.986886",
     "status": "completed"
    },
    "tags": []
   },
   "outputs": [
    {
     "name": "stdout",
     "output_type": "stream",
     "text": [
      "   uf  Saldo               Estado\n",
      "0  21   3560             Maranhão\n",
      "1  22   3559                Piauí\n",
      "2  23   5769                Ceará\n",
      "3  24   2220  Rio Grande do Norte\n",
      "4  25   5905              Paraíba\n",
      "5  26   9754           Pernambuco\n",
      "6  27    324              Alagoas\n",
      "7  28   1939              Sergipe\n",
      "8  29  12858                Bahia\n"
     ]
    }
   ],
   "source": [
    "caged_nordeste =  pd.read_csv(\"dados/caged_nordeste.csv\")\n",
    "print(caged_nordeste)"
   ]
  },
  {
   "cell_type": "code",
   "execution_count": 32,
   "id": "310ca8b5",
   "metadata": {
    "execution": {
     "iopub.execute_input": "2025-07-15T18:52:07.029717Z",
     "iopub.status.busy": "2025-07-15T18:52:07.029117Z",
     "iopub.status.idle": "2025-07-15T18:52:07.041239Z",
     "shell.execute_reply": "2025-07-15T18:52:07.040536Z"
    },
    "papermill": {
     "duration": 0.024913,
     "end_time": "2025-07-15T18:52:07.042557",
     "exception": false,
     "start_time": "2025-07-15T18:52:07.017644",
     "status": "completed"
    },
    "tags": []
   },
   "outputs": [
    {
     "name": "stdout",
     "output_type": "stream",
     "text": [
      "Estoque de Natal em dez/2023: 221245\n"
     ]
    }
   ],
   "source": [
    "# Dicionário de estoques por município (dezembro de 2023)\n",
    "estoque_por_municipio = {\n",
    "    \"Natal\": 221245,\n",
    "    \"Mossoró\": 70587,\n",
    "    \"Parnamirim\": 45464,\n",
    "    \"São Gonçalo do Amarante\": 13185,\n",
    "    \"Macaíba\": 11349,\n",
    "    \"Caicó\": 9769,\n",
    "    \"Açu\": 7094,\n",
    "    \"São José de Mipibu\": 6083,\n",
    "    \"Ceará-Mirim\": 5022,\n",
    "    \"Currais Novos\": 4961,\n",
    "    \"Pau dos Ferros\": 4171,\n",
    "    \"Tibau do Sul\": 3851,\n",
    "    \"Baraúna\": 3555,\n",
    "    \"Macau\": 3508,\n",
    "    \"Arês\": 3296,\n",
    "    \"Parelhas\": 3263,\n",
    "    \"João Câmara\": 3233,\n",
    "    \"Apodi\": 3230,\n",
    "    \"Extremoz\": 3065,\n",
    "    \"Areia Branca\": 2937,\n",
    "    \"Baía Formosa\": 2883,\n",
    "    \"Santa Cruz\": 2672,\n",
    "    \"Goianinha\": 2585,\n",
    "    \"Nova Cruz\": 2512,\n",
    "    \"Alto do Rodrigues\": 2498,\n",
    "    \"Nísia Floresta\": 2417,\n",
    "    \"Canguaretama\": 2163,\n",
    "    \"Touros\": 2131,\n",
    "    \"Jucurutu\": 2040,\n",
    "    \"Caraúbas\": 1657,\n",
    "    \"Pendências\": 1448,\n",
    "    \"Guamaré\": 1392,\n",
    "    \"Grossos\": 1316,\n",
    "    \"São Paulo do Potengi\": 1250,\n",
    "    \"Ipanguaçu\": 1237,\n",
    "    \"Jardim do Seridó\": 1227,\n",
    "    \"Lajes\": 1141,\n",
    "    \"Monte Alegre\": 1109,\n",
    "    \"Carnaúba dos Dantas\": 1083,\n",
    "    \"Itajá\": 1049,\n",
    "    \"Santo Antônio\": 1049,\n",
    "    \"São Miguel do Gostoso\": 1033,\n",
    "    \"Acari\": 1028,\n",
    "    \"Serra Negra do Norte\": 1012,\n",
    "    \"Jardim de Piranhas\": 950,\n",
    "    \"Espírito Santo\": 930,\n",
    "    \"Governador Dix-Sept Rosado\": 883,\n",
    "    \"Lagoa Nova\": 863,\n",
    "    \"São Miguel\": 837,\n",
    "    \"São José do Seridó\": 804,\n",
    "    \"Jandaíra\": 749,\n",
    "    \"Angicos\": 739,\n",
    "    \"Tangará\": 721,\n",
    "    \"Serra do Mel\": 693,\n",
    "    \"Cruzeta\": 680,\n",
    "    \"Tibau\": 672,\n",
    "    \"Upanema\": 667,\n",
    "    \"Porto do Mangue\": 611,\n",
    "    \"Serra Caiada\": 601,\n",
    "    \"Pedro Velho\": 574,\n",
    "    \"Martins\": 571,\n",
    "    \"Carnaubais\": 567,\n",
    "    \"Afonso Bezerra\": 544,\n",
    "    \"São Bento do Norte\": 539,\n",
    "    \"Brejinho\": 487,\n",
    "    \"Maxaranguape\": 480,\n",
    "    \"Caiçara do Norte\": 479,\n",
    "    \"Cerro Corá\": 455,\n",
    "    \"Alexandria\": 452,\n",
    "    \"Florânia\": 432,\n",
    "    \"Ielmo Marinho\": 413,\n",
    "    \"Umarizal\": 408,\n",
    "    \"Janduís\": 403,\n",
    "    \"Passa e Fica\": 403,\n",
    "    \"Vera Cruz\": 403,\n",
    "    \"Patu\": 402,\n",
    "    \"São Vicente\": 377,\n",
    "    \"Barcelona\": 367,\n",
    "    \"Taipu\": 365,\n",
    "    \"Equador\": 364,\n",
    "    \"Rio do Fogo\": 357,\n",
    "    \"Riachuelo\": 352,\n",
    "    \"Galinhos\": 329,\n",
    "    \"Montanhas\": 329,\n",
    "    \"Bento Fernandes\": 328,\n",
    "    \"Poço Branco\": 309,\n",
    "    \"Pureza\": 282,\n",
    "    \"São Fernando\": 280,\n",
    "    \"Tenente Ananias\": 276,\n",
    "    \"Santana do Matos\": 275,\n",
    "    \"Vila Flor\": 266,\n",
    "    \"São Tomé\": 260,\n",
    "    \"Serra de São Bento\": 260,\n",
    "    \"Pedro Avelino\": 252,\n",
    "    \"Januário Cicco\": 238,\n",
    "    \"Santa Maria\": 236,\n",
    "    \"Olho d'Água do Borges\": 228,\n",
    "    \"Senador Elói de Souza\": 226,\n",
    "    \"São Francisco do Oeste\": 224,\n",
    "    \"Bom Jesus\": 222,\n",
    "    \"Santana do Seridó\": 221,\n",
    "    \"Severiano Melo\": 208,\n",
    "    \"Pedra Preta\": 204,\n",
    "    \"Messias Targino\": 201,\n",
    "    \"Lagoa de Velhos\": 200,\n",
    "    \"Ouro Branco\": 195,\n",
    "    \"Tenente Laurentino Cruz\": 187,\n",
    "    \"João Dias\": 186,\n",
    "    \"Monte das Gameleiras\": 178,\n",
    "    \"São José do Campestre\": 178,\n",
    "    \"Lagoa d'Anta\": 162,\n",
    "    \"Lagoa Salgada\": 155,\n",
    "    \"Riacho de Santana\": 155,\n",
    "    \"São Pedro\": 155,\n",
    "    \"Felipe Guerra\": 154,\n",
    "    \"Encanto\": 149,\n",
    "    \"Itaú\": 148,\n",
    "    \"Francisco Dantas\": 144,\n",
    "    \"Parazinho\": 126,\n",
    "    \"Lucrécia\": 125,\n",
    "    \"Campo Grande\": 120,\n",
    "    \"Marcelino Vieira\": 119,\n",
    "    \"Caiçara do Rio do Vento\": 116,\n",
    "    \"Lagoa de Pedras\": 116,\n",
    "    \"José da Penha\": 113,\n",
    "    \"Campo Redondo\": 111,\n",
    "    \"Portalegre\": 110,\n",
    "    \"Fernando Pedroza\": 108,\n",
    "    \"São Rafael\": 108,\n",
    "    \"Serrinha dos Pintos\": 106,\n",
    "    \"Riacho da Cruz\": 104,\n",
    "    \"Várzea\": 100,\n",
    "    \"Antônio Martins\": 99,\n",
    "    \"Jaçanã\": 96,\n",
    "    \"Triunfo Potiguar\": 96,\n",
    "    \"São João do Sabugi\": 95,\n",
    "    \"Almino Afonso\": 94,\n",
    "    \"Senador Georgino Avelino\": 93,\n",
    "    \"Timbaúba dos Batistas\": 91,\n",
    "    \"Pedra Grande\": 87,\n",
    "    \"Japi\": 86,\n",
    "    \"Luís Gomes\": 86,\n",
    "    \"Doutor Severiano\": 80,\n",
    "    \"Bodó\": 73,\n",
    "    \"Rafael Fernandes\": 72,\n",
    "    \"Paraú\": 70,\n",
    "    \"Serrinha\": 61,\n",
    "    \"Passagem\": 59,\n",
    "    \"Rafael Godeiro\": 59,\n",
    "    \"Rodolfo Fernandes\": 56,\n",
    "    \"São Bento do Trairí\": 53,\n",
    "    \"Lajes Pintadas\": 50,\n",
    "    \"Água Nova\": 49,\n",
    "    \"Frutuoso Gomes\": 45,\n",
    "    \"Pilões\": 41,\n",
    "    \"Coronel Ezequiel\": 40,\n",
    "    \"Ipueira\": 30,\n",
    "    \"Sítio Novo\": 30,\n",
    "    \"Taboleiro Grande\": 30,\n",
    "    \"Coronel João Pessoa\": 27,\n",
    "    \"Major Sales\": 27,\n",
    "    \"Jundiá\": 18,\n",
    "    \"Paraná\": 16,\n",
    "    \"Viçosa\": 14,\n",
    "    \"Ruy Barbosa\": 12,\n",
    "    \"Jardim de Angicos\": 8,\n",
    "    \"Venha-Ver\": 2\n",
    "}\n",
    "\n",
    "estoque_referencia_dez_2023 = estoque_por_municipio.get(municipio, 0)\n",
    "print(f\"Estoque de {municipio} em dez/2023: {estoque_referencia_dez_2023}\")\n"
   ]
  },
  {
   "cell_type": "code",
   "execution_count": 33,
   "id": "aabe9862",
   "metadata": {
    "execution": {
     "iopub.execute_input": "2025-07-15T18:52:07.061288Z",
     "iopub.status.busy": "2025-07-15T18:52:07.060958Z",
     "iopub.status.idle": "2025-07-15T18:52:07.068004Z",
     "shell.execute_reply": "2025-07-15T18:52:07.066947Z"
    },
    "papermill": {
     "duration": 0.016965,
     "end_time": "2025-07-15T18:52:07.069526",
     "exception": false,
     "start_time": "2025-07-15T18:52:07.052561",
     "status": "completed"
    },
    "tags": []
   },
   "outputs": [
    {
     "name": "stdout",
     "output_type": "stream",
     "text": [
      "Estoque: 260753\n"
     ]
    }
   ],
   "source": [
    "# Filtrar e calcular o saldo a partir de 2024-01-01\n",
    "saldo_total = porte_mensal_rn_excel[porte_mensal_rn_excel['data'] >= \"2024-01-01\"]['Saldo'].sum()\n",
    "\n",
    "# Calcular o estoque final\n",
    "estoque = estoque_referencia_dez_2023 + saldo_total\n",
    "\n",
    "# Exibir o resultado\n",
    "print(\"Estoque:\", estoque)"
   ]
  },
  {
   "cell_type": "code",
   "execution_count": 34,
   "id": "48a8172d",
   "metadata": {
    "execution": {
     "iopub.execute_input": "2025-07-15T18:52:07.091423Z",
     "iopub.status.busy": "2025-07-15T18:52:07.090696Z",
     "iopub.status.idle": "2025-07-15T18:52:07.095790Z",
     "shell.execute_reply": "2025-07-15T18:52:07.094924Z"
    },
    "papermill": {
     "duration": 0.017557,
     "end_time": "2025-07-15T18:52:07.097391",
     "exception": false,
     "start_time": "2025-07-15T18:52:07.079834",
     "status": "completed"
    },
    "tags": []
   },
   "outputs": [],
   "source": [
    "# Ajustando formato dos números\n",
    "total_admissoes = f\"{total_admissoes:,}\".replace(\",\", \".\")\n",
    "saldo = f\"{saldo:,}\".replace(\",\", \".\")\n",
    "total_desligamentos = f\"{total_desligamentos:,}\".replace(\",\", \".\")\n",
    "estoque = f\"{estoque:,}\".replace(\",\", \".\")"
   ]
  },
  {
   "cell_type": "code",
   "execution_count": 35,
   "id": "bc76dfdb",
   "metadata": {
    "execution": {
     "iopub.execute_input": "2025-07-15T18:52:07.121327Z",
     "iopub.status.busy": "2025-07-15T18:52:07.120615Z",
     "iopub.status.idle": "2025-07-15T18:52:07.917350Z",
     "shell.execute_reply": "2025-07-15T18:52:07.916379Z"
    },
    "papermill": {
     "duration": 0.811892,
     "end_time": "2025-07-15T18:52:07.918828",
     "exception": false,
     "start_time": "2025-07-15T18:52:07.106936",
     "status": "completed"
    },
    "tags": []
   },
   "outputs": [
    {
     "name": "stdout",
     "output_type": "stream",
     "text": [
      "Gráfico salvo em: img/grafico_acumulado_ano_e_mes.png\n"
     ]
    },
    {
     "name": "stderr",
     "output_type": "stream",
     "text": [
      "C:\\Users\\lhayane.macedo\\AppData\\Local\\Temp\\ipykernel_17560\\1216288997.py:75: UserWarning: FigureCanvasAgg is non-interactive, and thus cannot be shown\n",
      "  plt.show()\n"
     ]
    }
   ],
   "source": [
    "import pandas as pd\n",
    "import matplotlib.pyplot as plt\n",
    "import seaborn as sns\n",
    "import calendar\n",
    "\n",
    "def criar_grafico_acumulado_ano_e_mes_mais_recente(data):\n",
    "    # Garantir que a coluna 'data' esteja no formato datetime\n",
    "    data['data'] = pd.to_datetime(data['data'], errors='coerce')\n",
    "\n",
    "    # Criar uma nova coluna 'ano' e 'mes' para agrupamento\n",
    "    data['ano'] = data['data'].dt.year\n",
    "    data['mes'] = data['data'].dt.month\n",
    "\n",
    "    # Identificar o mês mais recente da base\n",
    "    mes_mais_recente = data['data'].max().month\n",
    "    nome_mes_mais_recente = calendar.month_name[mes_mais_recente]  # Nome do mês (ex: Novembro)\n",
    "\n",
    "    # Filtrar os últimos 4 anos\n",
    "    ano_atual = data['ano'].max()\n",
    "    anos_filtrados = list(range(ano_atual - 4, ano_atual + 1))  # Últimos 4 anos\n",
    "    data_filtrada = data[data['ano'].isin(anos_filtrados)]\n",
    "\n",
    "    # Calcular o saldo acumulado do ano até o mês mais recente\n",
    "    saldo_acumulado = data_filtrada[data_filtrada['mes'] <= mes_mais_recente].groupby('ano')['saldomovimentação'].sum().reset_index()\n",
    "    saldo_acumulado.rename(columns={'saldomovimentação': 'Saldo acumulado'}, inplace=True)\n",
    "\n",
    "\n",
    "    # Calcular o saldo do mês mais recente\n",
    "    saldo_mes = data_filtrada[data_filtrada['mes'] == mes_mais_recente].groupby('ano')['saldomovimentação'].sum().reset_index()\n",
    "    saldo_mes.rename(columns={'saldomovimentação': f'Saldo {nome_mes_mais_recente}'}, inplace=True)\n",
    "\n",
    "    # Unir os dois conjuntos de dados\n",
    "    merged_data = pd.merge(saldo_acumulado, saldo_mes, on='ano', how='outer').fillna(0)\n",
    "\n",
    "    # Transformar os dados para formato longo (long format) para o gráfico\n",
    "    melted_data = pd.melt(merged_data, id_vars='ano', value_vars=['Saldo acumulado', f'Saldo {nome_mes_mais_recente}'],\n",
    "                          var_name='Tipo', value_name='Saldo')\n",
    "\n",
    "    # Criar o gráfico de barras\n",
    "    plt.figure(figsize=(12, 6))\n",
    "    ax = sns.barplot(x='ano', y='Saldo', hue='Tipo', data=melted_data, palette='Blues_d')\n",
    "\n",
    "    # Remover o título da legenda\n",
    "    ax.legend(title=None)\n",
    "\n",
    "    # Títulos e rótulos\n",
    "    plt.xlabel(\"Ano\", fontsize=12)\n",
    "    plt.ylabel(\"Saldo\", fontsize=12)\n",
    "\n",
    "    # Adicionar valores no topo de cada barra com a cor da barra\n",
    "    for p in ax.patches:\n",
    "        height = p.get_height()\n",
    "        color = p.get_facecolor()  # Obtém a cor da barra\n",
    "        if height != 0:  # Evitar exibir \"0\"\n",
    "            ax.text(\n",
    "                p.get_x() + p.get_width() / 2.,  # Posição horizontal\n",
    "                height,  # Posição vertical (no topo da barra)\n",
    "                '{:,.0f}'.format(height).replace(',', '.'),  # Formatação do número\n",
    "                ha='center', va='bottom' if height >= 0 else 'top', fontsize=10, fontweight='bold',\n",
    "                color=color  # Define a cor do texto igual à cor da barra\n",
    "            )\n",
    "\n",
    "    # Adicionar informações de fonte e elaboração\n",
    "    plt.figtext(0.05, -0.01, 'Fonte: Novo Caged (MTE).',\n",
    "                ha='left', fontsize=8, color='gray', weight='normal')\n",
    "    plt.figtext(0.05, -0.03, 'Elaboração: SEBRAE/RN.',\n",
    "                ha='left', fontsize=8, color='gray', weight='normal')\n",
    "\n",
    "    # Ajustar layout\n",
    "    plt.tight_layout()\n",
    "\n",
    "    # Salvar o gráfico\n",
    "    grafico_path = f'img/grafico_acumulado_ano_e_mes.png'\n",
    "    plt.savefig(grafico_path, format='png', bbox_inches='tight', transparent=True)\n",
    "    plt.show()\n",
    "\n",
    "    return grafico_path\n",
    "\n",
    "# Exemplo de chamada da função\n",
    "# Suponha que `data` seja um DataFrame previamente carregado\n",
    "grafico_path = criar_grafico_acumulado_ano_e_mes_mais_recente(data)\n",
    "print(f\"Gráfico salvo em: {grafico_path}\")\n"
   ]
  },
  {
   "cell_type": "code",
   "execution_count": 36,
   "id": "3b7c2c7b",
   "metadata": {
    "execution": {
     "iopub.execute_input": "2025-07-15T18:52:07.941304Z",
     "iopub.status.busy": "2025-07-15T18:52:07.940493Z",
     "iopub.status.idle": "2025-07-15T18:52:08.211029Z",
     "shell.execute_reply": "2025-07-15T18:52:08.210394Z"
    },
    "papermill": {
     "duration": 0.285611,
     "end_time": "2025-07-15T18:52:08.212480",
     "exception": false,
     "start_time": "2025-07-15T18:52:07.926869",
     "status": "completed"
    },
    "tags": []
   },
   "outputs": [],
   "source": [
    "data['data'] = pd.to_datetime(data['data'], errors='coerce')\n",
    "\n",
    "data['ano'] = data['data'].dt.year\n",
    "data['mes'] = data['data'].dt.month\n",
    "\n",
    "    # Identificar o mês mais recente da base\n",
    "mes_mais_recente = data['data'].max().month\n",
    "nome_mes_mais_recente = calendar.month_name[mes_mais_recente]  # Nome do mês (ex: Novembro)\n",
    "\n",
    "    # Filtrar os últimos 4 anos\n",
    "ano_atual = data['ano'].max()\n",
    "anos_filtrados = list(range(ano_atual - 4, ano_atual + 1))  # Últimos 4 anos\n",
    "data_filtrada = data[data['ano'].isin(anos_filtrados)]\n",
    "\n",
    "    # Calcular o saldo acumulado do ano\n",
    "saldo_acumulado = data_filtrada.groupby('ano')['saldomovimentação'].sum().reset_index()\n",
    "saldo_acumulado.rename(columns={'saldomovimentação': 'Saldo acumulado'}, inplace=True)"
   ]
  },
  {
   "cell_type": "code",
   "execution_count": 37,
   "id": "7f0da265",
   "metadata": {
    "execution": {
     "iopub.execute_input": "2025-07-15T18:52:08.232302Z",
     "iopub.status.busy": "2025-07-15T18:52:08.231883Z",
     "iopub.status.idle": "2025-07-15T18:52:08.303885Z",
     "shell.execute_reply": "2025-07-15T18:52:08.303176Z"
    },
    "papermill": {
     "duration": 0.082011,
     "end_time": "2025-07-15T18:52:08.305106",
     "exception": false,
     "start_time": "2025-07-15T18:52:08.223095",
     "status": "completed"
    },
    "tags": []
   },
   "outputs": [
    {
     "name": "stdout",
     "output_type": "stream",
     "text": [
      "     ano  mes  saldomovimentação   nome_mes\n",
      "0   2021    1               1231    janeiro\n",
      "1   2021    2               1929  fevereiro\n",
      "2   2021    3                542     marÃ§o\n",
      "3   2021    4              -1513      abril\n",
      "4   2021    5                 85       maio\n",
      "5   2021    6               1383      junho\n",
      "6   2021    7               1665      julho\n",
      "7   2021    8               1907     agosto\n",
      "8   2021    9               1944   setembro\n",
      "9   2021   10                917    outubro\n",
      "10  2021   11               1740   novembro\n",
      "11  2021   12                 -8   dezembro\n",
      "12  2022    1               -142    janeiro\n",
      "13  2022    2                811  fevereiro\n",
      "14  2022    3                -48     marÃ§o\n",
      "15  2022    4                818      abril\n",
      "16  2022    5                942       maio\n",
      "17  2022    6                982      junho\n",
      "18  2022    7                871      julho\n",
      "19  2022    8                980     agosto\n",
      "20  2022    9                865   setembro\n",
      "21  2022   10                441    outubro\n",
      "22  2022   11                658   novembro\n",
      "23  2022   12               -829   dezembro\n",
      "24  2023    1               -276    janeiro\n",
      "25  2023    2                550  fevereiro\n",
      "26  2023    3               1278     marÃ§o\n",
      "27  2023    4               1060      abril\n",
      "28  2023    5               -304       maio\n",
      "29  2023    6               -301      junho\n",
      "30  2023    7                -10      julho\n",
      "31  2023    8                598     agosto\n",
      "32  2023    9               1239   setembro\n",
      "33  2023   10                275    outubro\n",
      "34  2023   11               1666   novembro\n",
      "35  2023   12               -602   dezembro\n",
      "36  2024    1                290    janeiro\n",
      "37  2024    2                684  fevereiro\n",
      "38  2024    3               1680     marÃ§o\n",
      "39  2024    4                887      abril\n",
      "40  2024    5                931       maio\n",
      "41  2024    6               1161      junho\n",
      "42  2024    7               1554      julho\n",
      "43  2024    8               1690     agosto\n",
      "44  2024    9               1927   setembro\n",
      "45  2024   10               1268    outubro\n",
      "46  2024   11                855   novembro\n",
      "47  2024   12               -691   dezembro\n",
      "48  2025    1               -353    janeiro\n",
      "49  2025    2               1933  fevereiro\n",
      "50  2025    3                 71     marÃ§o\n",
      "51  2025    4               2027      abril\n",
      "52  2025    5                510       maio\n"
     ]
    }
   ],
   "source": [
    "# Agrupar os dados por ano e mês\n",
    "saldo_por_mes = data_filtrada.groupby(['ano', 'mes'])['saldomovimentação'].sum().reset_index()\n",
    "\n",
    "# Adicionar o nome do mês para facilitar a leitura\n",
    "saldo_por_mes['nome_mes'] = saldo_por_mes['mes'].apply(lambda x: calendar.month_name[x])\n",
    "\n",
    "# Ordenar os dados por ano e mês\n",
    "saldo_por_mes = saldo_por_mes.sort_values(by=['ano', 'mes']).reset_index(drop=True)\n",
    "\n",
    "# Exibir o resultado\n",
    "print(saldo_por_mes)\n"
   ]
  },
  {
   "cell_type": "code",
   "execution_count": 38,
   "id": "d93266df",
   "metadata": {
    "execution": {
     "iopub.execute_input": "2025-07-15T18:52:08.325432Z",
     "iopub.status.busy": "2025-07-15T18:52:08.324916Z",
     "iopub.status.idle": "2025-07-15T18:52:08.330034Z",
     "shell.execute_reply": "2025-07-15T18:52:08.329452Z"
    },
    "papermill": {
     "duration": 0.015622,
     "end_time": "2025-07-15T18:52:08.331164",
     "exception": false,
     "start_time": "2025-07-15T18:52:08.315542",
     "status": "completed"
    },
    "tags": []
   },
   "outputs": [
    {
     "name": "stdout",
     "output_type": "stream",
     "text": [
      "Soma total do saldo de 2024: 12236\n"
     ]
    }
   ],
   "source": [
    "soma_2024 = saldo_por_mes[saldo_por_mes['ano'] == 2024]['saldomovimentação'].sum()\n",
    "\n",
    "# Exibir o resultado\n",
    "print(f\"Soma total do saldo de 2024: {soma_2024}\")"
   ]
  },
  {
   "cell_type": "code",
   "execution_count": 39,
   "id": "e787120d",
   "metadata": {
    "execution": {
     "iopub.execute_input": "2025-07-15T18:52:08.352560Z",
     "iopub.status.busy": "2025-07-15T18:52:08.352080Z",
     "iopub.status.idle": "2025-07-15T18:52:08.762283Z",
     "shell.execute_reply": "2025-07-15T18:52:08.761609Z"
    },
    "papermill": {
     "duration": 0.423601,
     "end_time": "2025-07-15T18:52:08.763695",
     "exception": false,
     "start_time": "2025-07-15T18:52:08.340094",
     "status": "completed"
    },
    "tags": []
   },
   "outputs": [
    {
     "name": "stderr",
     "output_type": "stream",
     "text": [
      "C:\\Users\\lhayane.macedo\\AppData\\Local\\Temp\\ipykernel_17560\\3480700249.py:56: UserWarning: FigureCanvasAgg is non-interactive, and thus cannot be shown\n",
      "  plt.show()\n"
     ]
    }
   ],
   "source": [
    "import matplotlib.pyplot as plt\n",
    "import matplotlib.dates as mdates\n",
    "import seaborn as sns\n",
    "import pandas as pd\n",
    "\n",
    "def criar_grafico_ts(data, municipio):\n",
    "    # Certifique-se de que a coluna 'data' é do tipo datetime\n",
    "    if not pd.api.types.is_datetime64_any_dtype(data['data']):\n",
    "        data['data'] = pd.to_datetime(data['data'])\n",
    "\n",
    "    # Agrupar os dados por data\n",
    "    grouped_data = data.groupby('data')['saldomovimentação'].sum().reset_index()\n",
    "\n",
    "    # Calcular valor máximo absoluto para base de deslocamento proporcional\n",
    "    total = grouped_data['saldomovimentação'].abs().max()\n",
    "\n",
    "    # Criar gráfico\n",
    "    plt.figure(figsize=(12, 6))\n",
    "    sns.lineplot(x='data', y='saldomovimentação', data=grouped_data)\n",
    "    plt.title(\"\")\n",
    "    plt.xlabel(\"\")\n",
    "    plt.ylabel(\"\")\n",
    "\n",
    "    # Configurar eixo X para datas\n",
    "    ax = plt.gca()\n",
    "    ax.xaxis.set_major_formatter(mdates.DateFormatter('%m/%Y'))\n",
    "    ax.xaxis.set_major_locator(mdates.MonthLocator(interval=3))\n",
    "    plt.xticks(rotation=45, fontsize=8)\n",
    "    plt.tight_layout()\n",
    "    ax.yaxis.grid(True, color='lightgray', linestyle='--', linewidth=0.8)\n",
    "\n",
    "    # Adicionar valores nos pontos com deslocamento proporcional\n",
    "    last_y = None\n",
    "    for x, y in zip(grouped_data['data'], grouped_data['saldomovimentação']):\n",
    "        color = '#134b5f' if y >= 0 else '#be4d25'\n",
    "        offset = 0.02 * total if y >= 0 else -0.05 * total\n",
    "\n",
    "        # Ajuste dinâmico para evitar sobreposição com base no deslocamento anterior\n",
    "        if last_y is not None and abs(y - last_y) < 0.02 * total:\n",
    "            offset = -0.02 * total if y > last_y else 0.02 * total\n",
    "\n",
    "        plt.text(x, y + offset, '{:,.0f}'.format(y).replace(',', '.'),\n",
    "                 ha='center', va='bottom', fontsize=8, color=color)\n",
    "\n",
    "        last_y = y + offset\n",
    "\n",
    "    # Rodapé\n",
    "    plt.figtext(0.78, -0.01, 'Fonte: Novo Caged (MTE).',\n",
    "                ha='left', fontsize=8, color='gray', weight='normal')\n",
    "    plt.figtext(0.78, -0.03, 'Elaboração: SEBRAE/RN.',\n",
    "                ha='left', fontsize=8, color='gray', weight='normal')\n",
    "\n",
    "    # Salvar gráfico\n",
    "    grafico_path = f'img/grafico_saldo_ts_{municipio.replace(\" \", \"_\")}.png'\n",
    "    plt.savefig(grafico_path, format='png', bbox_inches='tight', transparent=True)\n",
    "    plt.show()\n",
    "\n",
    "    return grafico_path\n",
    "\n",
    "# Exemplo de uso:\n",
    "grafico_ts = criar_grafico_ts(data, municipio)\n"
   ]
  },
  {
   "cell_type": "code",
   "execution_count": 40,
   "id": "6e664e87",
   "metadata": {
    "execution": {
     "iopub.execute_input": "2025-07-15T18:52:08.787068Z",
     "iopub.status.busy": "2025-07-15T18:52:08.786739Z",
     "iopub.status.idle": "2025-07-15T18:52:08.840773Z",
     "shell.execute_reply": "2025-07-15T18:52:08.839991Z"
    },
    "papermill": {
     "duration": 0.065872,
     "end_time": "2025-07-15T18:52:08.841941",
     "exception": false,
     "start_time": "2025-07-15T18:52:08.776069",
     "status": "completed"
    },
    "tags": []
   },
   "outputs": [],
   "source": [
    "# Filtra pela competência desejada\n",
    "filtro = data[data['ano'] == int(ano)]\n",
    "\n",
    "# Agrupa por setor e cnae, somando os saldos\n",
    "grupo_saldos = filtro.groupby(['grande_grupamento', 'desc_cnae'])['saldomovimentação'].sum().reset_index()\n",
    "\n",
    "# Para cada setor, pega o cnae com maior saldo\n",
    "top_cnaes_df = grupo_saldos.sort_values('saldomovimentação', ascending=False) \\\n",
    "                           .groupby('grande_grupamento') \\\n",
    "                           .first() \\\n",
    "                           .reset_index()\n",
    "\n",
    "top_cnaes_df = top_cnaes_df.rename(columns={\n",
    "    'grande_grupamento': 'Setor',\n",
    "    'desc_cnae': 'CNAE',\n",
    "    'saldomovimentação': 'Saldo de Movimentação'\n",
    "})"
   ]
  },
  {
   "cell_type": "code",
   "execution_count": 41,
   "id": "ab7a22f4",
   "metadata": {
    "execution": {
     "iopub.execute_input": "2025-07-15T18:52:08.860284Z",
     "iopub.status.busy": "2025-07-15T18:52:08.859981Z",
     "iopub.status.idle": "2025-07-15T18:52:08.867160Z",
     "shell.execute_reply": "2025-07-15T18:52:08.866302Z"
    },
    "papermill": {
     "duration": 0.016263,
     "end_time": "2025-07-15T18:52:08.868193",
     "exception": false,
     "start_time": "2025-07-15T18:52:08.851930",
     "status": "completed"
    },
    "tags": []
   },
   "outputs": [
    {
     "data": {
      "text/html": [
       "<div>\n",
       "<style scoped>\n",
       "    .dataframe tbody tr th:only-of-type {\n",
       "        vertical-align: middle;\n",
       "    }\n",
       "\n",
       "    .dataframe tbody tr th {\n",
       "        vertical-align: top;\n",
       "    }\n",
       "\n",
       "    .dataframe thead th {\n",
       "        text-align: right;\n",
       "    }\n",
       "</style>\n",
       "<table border=\"1\" class=\"dataframe\">\n",
       "  <thead>\n",
       "    <tr style=\"text-align: right;\">\n",
       "      <th></th>\n",
       "      <th>Setor</th>\n",
       "      <th>CNAE</th>\n",
       "      <th>Saldo de Movimentação</th>\n",
       "    </tr>\n",
       "  </thead>\n",
       "  <tbody>\n",
       "    <tr>\n",
       "      <th>0</th>\n",
       "      <td>Agropecuária</td>\n",
       "      <td>Criação de frangos para corte</td>\n",
       "      <td>26</td>\n",
       "    </tr>\n",
       "    <tr>\n",
       "      <th>1</th>\n",
       "      <td>Comércio</td>\n",
       "      <td>Comércio atacadista de mercadorias em geral, c...</td>\n",
       "      <td>67</td>\n",
       "    </tr>\n",
       "    <tr>\n",
       "      <th>2</th>\n",
       "      <td>Construção</td>\n",
       "      <td>Construção de obras de arte especiais</td>\n",
       "      <td>446</td>\n",
       "    </tr>\n",
       "    <tr>\n",
       "      <th>3</th>\n",
       "      <td>Indústria</td>\n",
       "      <td>Atividades relacionadas a esgoto, exceto a ges...</td>\n",
       "      <td>2601</td>\n",
       "    </tr>\n",
       "    <tr>\n",
       "      <th>4</th>\n",
       "      <td>Serviços</td>\n",
       "      <td>Atividades de monitoramento de sistemas de seg...</td>\n",
       "      <td>1107</td>\n",
       "    </tr>\n",
       "  </tbody>\n",
       "</table>\n",
       "</div>"
      ],
      "text/plain": [
       "          Setor                                               CNAE  \\\n",
       "0  Agropecuária                      Criação de frangos para corte   \n",
       "1      Comércio  Comércio atacadista de mercadorias em geral, c...   \n",
       "2    Construção              Construção de obras de arte especiais   \n",
       "3     Indústria  Atividades relacionadas a esgoto, exceto a ges...   \n",
       "4      Serviços  Atividades de monitoramento de sistemas de seg...   \n",
       "\n",
       "   Saldo de Movimentação  \n",
       "0                     26  \n",
       "1                     67  \n",
       "2                    446  \n",
       "3                   2601  \n",
       "4                   1107  "
      ]
     },
     "execution_count": 41,
     "metadata": {},
     "output_type": "execute_result"
    }
   ],
   "source": [
    "top_cnaes_df"
   ]
  },
  {
   "cell_type": "code",
   "execution_count": 42,
   "id": "877918dd",
   "metadata": {
    "execution": {
     "iopub.execute_input": "2025-07-15T18:52:08.888287Z",
     "iopub.status.busy": "2025-07-15T18:52:08.887972Z",
     "iopub.status.idle": "2025-07-15T18:52:08.947570Z",
     "shell.execute_reply": "2025-07-15T18:52:08.946775Z"
    },
    "papermill": {
     "duration": 0.071239,
     "end_time": "2025-07-15T18:52:08.948785",
     "exception": false,
     "start_time": "2025-07-15T18:52:08.877546",
     "status": "completed"
    },
    "tags": []
   },
   "outputs": [],
   "source": [
    "# Filtra pela competência desejada\n",
    "filtro = data[data['ano'] == int(ano)]\n",
    "\n",
    "# Agrupa por setor e CNAE, somando os saldos\n",
    "grupo_saldos = filtro.groupby(['grande_grupamento', 'desc_cnae'])['saldomovimentação'].sum().reset_index()\n",
    "\n",
    "# Para cada setor, pega o CNAE com MENOR saldo\n",
    "bottom_cnaes_df = grupo_saldos.sort_values('saldomovimentação', ascending=True) \\\n",
    "                              .groupby('grande_grupamento') \\\n",
    "                              .first() \\\n",
    "                              .reset_index()\n",
    "\n",
    "# Renomeia as colunas para manter o padrão\n",
    "bottom_cnaes_df = bottom_cnaes_df.rename(columns={\n",
    "    'grande_grupamento': 'Setor',\n",
    "    'desc_cnae': 'CNAE',\n",
    "    'saldomovimentação': 'Saldo de Movimentação'\n",
    "})\n"
   ]
  },
  {
   "cell_type": "code",
   "execution_count": 43,
   "id": "1318e736",
   "metadata": {
    "execution": {
     "iopub.execute_input": "2025-07-15T18:52:08.964927Z",
     "iopub.status.busy": "2025-07-15T18:52:08.964665Z",
     "iopub.status.idle": "2025-07-15T18:52:08.973689Z",
     "shell.execute_reply": "2025-07-15T18:52:08.973008Z"
    },
    "papermill": {
     "duration": 0.017535,
     "end_time": "2025-07-15T18:52:08.974626",
     "exception": false,
     "start_time": "2025-07-15T18:52:08.957091",
     "status": "completed"
    },
    "tags": []
   },
   "outputs": [
    {
     "data": {
      "text/html": [
       "<div>\n",
       "<style scoped>\n",
       "    .dataframe tbody tr th:only-of-type {\n",
       "        vertical-align: middle;\n",
       "    }\n",
       "\n",
       "    .dataframe tbody tr th {\n",
       "        vertical-align: top;\n",
       "    }\n",
       "\n",
       "    .dataframe thead th {\n",
       "        text-align: right;\n",
       "    }\n",
       "</style>\n",
       "<table border=\"1\" class=\"dataframe\">\n",
       "  <thead>\n",
       "    <tr style=\"text-align: right;\">\n",
       "      <th></th>\n",
       "      <th>Setor</th>\n",
       "      <th>CNAE</th>\n",
       "      <th>Saldo de Movimentação</th>\n",
       "    </tr>\n",
       "  </thead>\n",
       "  <tbody>\n",
       "    <tr>\n",
       "      <th>0</th>\n",
       "      <td>Agropecuária</td>\n",
       "      <td>Cultivo de cana-de-açúcar</td>\n",
       "      <td>-45</td>\n",
       "    </tr>\n",
       "    <tr>\n",
       "      <th>1</th>\n",
       "      <td>Comércio</td>\n",
       "      <td>Comércio varejista de artigos do vestuário e a...</td>\n",
       "      <td>-405</td>\n",
       "    </tr>\n",
       "    <tr>\n",
       "      <th>2</th>\n",
       "      <td>Construção</td>\n",
       "      <td>Manutenção de estações e redes de telecomunica...</td>\n",
       "      <td>-46</td>\n",
       "    </tr>\n",
       "    <tr>\n",
       "      <th>3</th>\n",
       "      <td>Indústria</td>\n",
       "      <td>Tecelagem de fios de algodão</td>\n",
       "      <td>-69</td>\n",
       "    </tr>\n",
       "    <tr>\n",
       "      <th>4</th>\n",
       "      <td>Serviços</td>\n",
       "      <td>Seleção e agenciamento de mão de obra</td>\n",
       "      <td>-3296</td>\n",
       "    </tr>\n",
       "  </tbody>\n",
       "</table>\n",
       "</div>"
      ],
      "text/plain": [
       "          Setor                                               CNAE  \\\n",
       "0  Agropecuária                          Cultivo de cana-de-açúcar   \n",
       "1      Comércio  Comércio varejista de artigos do vestuário e a...   \n",
       "2    Construção  Manutenção de estações e redes de telecomunica...   \n",
       "3     Indústria                       Tecelagem de fios de algodão   \n",
       "4      Serviços              Seleção e agenciamento de mão de obra   \n",
       "\n",
       "   Saldo de Movimentação  \n",
       "0                    -45  \n",
       "1                   -405  \n",
       "2                    -46  \n",
       "3                    -69  \n",
       "4                  -3296  "
      ]
     },
     "execution_count": 43,
     "metadata": {},
     "output_type": "execute_result"
    }
   ],
   "source": [
    "bottom_cnaes_df"
   ]
  },
  {
   "cell_type": "code",
   "execution_count": 44,
   "id": "51c1ffa8",
   "metadata": {
    "execution": {
     "iopub.execute_input": "2025-07-15T18:52:08.992320Z",
     "iopub.status.busy": "2025-07-15T18:52:08.992069Z",
     "iopub.status.idle": "2025-07-15T18:52:09.233438Z",
     "shell.execute_reply": "2025-07-15T18:52:09.232187Z"
    },
    "papermill": {
     "duration": 0.252451,
     "end_time": "2025-07-15T18:52:09.234781",
     "exception": false,
     "start_time": "2025-07-15T18:52:08.982330",
     "status": "completed"
    },
    "tags": []
   },
   "outputs": [
    {
     "name": "stderr",
     "output_type": "stream",
     "text": [
      "C:\\Users\\lhayane.macedo\\AppData\\Local\\Temp\\ipykernel_17560\\2654082401.py:54: FutureWarning: \n",
      "\n",
      "Passing `palette` without assigning `hue` is deprecated and will be removed in v0.14.0. Assign the `x` variable to `hue` and set `legend=False` for the same effect.\n",
      "\n",
      "  ax = sns.barplot(x='grande_grupamento', y='saldomovimentação', data=grouped_data, palette='Blues_d')\n"
     ]
    }
   ],
   "source": [
    "import matplotlib.pyplot as plt\n",
    "import seaborn as sns\n",
    "import pandas as pd\n",
    "\n",
    "def criar_grafico_saldo_setor(data, competencia, top_cnaes_df, bottom_cnaes_df):\n",
    "    # Extrair o ano da competência\n",
    "    ano = int(str(competencia)[:4])\n",
    "    data_mes = data[data['ano'] == ano]\n",
    "\n",
    "    # Agrupar os dados por setor\n",
    "    grouped_data = data_mes.groupby('grande_grupamento')['saldomovimentação'].sum().reset_index()\n",
    "\n",
    "    # Obter CNAEs por setor de acordo com o saldo\n",
    "    def obter_desc_cnae(grupo, saldo):\n",
    "        if saldo > 0:\n",
    "            df = top_cnaes_df[top_cnaes_df['Setor'] == grupo]\n",
    "            if not df.empty:\n",
    "                cnae = df.iloc[0]\n",
    "                texto = f\"↑ {cnae['CNAE']}: {int(cnae['Saldo de Movimentação'])}\"\n",
    "                return quebra_linha(texto), '#154c79'\n",
    "        elif saldo < 0:\n",
    "            df = bottom_cnaes_df[bottom_cnaes_df['Setor'] == grupo]\n",
    "            if not df.empty:\n",
    "                cnae = df.iloc[0]\n",
    "                texto = f\"↓ {cnae['CNAE']}: {int(cnae['Saldo de Movimentação'])}\"\n",
    "                return quebra_linha(texto), 'red'\n",
    "        return \"\", 'black'\n",
    "\n",
    "    # Quebra de linha automática\n",
    "    def quebra_linha(texto):\n",
    "        return '\\n'.join([texto[i:i+31] for i in range(0, len(texto), 31)]) if len(texto) > 31 else texto\n",
    "\n",
    "    # Criar colunas com os CNAEs e cores\n",
    "    textos_cnae = []\n",
    "    cores_cnae = []\n",
    "\n",
    "    for i, row in grouped_data.iterrows():\n",
    "        texto, cor = obter_desc_cnae(row['grande_grupamento'], row['saldomovimentação'])\n",
    "        textos_cnae.append(texto)\n",
    "        cores_cnae.append(cor)\n",
    "\n",
    "    grouped_data['desc_cnae'] = textos_cnae\n",
    "    grouped_data['cor_cnae'] = cores_cnae\n",
    "\n",
    "    # Ordenar setores pelo saldo\n",
    "    grouped_data = grouped_data.sort_values(by='saldomovimentação', ascending=False)\n",
    "\n",
    "    # Ajustar altura com base no número de setores\n",
    "    num_setores = len(grouped_data)\n",
    "    altura_figura = max(6, num_setores * 1.2)\n",
    "    plt.figure(figsize=(12, altura_figura))\n",
    "\n",
    "    # Criar gráfico\n",
    "    ax = sns.barplot(x='grande_grupamento', y='saldomovimentação', data=grouped_data, palette='Blues_d')\n",
    "    plt.ylabel(\"\")\n",
    "    plt.xlabel(\"\")\n",
    "    plt.axhline(0, color='black', linewidth=1)\n",
    "\n",
    "    # Limites do eixo Y para posicionar CNAEs abaixo do eixo X\n",
    "    ylim_min, ylim_max = ax.get_ylim()\n",
    "    deslocamento = (ylim_max - ylim_min) * 0.05  # 5% abaixo do eixo\n",
    "\n",
    "    for i, p in enumerate(ax.patches):\n",
    "        height = p.get_height()\n",
    "        cnae_text = grouped_data.iloc[i]['desc_cnae']\n",
    "        cnae_color = grouped_data.iloc[i]['cor_cnae']\n",
    "\n",
    "        # Valor no topo da barra\n",
    "        if height > 0:\n",
    "            y_text = height + (0.01 * (ylim_max - ylim_min))\n",
    "            va_position = \"bottom\"\n",
    "            saldo_color = 'black'\n",
    "        elif height < 0:\n",
    "            y_text = height - (0.01 * (ylim_max - ylim_min))\n",
    "            va_position = \"top\"\n",
    "            saldo_color = 'red'\n",
    "        else:\n",
    "            y_text = 0\n",
    "            va_position = \"bottom\"\n",
    "            saldo_color = 'black'\n",
    "\n",
    "        # Texto do valor\n",
    "        ax.text(p.get_x() + p.get_width() / 2., y_text,\n",
    "                '{:,.0f}'.format(height).replace(',', '.'),\n",
    "                ha=\"center\", va=va_position, fontsize=10, fontweight='bold', color=saldo_color)\n",
    "\n",
    "        # CNAE abaixo do nome do setor\n",
    "        if cnae_text:\n",
    "            y_tick_base = ylim_min - deslocamento\n",
    "            ax.text(p.get_x() + p.get_width() / 2., y_tick_base,\n",
    "                    cnae_text,\n",
    "                    ha=\"center\", va=\"top\", fontsize=8, color=cnae_color)\n",
    "\n",
    "    plt.tight_layout()\n",
    "\n",
    "    # Rodapé\n",
    "    plt.figtext(0.03, -0.01, 'Fonte: Novo Caged (MTE).',\n",
    "                ha='left', fontsize=8, color='gray')\n",
    "    plt.figtext(0.03, -0.03, 'Elaboração: SEBRAE/RN.',\n",
    "                ha='left', fontsize=8, color='gray')\n",
    "\n",
    "    # Salvar gráfico\n",
    "    grafico_path = 'img/grafico_saldo_setor_acumulado.png'\n",
    "    plt.savefig(grafico_path, format='png', bbox_inches='tight', transparent=True)\n",
    "\n",
    "    return grafico_path\n",
    "\n",
    "# Exemplo de uso:\n",
    "grafico_saldo_setor = criar_grafico_saldo_setor(data, competencia, top_cnaes_df, bottom_cnaes_df)\n"
   ]
  },
  {
   "cell_type": "code",
   "execution_count": 45,
   "id": "400e9fcd",
   "metadata": {
    "execution": {
     "iopub.execute_input": "2025-07-15T18:52:09.252887Z",
     "iopub.status.busy": "2025-07-15T18:52:09.251983Z",
     "iopub.status.idle": "2025-07-15T18:52:09.541034Z",
     "shell.execute_reply": "2025-07-15T18:52:09.540306Z"
    },
    "papermill": {
     "duration": 0.29996,
     "end_time": "2025-07-15T18:52:09.542519",
     "exception": false,
     "start_time": "2025-07-15T18:52:09.242559",
     "status": "completed"
    },
    "tags": []
   },
   "outputs": [
    {
     "name": "stderr",
     "output_type": "stream",
     "text": [
      "C:\\Users\\lhayane.macedo\\AppData\\Local\\Temp\\ipykernel_17560\\1420026703.py:53: FutureWarning: \n",
      "\n",
      "Passing `palette` without assigning `hue` is deprecated and will be removed in v0.14.0. Assign the `x` variable to `hue` and set `legend=False` for the same effect.\n",
      "\n",
      "  ax = sns.barplot(x='grande_grupamento', y='saldomovimentação', data=grouped_data, palette='Blues_d')\n"
     ]
    }
   ],
   "source": [
    "import matplotlib.pyplot as plt\n",
    "import seaborn as sns\n",
    "import pandas as pd\n",
    "\n",
    "def criar_grafico_saldo_setor(data, competencia, top_cnaes_df, bottom_cnaes_df):\n",
    "    # Filtrar dados da competência\n",
    "    data_ano = data[data['competênciamov'] == competencia]\n",
    "\n",
    "    # Agrupar por setor\n",
    "    grouped_data = data_ano.groupby('grande_grupamento')['saldomovimentação'].sum().reset_index()\n",
    "\n",
    "    # Obter texto do CNAE por setor\n",
    "    def obter_desc_cnae(grupo, saldo):\n",
    "        if saldo > 0:\n",
    "            df = top_cnaes_df[top_cnaes_df['Setor'] == grupo]\n",
    "            if not df.empty:\n",
    "                cnae = df.iloc[0]\n",
    "                texto = f\"↑ {cnae['CNAE']}: {int(cnae['Saldo de Movimentação'])}\"\n",
    "                return quebra_linha(texto), '#154c79'\n",
    "        elif saldo < 0:\n",
    "            df = bottom_cnaes_df[bottom_cnaes_df['Setor'] == grupo]\n",
    "            if not df.empty:\n",
    "                cnae = df.iloc[0]\n",
    "                texto = f\"↓ {cnae['CNAE']}: {int(cnae['Saldo de Movimentação'])}\"\n",
    "                return quebra_linha(texto), 'red'\n",
    "        return \"\", 'black'\n",
    "\n",
    "    # Quebra linha automática\n",
    "    def quebra_linha(texto):\n",
    "        return '\\n'.join([texto[i:i+31] for i in range(0, len(texto), 31)]) if len(texto) > 31 else texto\n",
    "\n",
    "    # Aplicar textos e cores dos CNAEs\n",
    "    textos_cnae = []\n",
    "    cores_cnae = []\n",
    "\n",
    "    for _, row in grouped_data.iterrows():\n",
    "        texto, cor = obter_desc_cnae(row['grande_grupamento'], row['saldomovimentação'])\n",
    "        textos_cnae.append(texto)\n",
    "        cores_cnae.append(cor)\n",
    "\n",
    "    grouped_data['desc_cnae'] = textos_cnae\n",
    "    grouped_data['cor_cnae'] = cores_cnae\n",
    "\n",
    "    # Ordenar os setores\n",
    "    grouped_data = grouped_data.sort_values(by='saldomovimentação', ascending=False)\n",
    "\n",
    "    # Ajustar tamanho da figura dinamicamente\n",
    "    num_setores = len(grouped_data)\n",
    "    altura_figura = max(6, num_setores * 1.2)\n",
    "    plt.figure(figsize=(12, altura_figura))\n",
    "\n",
    "    # Criar gráfico\n",
    "    ax = sns.barplot(x='grande_grupamento', y='saldomovimentação', data=grouped_data, palette='Blues_d')\n",
    "    plt.ylabel(\"\")\n",
    "    plt.xlabel(\"\")\n",
    "    plt.axhline(0, color='black', linewidth=1)\n",
    "\n",
    "    # Calcular intervalo do eixo Y\n",
    "    ylim_min, ylim_max = ax.get_ylim()\n",
    "    deslocamento = (ylim_max - ylim_min) * 0.05  # 5% de deslocamento para baixo\n",
    "\n",
    "    for i, p in enumerate(ax.patches):\n",
    "        height = p.get_height()\n",
    "        cnae_text = grouped_data.iloc[i]['desc_cnae']\n",
    "        cnae_color = grouped_data.iloc[i]['cor_cnae']\n",
    "\n",
    "        # Texto no topo da barra\n",
    "        if height > 0:\n",
    "            y_text = height + (0.01 * (ylim_max - ylim_min))\n",
    "            va_position = \"bottom\"\n",
    "            saldo_color = 'black'\n",
    "        elif height < 0:\n",
    "            y_text = height - (0.01 * (ylim_max - ylim_min))\n",
    "            va_position = \"top\"\n",
    "            saldo_color = 'red'\n",
    "        else:\n",
    "            y_text = 0\n",
    "            va_position = \"bottom\"\n",
    "            saldo_color = 'black'\n",
    "\n",
    "        ax.text(\n",
    "            p.get_x() + p.get_width() / 2., y_text,\n",
    "            '{:,.0f}'.format(height).replace(',', '.'),\n",
    "            ha=\"center\", va=va_position, fontsize=10, fontweight='bold', color=saldo_color\n",
    "        )\n",
    "\n",
    "        # Texto do CNAE abaixo do nome do setor\n",
    "        if cnae_text:\n",
    "            y_tick_base = ylim_min - deslocamento\n",
    "            ax.text(\n",
    "                p.get_x() + p.get_width() / 2., y_tick_base,\n",
    "                cnae_text,\n",
    "                ha=\"center\", va=\"top\", fontsize=8, color=cnae_color\n",
    "            )\n",
    "\n",
    "    plt.tight_layout()\n",
    "\n",
    "    # Rodapé\n",
    "    plt.figtext(0.03, -0.01, 'Fonte: Novo Caged (MTE).',\n",
    "                ha='left', fontsize=8, color='gray')\n",
    "    plt.figtext(0.03, -0.03, 'Elaboração: SEBRAE/RN.',\n",
    "                ha='left', fontsize=8, color='gray')\n",
    "\n",
    "    # Salvar gráfico\n",
    "    grafico_path = 'img/grafico_saldo_setor_mensal.png'\n",
    "    plt.savefig(grafico_path, format='png', bbox_inches='tight', transparent=True)\n",
    "\n",
    "    return grafico_path\n",
    "\n",
    "# Exemplo de uso:\n",
    "grafico_saldo_setor = criar_grafico_saldo_setor(data, competencia, top_cnaes_df, bottom_cnaes_df)\n"
   ]
  },
  {
   "cell_type": "code",
   "execution_count": 46,
   "id": "3fa256eb",
   "metadata": {
    "execution": {
     "iopub.execute_input": "2025-07-15T18:52:09.562389Z",
     "iopub.status.busy": "2025-07-15T18:52:09.561950Z",
     "iopub.status.idle": "2025-07-15T18:52:09.878832Z",
     "shell.execute_reply": "2025-07-15T18:52:09.878030Z"
    },
    "papermill": {
     "duration": 0.327439,
     "end_time": "2025-07-15T18:52:09.880105",
     "exception": false,
     "start_time": "2025-07-15T18:52:09.552666",
     "status": "completed"
    },
    "tags": []
   },
   "outputs": [
    {
     "name": "stdout",
     "output_type": "stream",
     "text": [
      "Gráfico salvo em: img/grafico_mes_colunas_Natal.png\n"
     ]
    }
   ],
   "source": [
    "import pandas as pd\n",
    "import matplotlib.pyplot as plt\n",
    "import seaborn as sns\n",
    "import calendar\n",
    "import os\n",
    "\n",
    "def criar_grafico_mes_anos_anteriores(data, setor):\n",
    "    data['data'] = pd.to_datetime(data['data'], errors='coerce')\n",
    "\n",
    "    mes_mais_recente = data['data'].max().month\n",
    "    nome_mes_mais_recente = calendar.month_name[mes_mais_recente]\n",
    "\n",
    "    data_filtrada = data[(data['data'].dt.month == mes_mais_recente) & (data['data'].dt.year >= 2020)]\n",
    "\n",
    "    data_grouped = data_filtrada.groupby(data_filtrada['data'].dt.year)['saldomovimentação'].sum().reset_index()\n",
    "    data_grouped.rename(columns={'saldomovimentação': 'Saldo', 'data': 'Ano'}, inplace=True)\n",
    "    data_grouped.rename(columns={data_grouped.columns[0]: 'Ano'}, inplace=True)\n",
    "\n",
    "    plt.figure(figsize=(12, 6))\n",
    "    ax = sns.barplot(x='Ano', y='Saldo', data=data_grouped, color=\"#1574bc\")\n",
    "\n",
    "    plt.xlabel(f\"Ano ({nome_mes_mais_recente})\", fontsize=12)\n",
    "    plt.ylabel(\"Saldo de Movimentações\", fontsize=12)\n",
    "\n",
    "    for p in ax.patches:\n",
    "        height = p.get_height()\n",
    "        cor = '#1574bc' if height >= 0 else '#d62728'\n",
    "        va = 'bottom' if height >= 0 else 'top'\n",
    "        ax.text(\n",
    "            p.get_x() + p.get_width() / 2.,\n",
    "            height,\n",
    "            '{:,.0f}'.format(height).replace(',', '.'),\n",
    "            ha='center', va=va, fontsize=10, fontweight='bold', color=cor\n",
    "        )\n",
    "\n",
    "    plt.figtext(0.1, -0.01, 'Fonte: Novo Caged (MTE).', ha='left', fontsize=8, color='gray')\n",
    "    plt.figtext(0.1, -0.03, 'Elaboração: SEBRAE/RN.', ha='left', fontsize=8, color='gray')\n",
    "\n",
    "    os.makedirs(\"img\", exist_ok=True)\n",
    "    grafico_path = f'img/grafico_mes_colunas_{municipio_nome_limpo}.png'\n",
    "    plt.savefig(grafico_path, format='png', bbox_inches='tight', transparent=True)\n",
    "    plt.close()  # evitar múltiplos gráficos em notebook/pipeline\n",
    "\n",
    "    return grafico_path\n",
    "\n",
    "grafico_path = criar_grafico_mes_anos_anteriores(data, municipio)\n",
    "print(f\"Gráfico salvo em: {grafico_path}\")"
   ]
  },
  {
   "cell_type": "code",
   "execution_count": 47,
   "id": "b887cada",
   "metadata": {
    "colab": {
     "base_uri": "https://localhost:8080/",
     "height": 694
    },
    "execution": {
     "iopub.execute_input": "2025-07-15T18:52:09.906010Z",
     "iopub.status.busy": "2025-07-15T18:52:09.905653Z",
     "iopub.status.idle": "2025-07-15T18:52:10.391466Z",
     "shell.execute_reply": "2025-07-15T18:52:10.390651Z"
    },
    "id": "I9SPIGK63tpl",
    "outputId": "1f6ed97d-4e50-4f68-ce08-5a1943c34003",
    "papermill": {
     "duration": 0.501005,
     "end_time": "2025-07-15T18:52:10.392600",
     "exception": false,
     "start_time": "2025-07-15T18:52:09.891595",
     "status": "completed"
    },
    "tags": []
   },
   "outputs": [
    {
     "name": "stderr",
     "output_type": "stream",
     "text": [
      "C:\\Users\\lhayane.macedo\\AppData\\Local\\Temp\\ipykernel_17560\\2461217741.py:14: FutureWarning: \n",
      "\n",
      "Passing `palette` without assigning `hue` is deprecated and will be removed in v0.14.0. Assign the `x` variable to `hue` and set `legend=False` for the same effect.\n",
      "\n",
      "  ax = sns.barplot(x='porte', y='saldomovimentação', data=grouped_data, palette='Blues_d')\n"
     ]
    }
   ],
   "source": [
    "def criar_grafico_saldo_porte(data):\n",
    "    data['competênciamov'] = data['competênciamov'].astype(str)\n",
    "    # Filtrar os dados onde o ano da 'competênciamov' é igual ao ano de 'competencia'\n",
    "    ano_competencia = str(competencia)[:4]\n",
    "    data_ano = data[data['competênciamov'].str[:4] == ano_competencia]\n",
    "    # Agrupar os dados por 'porte' e somar o saldo de movimentação\n",
    "    grouped_data = data_ano.groupby('porte')['saldomovimentação'].sum().reset_index()\n",
    "\n",
    "    # Ordenar os dados para exibir os maiores valores primeiro, se necessário\n",
    "    grouped_data = grouped_data.sort_values(by='saldomovimentação', ascending=False)\n",
    "\n",
    "    # Criar o gráfico de barras\n",
    "    plt.figure(figsize=(12, 6))\n",
    "    ax = sns.barplot(x='porte', y='saldomovimentação', data=grouped_data, palette='Blues_d')\n",
    "\n",
    "    # Títulos e rótulos\n",
    "    # plt.title(\"Saldo de Movimentação por Setor\")\n",
    "    plt.ylabel(\"\")\n",
    "    plt.xlabel('')  # Remove o nome do eixo X\n",
    "\n",
    "    # Adicionar a linha horizontal no valor 0 do eixo Y\n",
    "    plt.axhline(0, color='black',linewidth=1)\n",
    "\n",
    "    # Adicionar os valores de cada barra dentro delas com formatação\n",
    "    for p in ax.patches:\n",
    "        # Posição de cada barra\n",
    "        height = p.get_height()\n",
    "        # Pegar a cor da barra (cor de preenchimento)\n",
    "        bar_color = p.get_facecolor()\n",
    "        # Colocar o valor na ponta da barra\n",
    "        if height >= 0:\n",
    "            ax.text(p.get_x() + p.get_width() / 2., height,  # Posição para barras positivas\n",
    "                    '{:,.0f}'.format(height).replace(',', '.'),\n",
    "                    ha=\"center\", va=\"bottom\", fontsize=10,\n",
    "                    fontweight='bold', color=bar_color)\n",
    "        else:\n",
    "            ax.text(p.get_x() + p.get_width() / 2., height,  # Posição para barras negativas\n",
    "                    '{:,.0f}'.format(height).replace(',', '.'),\n",
    "                    ha=\"center\", va=\"top\", fontsize=10,\n",
    "                    fontweight='bold', color=bar_color)\n",
    "            \n",
    "    plt.figtext(0.05, -0.01, 'Fonte: Novo Caged (MTE).',\n",
    "                    ha='left', fontsize=8, color='gray', weight='normal')\n",
    "    plt.figtext(0.05, -0.03, 'Elaboração: SEBRAE/RN.',\n",
    "                    ha='left', fontsize=8, color='gray', weight='normal')\n",
    "\n",
    "    # Exibir o gráfico\n",
    "    plt.tight_layout()\n",
    "\n",
    "    # Salvar gráfico como arquivo PNG\n",
    "    grafico_path = 'img/grafico_saldo_porte.png'\n",
    "    plt.savefig(grafico_path, format='png', bbox_inches='tight', transparent=True)\n",
    "\n",
    "    return grafico_path\n",
    "\n",
    "grafico_saldo_porte = criar_grafico_saldo_porte(data)"
   ]
  },
  {
   "cell_type": "code",
   "execution_count": 48,
   "id": "803b9b42",
   "metadata": {
    "execution": {
     "iopub.execute_input": "2025-07-15T18:52:10.410774Z",
     "iopub.status.busy": "2025-07-15T18:52:10.410439Z",
     "iopub.status.idle": "2025-07-15T18:52:10.628477Z",
     "shell.execute_reply": "2025-07-15T18:52:10.627927Z"
    },
    "papermill": {
     "duration": 0.228389,
     "end_time": "2025-07-15T18:52:10.629444",
     "exception": false,
     "start_time": "2025-07-15T18:52:10.401055",
     "status": "completed"
    },
    "tags": []
   },
   "outputs": [
    {
     "name": "stderr",
     "output_type": "stream",
     "text": [
      "C:\\Users\\lhayane.macedo\\AppData\\Local\\Temp\\ipykernel_17560\\1270981976.py:13: FutureWarning: \n",
      "\n",
      "Passing `palette` without assigning `hue` is deprecated and will be removed in v0.14.0. Assign the `x` variable to `hue` and set `legend=False` for the same effect.\n",
      "\n",
      "  ax = sns.barplot(x='Estado', y='Saldo', data=grouped_data, palette=colors)\n"
     ]
    },
    {
     "name": "stdout",
     "output_type": "stream",
     "text": [
      "Gráfico salvo em: img/grafico_nordeste.png\n"
     ]
    }
   ],
   "source": [
    "import matplotlib.pyplot as plt\n",
    "import seaborn as sns\n",
    "\n",
    "def criar_grafico_nordeste(data):\n",
    "    # Ordenar os dados por saldo para exibir os maiores valores primeiro, se necessário\n",
    "    grouped_data = data.sort_values(by='Saldo', ascending=False)\n",
    "\n",
    "    # Customizar as cores das barras\n",
    "    colors = ['#3a4e5c' if nome == 'Rio Grande do Norte' else '#6c9dbf' for nome in grouped_data['Estado']]\n",
    "\n",
    "    # Criar o gráfico de barras\n",
    "    plt.figure(figsize=(12, 6))\n",
    "    ax = sns.barplot(x='Estado', y='Saldo', data=grouped_data, palette=colors)\n",
    "\n",
    "    # Títulos e rótulos\n",
    "    plt.ylabel(\"\")  # Remove o nome do eixo Y\n",
    "    plt.xlabel(\"\")  # Remove o nome do eixo X\n",
    "\n",
    "    # Adicionar uma linha horizontal no valor 0 do eixo Y\n",
    "    plt.axhline(0, color='black', linewidth=1)\n",
    "\n",
    "    # Adicionar os valores de cada barra no gráfico\n",
    "    for p, color in zip(ax.patches, colors):\n",
    "        # Obter a altura da barra\n",
    "        height = p.get_height()\n",
    "        # Adicionar rótulo na parte superior da barra (ou inferior se for negativo)\n",
    "        if height >= 0:\n",
    "            ax.text(p.get_x() + p.get_width() / 2., height,  # Para barras positivas\n",
    "                    '{:,.0f}'.format(height).replace(',', '.'),\n",
    "                    ha=\"center\", va=\"bottom\", fontsize=10,\n",
    "                    fontweight='bold', color=color)\n",
    "        else:\n",
    "            ax.text(p.get_x() + p.get_width() / 2., height,  # Para barras negativas\n",
    "                    '{:,.0f}'.format(height).replace(',', '.'),\n",
    "                    ha=\"center\", va=\"top\", fontsize=10,\n",
    "                    fontweight='bold', color=color)\n",
    "            \n",
    "    plt.figtext(0.05, -0.01, 'Fonte: Novo Caged (MTE).',\n",
    "                    ha='left', fontsize=8, color='gray', weight='normal')\n",
    "    plt.figtext(0.05, -0.03, 'Elaboração: SEBRAE/RN.',\n",
    "                    ha='left', fontsize=8, color='gray', weight='normal')\n",
    "\n",
    "    # Ajustar layout\n",
    "    plt.tight_layout()\n",
    "\n",
    "    # Salvar o gráfico como arquivo PNG\n",
    "    grafico_path = 'img/grafico_nordeste.png'\n",
    "    plt.savefig(grafico_path, format='png', bbox_inches='tight', transparent=True)\n",
    "\n",
    "    return grafico_path\n",
    "\n",
    "# Exemplo de chamada da função\n",
    "grafico_nordeste = criar_grafico_nordeste(caged_nordeste)\n",
    "print(f\"Gráfico salvo em: {grafico_nordeste}\")\n"
   ]
  },
  {
   "cell_type": "code",
   "execution_count": 49,
   "id": "a5fa13ed",
   "metadata": {
    "execution": {
     "iopub.execute_input": "2025-07-15T18:52:10.646303Z",
     "iopub.status.busy": "2025-07-15T18:52:10.645992Z",
     "iopub.status.idle": "2025-07-15T18:52:11.201901Z",
     "shell.execute_reply": "2025-07-15T18:52:11.200826Z"
    },
    "papermill": {
     "duration": 0.565783,
     "end_time": "2025-07-15T18:52:11.203598",
     "exception": false,
     "start_time": "2025-07-15T18:52:10.637815",
     "status": "completed"
    },
    "tags": []
   },
   "outputs": [
    {
     "name": "stderr",
     "output_type": "stream",
     "text": [
      "C:\\Users\\lhayane.macedo\\AppData\\Local\\Temp\\ipykernel_17560\\1549733154.py:15: SettingWithCopyWarning: \n",
      "A value is trying to be set on a copy of a slice from a DataFrame.\n",
      "Try using .loc[row_indexer,col_indexer] = value instead\n",
      "\n",
      "See the caveats in the documentation: https://pandas.pydata.org/pandas-docs/stable/user_guide/indexing.html#returning-a-view-versus-a-copy\n",
      "  data_ano['data'] = pd.to_datetime(data_ano['data'])\n"
     ]
    },
    {
     "name": "stderr",
     "output_type": "stream",
     "text": [
      "C:\\Users\\lhayane.macedo\\AppData\\Local\\Temp\\ipykernel_17560\\1549733154.py:73: UserWarning: FigureCanvasAgg is non-interactive, and thus cannot be shown\n",
      "  plt.show()\n"
     ]
    }
   ],
   "source": [
    "import matplotlib.pyplot as plt\n",
    "import matplotlib.dates as mdates\n",
    "import seaborn as sns\n",
    "import pandas as pd\n",
    "\n",
    "def criar_grafico_ts_porte(data):\n",
    "    # Converter a coluna 'competênciamov' para string, caso não seja\n",
    "    data['competênciamov'] = data['competênciamov'].astype(str)\n",
    "\n",
    "    # Filtrar os dados onde o ano da 'competênciamov' é igual ao ano de 'competencia'\n",
    "    ano_competencia = str(competencia)[:4]\n",
    "    data_ano = data[data['competênciamov'].str[:4] == ano_competencia]\n",
    "\n",
    "    # Garantir que a coluna 'data' seja do tipo datetime\n",
    "    data_ano['data'] = pd.to_datetime(data_ano['data'])\n",
    "\n",
    "    # Agrupar os dados por 'data' e 'porte', somando os valores de 'saldomovimentação'\n",
    "    grouped_data = data_ano.groupby(['data', 'porte'])['saldomovimentação'].sum().reset_index()\n",
    "\n",
    "    # Obter a lista de valores únicos de 'porte' e associar cores\n",
    "    unique_porte = grouped_data['porte'].unique()\n",
    "    palette = sns.color_palette(\"muted\", n_colors=len(unique_porte))\n",
    "    color_mapping = dict(zip(unique_porte, palette))\n",
    "\n",
    "    # Criar o gráfico com hue para a coluna 'porte'\n",
    "    plt.figure(figsize=(12, 6))\n",
    "    ax = sns.lineplot(x='data', y='saldomovimentação', hue='porte', data=grouped_data, \n",
    "                      marker=\"o\", palette=color_mapping)\n",
    "\n",
    "    # Títulos e rótulos (ajustáveis conforme necessidade)\n",
    "    plt.title(\"\")\n",
    "    plt.xlabel(\"\")\n",
    "    plt.ylabel(\"\")\n",
    "\n",
    "    # Adicionar a linha cinza no eixo Y = 0\n",
    "    plt.axhline(0, color='lightgray', linestyle='--', linewidth=1)\n",
    "    \n",
    "    # Formatar os rótulos do eixo X para exibir apenas mês/ano\n",
    "    plt.gca().xaxis.set_major_formatter(mdates.DateFormatter('%m/%Y'))\n",
    "    plt.gca().xaxis.set_major_locator(mdates.MonthLocator(interval=1))  # Exibe de 1 em 1 mês\n",
    "    plt.xticks(rotation=45)\n",
    "\n",
    "    # Configurar os ticks do eixo X para garantir que todos os pontos sejam exibidos\n",
    "    unique_dates = grouped_data['data'].unique()\n",
    "    plt.xticks(ticks=unique_dates, labels=[date.strftime('%m/%Y') for date in unique_dates])\n",
    "\n",
    "    # Adicionar valores exatamente no centro dos pontos, com background colorido e números brancos\n",
    "    for porte in grouped_data['porte'].unique():\n",
    "        porte_data = grouped_data[grouped_data['porte'] == porte]\n",
    "        for x, y in zip(porte_data['data'], porte_data['saldomovimentação']):\n",
    "            # Adicionar texto com um fundo colorido (mesma cor da linha) e texto branco\n",
    "            plt.text(\n",
    "                x, y, f'{int(y):,}'.replace(',', '.'),  # Formatação do número\n",
    "                ha='center', va='center', fontsize=8, color='white',  # Cor do número\n",
    "                bbox=dict(facecolor=color_mapping[porte], edgecolor='none', boxstyle='round,pad=0.2')  # Fundo colorido\n",
    "            )\n",
    "\n",
    "    # Legenda dentro do gráfico no canto superior esquerdo\n",
    "    plt.legend(\n",
    "        title=\"Porte\", loc=\"upper left\", frameon=True, fontsize=8,\n",
    "        title_fontsize=10, facecolor='white', edgecolor='black', fancybox=True\n",
    "    )\n",
    "\n",
    "    # Notas no rodapé\n",
    "    plt.figtext(0.08, -0.01, 'Fonte: Novo Caged (MTE).',\n",
    "                ha='left', fontsize=8, color='gray', weight='normal')\n",
    "    plt.figtext(0.08, -0.03, 'Elaboração: SEBRAE/RN.',\n",
    "                ha='left', fontsize=8, color='gray', weight='normal')\n",
    "\n",
    "    # Salvar gráfico\n",
    "    grafico_path = 'img/grafico_ts_porte.png'\n",
    "    plt.savefig(grafico_path, format='png', bbox_inches='tight', transparent=True)\n",
    "    plt.show()\n",
    "    return grafico_path\n",
    "\n",
    "# Uso da função\n",
    "grafico_ts_porte = criar_grafico_ts_porte(data)\n"
   ]
  },
  {
   "cell_type": "markdown",
   "id": "6582d2b6",
   "metadata": {
    "id": "RPFUea08mQI1",
    "papermill": {
     "duration": 0.009378,
     "end_time": "2025-07-15T18:52:11.220961",
     "exception": false,
     "start_time": "2025-07-15T18:52:11.211583",
     "status": "completed"
    },
    "tags": []
   },
   "source": [
    "# PDF"
   ]
  },
  {
   "cell_type": "code",
   "execution_count": 50,
   "id": "ead24c2b",
   "metadata": {
    "colab": {
     "base_uri": "https://localhost:8080/"
    },
    "execution": {
     "iopub.execute_input": "2025-07-15T18:52:11.239182Z",
     "iopub.status.busy": "2025-07-15T18:52:11.238879Z",
     "iopub.status.idle": "2025-07-15T18:52:12.245331Z",
     "shell.execute_reply": "2025-07-15T18:52:12.244552Z"
    },
    "id": "ZCct9pUl-Tvp",
    "outputId": "12a9025b-46cd-4bfc-c6d3-345068a98542",
    "papermill": {
     "duration": 1.018177,
     "end_time": "2025-07-15T18:52:12.246674",
     "exception": false,
     "start_time": "2025-07-15T18:52:11.228497",
     "status": "completed"
    },
    "tags": []
   },
   "outputs": [
    {
     "name": "stderr",
     "output_type": "stream",
     "text": [
      "<>:17: SyntaxWarning: invalid escape sequence '\\h'\n",
      "<>:17: SyntaxWarning: invalid escape sequence '\\h'\n",
      "C:\\Users\\lhayane.macedo\\AppData\\Local\\Temp\\ipykernel_17560\\2629138342.py:17: SyntaxWarning: invalid escape sequence '\\h'\n",
      "  header_image_base64 = imagem_para_base64('img\\header-emprego.png')\n"
     ]
    }
   ],
   "source": [
    "# Função para converter a imagem em Base64 (para embutir no HTML)\n",
    "def imagem_para_base64(caminho_imagem):\n",
    "    with open(caminho_imagem, \"rb\") as img_file:\n",
    "        return base64.b64encode(img_file.read()).decode('utf-8')\n",
    "\n",
    "# Função para gerar o conteúdo HTML\n",
    "def gerar_html(admissoes, saldo, desligamentos, estoque_clt):\n",
    "    grafico_acumulado_ano_e_mes ='img/grafico_acumulado_ano_e_mes.png'\n",
    "    grafico_saldo_ts = f'img/grafico_saldo_ts_{municipio_nome_limpo}.png'\n",
    "    grafico_saldo_setor_mensal = 'img/grafico_saldo_setor_mensal.png'\n",
    "    grafico_saldo_setor_acumulado = 'img/grafico_saldo_setor_acumulado.png'\n",
    "    grafico_mes_colunas = f'img/grafico_mes_colunas_{municipio_nome_limpo}.png'\n",
    "    grafico_saldo_porte = 'img/grafico_saldo_porte.png'\n",
    "    grafico_ts_porte = 'img/grafico_ts_porte.png'\n",
    "\n",
    "    # Converter a imagem de cabeçalho em base64\n",
    "    header_image_base64 = imagem_para_base64('img\\header-emprego.png')\n",
    "\n",
    "    # Converter o gráfico em base64\n",
    "    grafico_saldo_ts_b64 = imagem_para_base64(grafico_saldo_ts)\n",
    "    grafico_saldo_setor_mensal_b64 = imagem_para_base64(grafico_saldo_setor_mensal)\n",
    "    grafico_saldo_setor_acumulado_b64 = imagem_para_base64(grafico_saldo_setor_acumulado)\n",
    "    grafico_mes_colunas_b64 = imagem_para_base64(grafico_mes_colunas)\n",
    "    grafico_saldo_porte_b64 = imagem_para_base64(grafico_saldo_porte)\n",
    "    grafico_ts_porte_b64 = imagem_para_base64(grafico_ts_porte)\n",
    "    grafico_acumulado_ano_e_mes_b64 = imagem_para_base64(grafico_acumulado_ano_e_mes)\n",
    "\n",
    "    # Criar conteúdo HTML\n",
    "    html_content = f\"\"\"\n",
    "    <!DOCTYPE html>\n",
    "    <html lang=\"pt-br\">\n",
    "    <head>\n",
    "        <meta http-equiv=\"Content-Type\" content=\"text/html; charset=utf-8\">\n",
    "        <title>Boletim de Emprego</title>\n",
    "        <style>\n",
    "            @page {{\n",
    "                size: 1080px 720px;\n",
    "                margin: 0;\n",
    "            }}\n",
    "\n",
    "            /* Definir o fundo da página */\n",
    "            body {{\n",
    "                background-color: #f3f3f3; /* Cor de fundo */\n",
    "                font-family: Arial, sans-serif;\n",
    "                margin: 0;\n",
    "                padding: 0;\n",
    "            }}\n",
    "            header {{\n",
    "                background-image: url('data:image/png;base64,{header_image_base64}');\n",
    "                background-repeat: no-repeat;\n",
    "                background-size: 100% 100%;\n",
    "                background-position: center;\n",
    "                height: 360px;\n",
    "                text-align: center;\n",
    "                color: white;\n",
    "                font-size: 24px;\n",
    "                display: flex;\n",
    "                align-items: center;\n",
    "                justify-content: center;\n",
    "            }}\n",
    "                .mes {{\n",
    "                font-size: 24px;\n",
    "                font-weight: bold;\n",
    "                color: #333;\n",
    "                text-align: center;\n",
    "                margin-top: 30px;\n",
    "            }}\n",
    "\n",
    "            /* Estilo para as caixinhas */\n",
    "            .informacoes {{\n",
    "                display: flex;\n",
    "                justify-content: space-between;\n",
    "                padding: 20px;\n",
    "                margin: 20px 30px;\n",
    "            }}\n",
    "            .caixinha {{\n",
    "                background-color: #fff;\n",
    "                border: 1px solid #ddd;\n",
    "                padding: 30px;\n",
    "                text-align: center;\n",
    "                width: 22%;\n",
    "                border-radius: 10px;\n",
    "                box-shadow: 0 4px 6px rgba(0, 0, 0, 0.1);\n",
    "            }}\n",
    "            .caixinha h3 {{\n",
    "                font-size: 20px;\n",
    "                color: #1574bc;\n",
    "            }}\n",
    "            .caixinha p {{\n",
    "                font-size: 24px;\n",
    "                font-weight: bold;\n",
    "                color: #333;\n",
    "            }}\n",
    "            .grafico h3 {{\n",
    "                font-size: 24px;\n",
    "                font-weight: bold;\n",
    "                color: #333;\n",
    "                text-align: center;\n",
    "                padding-top: 60px;\n",
    "            }}\n",
    "\n",
    "            .grafico h2 {{\n",
    "                padding-top= -15px;\n",
    "                font-size: 18px;\n",
    "                color: #333;\n",
    "                text-align: center;\n",
    "                font-weight: normal;\n",
    "            }}\n",
    "\n",
    "            .grafico img {{\n",
    "                width: 1000px;\n",
    "                padding-top: 20px;\n",
    "                padding-left: 30px;\n",
    "            }}\n",
    "\n",
    "            .tabela {{\n",
    "                width: 100%;\n",
    "                border-collapse: collapse;\n",
    "                margin-top: 20px;\n",
    "            }}\n",
    "            th, td {{\n",
    "                padding: 10px;\n",
    "                text-align: center;\n",
    "                border: 1px solid #ddd;\n",
    "            }}\n",
    "            th {{\n",
    "                background-color: #333;\n",
    "                color: white;\n",
    "            }}\n",
    "            td {{\n",
    "                background-color: #fff;\n",
    "            }}\n",
    "            footer {{\n",
    "                text-align: center;\n",
    "                font-size: 12px;\n",
    "                margin-top: 30px;\n",
    "            }}\n",
    "        </style>\n",
    "    </head>\n",
    "    <body>\n",
    "        <header>\n",
    "        </header>\n",
    "\n",
    "        <!-- Seção do título do mês -->\n",
    "        <div class=\"mes\">{mes_referente} - {municipio}</div>\n",
    "\n",
    "        <!-- Seção das Caixinhas -->\n",
    "        <div class=\"informacoes\">\n",
    "            <div class=\"caixinha\">\n",
    "                <h3>Admissões</h3>\n",
    "                <p>{total_admissoes}</p>\n",
    "            </div>\n",
    "            <div class=\"caixinha\">\n",
    "                <h3>Saldo</h3>\n",
    "                <p>{saldo}</p>\n",
    "            </div>\n",
    "            <div class=\"caixinha\">\n",
    "                <h3>Desligamentos</h3>\n",
    "                <p>{total_desligamentos}</p>\n",
    "            </div>\n",
    "            <div class=\"caixinha\">\n",
    "                <h3>Estoque CLT</h3>\n",
    "                <p>{estoque_clt}</p>\n",
    "            </div>\n",
    "        </div>\n",
    "        <div class=\"grafico\">\n",
    "            <h3>Saldo de Emprego Acumulado e {mes_nome} - {municipio}</h3>\n",
    "            <img src=\"data:image/png;base64,{grafico_acumulado_ano_e_mes_b64}\">\n",
    "        </div>\n",
    "\n",
    "        <div class=\"grafico\">\n",
    "            <h3>Saldo de Emprego por Mês - {municipio}</h3>\n",
    "            <img src=\"data:image/png;base64,{grafico_saldo_ts_b64}\">\n",
    "        </div>\n",
    "\n",
    "        <div class=\"grafico\">\n",
    "            <h3>Saldo de Emprego Acumulado de {ano} por Setor - {municipio}</h3>\n",
    "            <img src=\"data:image/png;base64,{grafico_saldo_setor_acumulado_b64}\">\n",
    "        </div>\n",
    "\n",
    "        <div class=\"grafico\">\n",
    "            <h3>Saldo de Emprego em {mes_nome} por Setor - {municipio}</h3>\n",
    "            <img src=\"data:image/png;base64,{grafico_saldo_setor_mensal_b64}\">\n",
    "        </div>\n",
    "\n",
    "        <div class=\"grafico\">\n",
    "            <h3>Saldo de Emprego nos Meses de {mes_nome} - {municipio}</h3>\n",
    "            <img src=\"data:image/png;base64,{grafico_mes_colunas_b64}\">\n",
    "        </div>\n",
    "\n",
    "       <div class=\"grafico\">\n",
    "            <h3>Saldo Acumulado de Emprego de {ano} por Porte - {municipio}</h3>\n",
    "            <img src=\"data:image/png;base64,{grafico_saldo_porte_b64}\">\n",
    "        </div>\n",
    "\n",
    "        <div class=\"grafico\">\n",
    "            <h3>Saldo de Emprego por Mês e Porte - {municipio}</h3>\n",
    "            <img src=\"data:image/png;base64,{grafico_ts_porte_b64}\">\n",
    "        </div>\n",
    "\n",
    "    </body>\n",
    "    </html>\n",
    "    \"\"\"\n",
    "\n",
    "    return html_content\n",
    "\n",
    "def gerar_pdf(html_content, file_path):\n",
    "  weasyprint.HTML(string=html_content).write_pdf(file_path)\n",
    "\n",
    "# Gerar HTML com os valores das variáveis\n",
    "html_content = gerar_html(total_admissoes, saldo, total_desligamentos, estoque)\n",
    "\n",
    "# Gerar o PDF\n",
    "gerar_pdf(html_content, f\"pdfs/boletim_emprego_{competencia}-{municipio_nome_limpo}.pdf\")"
   ]
  }
 ],
 "metadata": {
  "colab": {
   "provenance": []
  },
  "kernelspec": {
   "display_name": "venv",
   "language": "python",
   "name": "python3"
  },
  "language_info": {
   "codemirror_mode": {
    "name": "ipython",
    "version": 3
   },
   "file_extension": ".py",
   "mimetype": "text/x-python",
   "name": "python",
   "nbconvert_exporter": "python",
   "pygments_lexer": "ipython3",
   "version": "3.13.0"
  },
  "papermill": {
   "default_parameters": {},
   "duration": 25.304238,
   "end_time": "2025-07-15T18:52:13.479657",
   "environment_variables": {},
   "exception": null,
   "input_path": "Generate_Boletim_Emprego-MUN.ipynb",
   "output_path": "Generate_Boletim_Emprego-MUN.ipynb",
   "parameters": {
    "municipio": "Natal"
   },
   "start_time": "2025-07-15T18:51:48.175419",
   "version": "2.6.0"
  }
 },
 "nbformat": 4,
 "nbformat_minor": 5
}